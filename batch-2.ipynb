{
 "cells": [
  {
   "cell_type": "code",
   "execution_count": null,
   "metadata": {},
   "outputs": [],
   "source": [
    "\"\"\"\n",
    "1 )\n",
    "Find the t-statistic for the sample data given that the mean of the distribution is 12.\n",
    "Sample data:\n",
    "7 7 9 10 7 10 7 9 9 8\n",
    "\n",
    "(a) 0.2799\n",
    "(b) 4.0725\n",
    "(c) -9.3479\n",
    "(d) 1.44\n",
    "Correct Answer : -9.3479\n",
    "\"\"\""
   ]
  },
  {
   "cell_type": "code",
   "execution_count": 3,
   "metadata": {},
   "outputs": [
    {
     "ename": "TypeError",
     "evalue": "_parse_args() missing 1 required positional argument: 'df'",
     "output_type": "error",
     "traceback": [
      "\u001b[0;31m---------------------------------------------------------------------------\u001b[0m",
      "\u001b[0;31mTypeError\u001b[0m                                 Traceback (most recent call last)",
      "\u001b[1;32m/home/novasangeeth/work/pytest-workouts/batch-2.ipynb Cell 2'\u001b[0m in \u001b[0;36m<cell line: 3>\u001b[0;34m()\u001b[0m\n\u001b[1;32m      <a href='vscode-notebook-cell:/home/novasangeeth/work/pytest-workouts/batch-2.ipynb#ch0000001?line=0'>1</a>\u001b[0m \u001b[39mfrom\u001b[39;00m \u001b[39mscipy\u001b[39;00m \u001b[39mimport\u001b[39;00m stats\n\u001b[1;32m      <a href='vscode-notebook-cell:/home/novasangeeth/work/pytest-workouts/batch-2.ipynb#ch0000001?line=1'>2</a>\u001b[0m arr \u001b[39m=\u001b[39m [\u001b[39m7\u001b[39m, \u001b[39m7\u001b[39m, \u001b[39m9\u001b[39m, \u001b[39m10\u001b[39m, \u001b[39m7\u001b[39m, \u001b[39m10\u001b[39m, \u001b[39m7\u001b[39m, \u001b[39m9\u001b[39m, \u001b[39m9\u001b[39m, \u001b[39m8\u001b[39m]\n\u001b[0;32m----> <a href='vscode-notebook-cell:/home/novasangeeth/work/pytest-workouts/batch-2.ipynb#ch0000001?line=2'>3</a>\u001b[0m stats\u001b[39m.\u001b[39;49mt\u001b[39m.\u001b[39;49mppf(arr)\n",
      "File \u001b[0;32m~/work/pytest-workouts/env/lib/python3.10/site-packages/scipy/stats/_distn_infrastructure.py:2151\u001b[0m, in \u001b[0;36mrv_continuous.ppf\u001b[0;34m(self, q, *args, **kwds)\u001b[0m\n\u001b[1;32m   2130\u001b[0m \u001b[39mdef\u001b[39;00m \u001b[39mppf\u001b[39m(\u001b[39mself\u001b[39m, q, \u001b[39m*\u001b[39margs, \u001b[39m*\u001b[39m\u001b[39m*\u001b[39mkwds):\n\u001b[1;32m   2131\u001b[0m     \u001b[39m\"\"\"Percent point function (inverse of `cdf`) at q of the given RV.\u001b[39;00m\n\u001b[1;32m   2132\u001b[0m \n\u001b[1;32m   2133\u001b[0m \u001b[39m    Parameters\u001b[39;00m\n\u001b[0;32m   (...)\u001b[0m\n\u001b[1;32m   2149\u001b[0m \n\u001b[1;32m   2150\u001b[0m \u001b[39m    \"\"\"\u001b[39;00m\n\u001b[0;32m-> 2151\u001b[0m     args, loc, scale \u001b[39m=\u001b[39m \u001b[39mself\u001b[39;49m\u001b[39m.\u001b[39;49m_parse_args(\u001b[39m*\u001b[39;49margs, \u001b[39m*\u001b[39;49m\u001b[39m*\u001b[39;49mkwds)\n\u001b[1;32m   2152\u001b[0m     q, loc, scale \u001b[39m=\u001b[39m \u001b[39mmap\u001b[39m(asarray, (q, loc, scale))\n\u001b[1;32m   2153\u001b[0m     args \u001b[39m=\u001b[39m \u001b[39mtuple\u001b[39m(\u001b[39mmap\u001b[39m(asarray, args))\n",
      "\u001b[0;31mTypeError\u001b[0m: _parse_args() missing 1 required positional argument: 'df'"
     ]
    }
   ],
   "source": [
    "from scipy import stats\n",
    "arr = [7, 7, 9, 10, 7, 10, 7, 9, 9, 8]\n",
    "stats.t.ppf(arr)"
   ]
  },
  {
   "cell_type": "code",
   "execution_count": 3,
   "metadata": {},
   "outputs": [],
   "source": [
    "\"\"\"\n",
    "Two balls are randomly drawn one after the other without replacement from a bowl containing \n",
    "15 white balls and \n",
    "4 black balls. \n",
    "If the first ball drawn is white, \n",
    "what is the probability that the second ball\n",
    "drawn is black ?\n",
    "\"\"\"\n",
    "\n",
    "\n",
    "balls_drawn = 2\n",
    "white_balls = 15\n",
    "black_balls = 4\n",
    "\n",
    "\n"
   ]
  },
  {
   "cell_type": "code",
   "execution_count": 4,
   "metadata": {},
   "outputs": [
    {
     "data": {
      "text/plain": [
       "19"
      ]
     },
     "execution_count": 4,
     "metadata": {},
     "output_type": "execute_result"
    }
   ],
   "source": [
    "white_balls + black_balls"
   ]
  },
  {
   "cell_type": "code",
   "execution_count": 5,
   "metadata": {},
   "outputs": [
    {
     "data": {
      "text/plain": [
       "0.7894736842105263"
      ]
     },
     "execution_count": 5,
     "metadata": {},
     "output_type": "execute_result"
    }
   ],
   "source": [
    "15/19"
   ]
  },
  {
   "cell_type": "code",
   "execution_count": 6,
   "metadata": {},
   "outputs": [
    {
     "data": {
      "text/plain": [
       "0.39473684210526316"
      ]
     },
     "execution_count": 6,
     "metadata": {},
     "output_type": "execute_result"
    }
   ],
   "source": [
    "0.7894736842105263 / 2\n"
   ]
  },
  {
   "cell_type": "code",
   "execution_count": null,
   "metadata": {},
   "outputs": [],
   "source": [
    "\"\"\"\n",
    "14 ) The mean of the observations of the first 43 observations of a process is 16. If the 44^th\n",
    "observation is 5, then the mean of the first 44 observations of the process is _________\n",
    "(a) 15.75\n",
    "(b) 0.48\n",
    "(c) 5.36\n",
    "(d) 21\n",
    "Correct Answer : 15.75\n",
    "\"\"\""
   ]
  },
  {
   "cell_type": "code",
   "execution_count": 11,
   "metadata": {},
   "outputs": [
    {
     "data": {
      "text/plain": [
       "5.0"
      ]
     },
     "execution_count": 11,
     "metadata": {},
     "output_type": "execute_result"
    }
   ],
   "source": [
    "5 * 44/44\n"
   ]
  },
  {
   "cell_type": "code",
   "execution_count": null,
   "metadata": {},
   "outputs": [],
   "source": []
  }
 ],
 "metadata": {
  "kernelspec": {
   "display_name": "Python 3.10.4 ('env': venv)",
   "language": "python",
   "name": "python3"
  },
  "language_info": {
   "codemirror_mode": {
    "name": "ipython",
    "version": 3
   },
   "file_extension": ".py",
   "mimetype": "text/x-python",
   "name": "python",
   "nbconvert_exporter": "python",
   "pygments_lexer": "ipython3",
   "version": "3.10.4"
  },
  "orig_nbformat": 4,
  "vscode": {
   "interpreter": {
    "hash": "2dec88fdd1184d4c5d842496b8ff3ed4cbe810fb929f2402ac3de3544bb48ac8"
   }
  }
 },
 "nbformat": 4,
 "nbformat_minor": 2
}
