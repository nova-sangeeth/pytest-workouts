{
 "cells": [
  {
   "cell_type": "code",
   "execution_count": 2,
   "metadata": {},
   "outputs": [],
   "source": [
    "import numpy as np\n",
    "import pandas as pd\n",
    "import seaborn as sns\n",
    "import matplotlib.pyplot as plt\n",
    "import scipy\n",
    "from scipy.stats import ttest_1samp\n",
    "from scipy.stats import ttest_ind\n",
    "from scipy.stats import t\n",
    "from scipy.stats import f\n",
    "from scipy.stats import norm\n",
    "from statsmodels.stats.proportion import proportions_ztest\n"
   ]
  },
  {
   "cell_type": "code",
   "execution_count": 20,
   "metadata": {},
   "outputs": [
    {
     "data": {
      "text/plain": [
       "4"
      ]
     },
     "execution_count": 20,
     "metadata": {},
     "output_type": "execute_result"
    }
   ],
   "source": [
    "# python function to find the rank of the matrix\n",
    "def rank(A):\n",
    "    A = np.array(A)\n",
    "    h, w = A.shape\n",
    "    for i in range(h):\n",
    "        if np.all(A[i:, i] == 0):\n",
    "            A = np.delete(A, i, 0)\n",
    "            A = np.delete(A, i, 1)\n",
    "            h -= 1\n",
    "    return h\n",
    "\n",
    "    # 2 * 2 matrix\n",
    "A = [[4, 5, 16, 7], [2, -3, 2, 3], [3, 4, 5, 6], [4, 7, 8, 9]]\n",
    "\n",
    "rank(A)\n"
   ]
  },
  {
   "cell_type": "code",
   "execution_count": 4,
   "metadata": {},
   "outputs": [
    {
     "data": {
      "text/plain": [
       "115506.00000000006"
      ]
     },
     "execution_count": 4,
     "metadata": {},
     "output_type": "execute_result"
    }
   ],
   "source": [
    "# the determinant of a matrix.\n",
    "Z = [[-2, 32, 24], [92, 66, 25], [-80, 37, 10]]\n",
    "np.linalg.det(Z)\n"
   ]
  },
  {
   "cell_type": "code",
   "execution_count": 5,
   "metadata": {},
   "outputs": [
    {
     "data": {
      "text/plain": [
       "array([[ 9.37500000e-02, -4.68750000e-01,  3.68750000e+00,\n",
       "        -2.37500000e+00],\n",
       "       [ 1.00929366e-16, -2.50000000e-01,  5.00000000e-01,\n",
       "        -2.50000000e-01],\n",
       "       [ 9.37500000e-02,  3.12500000e-02, -3.12500000e-01,\n",
       "         1.25000000e-01],\n",
       "       [-1.25000000e-01,  3.75000000e-01, -1.75000000e+00,\n",
       "         1.25000000e+00]])"
      ]
     },
     "execution_count": 5,
     "metadata": {},
     "output_type": "execute_result"
    }
   ],
   "source": [
    "# inverse of a matrix\n",
    "P = [[2, 1, 2], [1, 0, 1], [3, 1, 3]]\n",
    "# function to find the inverse of a matrix\n",
    "\n",
    "\n",
    "def inverse(A):\n",
    "    A = np.array(A)\n",
    "    h, w = A.shape\n",
    "    if h != w:\n",
    "        raise ValueError(\"Matrix must be square\")\n",
    "    if np.linalg.det(A) == 0:\n",
    "        raise ValueError(\"Matrix must be non-singular\")\n",
    "    return np.linalg.inv(A)\n",
    "\n",
    "\n",
    "inverse(\n",
    "    A\n",
    ")\n"
   ]
  },
  {
   "cell_type": "code",
   "execution_count": 6,
   "metadata": {},
   "outputs": [
    {
     "data": {
      "text/plain": [
       "array([-1.,  4.,  3.])"
      ]
     },
     "execution_count": 6,
     "metadata": {},
     "output_type": "execute_result"
    }
   ],
   "source": [
    "# function to calculate the eigen values of the given matrix\n",
    "def eigen_values(A):\n",
    "    A = np.array(A)\n",
    "    h, w = A.shape\n",
    "    if h != w:\n",
    "        raise ValueError(\"Matrix must be square\")\n",
    "    return np.linalg.eig(A)[0]\n",
    "\n",
    "\n",
    "A = [[2, 0, 0], [0, 1, 0], [0, 0, 3]]\n",
    "sum(eigen_values(A))\n",
    "\n",
    "\n",
    "B = [[1, 6, 1], [1, 2, 3], [0, 0, 3]]\n",
    "eigen_values(B)\n"
   ]
  },
  {
   "cell_type": "code",
   "execution_count": 7,
   "metadata": {},
   "outputs": [
    {
     "data": {
      "text/plain": [
       "2.449489742783178"
      ]
     },
     "execution_count": 7,
     "metadata": {},
     "output_type": "execute_result"
    }
   ],
   "source": [
    "# function to calculate the distance between two  vectors\n",
    "def distance(A, B):\n",
    "    A = np.array(A)\n",
    "    B = np.array(B)\n",
    "    return np.linalg.norm(A - B)\n",
    "\n",
    "\n",
    "V = [8, 9, 2]\n",
    "V1 = [7, 7, 1]\n",
    "\n",
    "distance(\n",
    "    V1,\n",
    "    V\n",
    ")\n"
   ]
  },
  {
   "cell_type": "code",
   "execution_count": 5,
   "metadata": {},
   "outputs": [
    {
     "data": {
      "text/plain": [
       "array([[107, -37],\n",
       "       [-31, -33]])"
      ]
     },
     "execution_count": 5,
     "metadata": {},
     "output_type": "execute_result"
    }
   ],
   "source": [
    "# function to multipy two matrices\n",
    "def multiply(A, B):\n",
    "    A = np.array(A)\n",
    "    B = np.array(B)\n",
    "    return A @ B\n",
    "\n",
    "\n",
    "A = [\n",
    "    [1, 0, -1, 2],\n",
    "    [0, 3, 1, -1],\n",
    "    [2, 4, 0, 3],\n",
    "    [-3, 1, -1, 2]\n",
    "]\n",
    "\n",
    "B = [\n",
    "    [1, 2],\n",
    "    [3, -1],\n",
    "    [0, -1],\n",
    "    [4, 2]\n",
    "]\n",
    "\n",
    "C = [\n",
    "    [3, 8, 0, 5],\n",
    "    [1, 0, -4, 8]\n",
    "]\n",
    "\n",
    "CA = [[-12,  29,   0,   8],\n",
    "      [-31,  -8,  -9,   6]]\n",
    "\n",
    "multiply(\n",
    "    A=CA,\n",
    "    B=B\n",
    ")\n"
   ]
  },
  {
   "cell_type": "code",
   "execution_count": 13,
   "metadata": {},
   "outputs": [
    {
     "data": {
      "text/plain": [
       "0.0"
      ]
     },
     "execution_count": 13,
     "metadata": {},
     "output_type": "execute_result"
    }
   ],
   "source": [
    "# inverse of a matrix:\n",
    "P = [[2, 1, 2], [1, 0, 1], [3, 1, 3]]\n",
    "\n",
    "# function to find the inverse of a matrix\n",
    "\n",
    "\n",
    "def inverse(A):\n",
    "    A = np.array(A)\n",
    "    h, w = A.shape\n",
    "    if h != w:\n",
    "        raise ValueError(\"Matrix must be square\")\n",
    "    if np.linalg.det(A) == 0:\n",
    "        raise ValueError(\"Matrix must be non-singular\")\n",
    "    return np.linalg.inv(A)\n",
    "\n",
    "\n",
    "# inverse(\n",
    "#     A=P\n",
    "# )\n",
    "\n",
    "np.linalg.det(P)\n"
   ]
  },
  {
   "cell_type": "code",
   "execution_count": 18,
   "metadata": {},
   "outputs": [
    {
     "data": {
      "text/plain": [
       "True"
      ]
     },
     "execution_count": 18,
     "metadata": {},
     "output_type": "execute_result"
    }
   ],
   "source": [
    "# two orothogonal vectors\n",
    "V = [5, -2, 3]\n",
    "V1 = [-2, 4, 6]\n",
    "\n",
    "# find if two vectors are orthogonal\n",
    "\n",
    "\n",
    "def orthogonal(A, B):\n",
    "    A = np.array(A)\n",
    "    B = np.array(B)\n",
    "    return np.allclose(A @ B, 0)\n",
    "\n",
    "\n",
    "orthogonal(\n",
    "    A=V,\n",
    "    B=V1\n",
    ")\n"
   ]
  },
  {
   "cell_type": "code",
   "execution_count": 25,
   "metadata": {},
   "outputs": [
    {
     "data": {
      "text/plain": [
       "1"
      ]
     },
     "execution_count": 25,
     "metadata": {},
     "output_type": "execute_result"
    }
   ],
   "source": [
    "# The matrix from AX=B\n",
    "\n",
    "A = [\n",
    "    [4, -2, 6],\n",
    "    [1, 1, -3],\n",
    "    [15, -3, 9]\n",
    "]\n",
    "B = [\n",
    "    ['x', 'y', 'z']\n",
    "]\n",
    "\n",
    "C = [\n",
    "    [8, -1, 21]\n",
    "]\n",
    "\n",
    "\n",
    "rank_a = 3\n",
    "rank_b = 1\n",
    "rank_c = 1\n",
    "\n",
    "rank(C)\n",
    "# multiply(\n",
    "#     A=A,\n",
    "#     B=B\n",
    "# )\n"
   ]
  },
  {
   "cell_type": "code",
   "execution_count": null,
   "metadata": {},
   "outputs": [],
   "source": []
  }
 ],
 "metadata": {
  "interpreter": {
   "hash": "2dec88fdd1184d4c5d842496b8ff3ed4cbe810fb929f2402ac3de3544bb48ac8"
  },
  "kernelspec": {
   "display_name": "Python 3.9.7 ('env': venv)",
   "language": "python",
   "name": "python3"
  },
  "language_info": {
   "codemirror_mode": {
    "name": "ipython",
    "version": 3
   },
   "file_extension": ".py",
   "mimetype": "text/x-python",
   "name": "python",
   "nbconvert_exporter": "python",
   "pygments_lexer": "ipython3",
   "version": "3.9.7"
  },
  "orig_nbformat": 4
 },
 "nbformat": 4,
 "nbformat_minor": 2
}
