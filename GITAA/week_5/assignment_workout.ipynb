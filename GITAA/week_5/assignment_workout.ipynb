{
 "cells": [
  {
   "cell_type": "code",
   "execution_count": 1,
   "metadata": {},
   "outputs": [],
   "source": [
    "import numpy as np\n",
    "import pandas as pd\n",
    "import seaborn as sns\n",
    "import matplotlib.pyplot as plt\n",
    "import scipy\n",
    "from scipy.stats import ttest_1samp\n",
    "from scipy.stats import ttest_ind\n",
    "from scipy.stats import t\n",
    "from scipy.stats import f\n",
    "from scipy.stats import norm\n",
    "from statsmodels.stats.proportion import proportions_ztest"
   ]
  },
  {
   "cell_type": "code",
   "execution_count": 2,
   "metadata": {},
   "outputs": [
    {
     "data": {
      "text/plain": [
       "(0.0, 1.0)"
      ]
     },
     "execution_count": 2,
     "metadata": {},
     "output_type": "execute_result"
    }
   ],
   "source": [
    "item = [70, 67, 62, 68, 61, 68, 70, 64, 64, 66]\n",
    "item_mean = np.mean(item)\n",
    "item_mean\n",
    "item_std = np.std(item)\n",
    "item_std\n",
    "item_var = np.var(item)\n",
    "item_var\n",
    "# find the t-statistic and p-value\n",
    "t_stat, p_value = ttest_1samp(item, item_mean)\n",
    "t_stat ,p_value\n"
   ]
  },
  {
   "cell_type": "code",
   "execution_count": 3,
   "metadata": {},
   "outputs": [
    {
     "data": {
      "text/plain": [
       "245.0"
      ]
     },
     "execution_count": 3,
     "metadata": {},
     "output_type": "execute_result"
    }
   ],
   "source": [
    "# A talent exam is conducted annually which has a mean score of 200 and a standard deviation of 30. \n",
    "# If a student's Z-score is 1.50, what was his score in the exam?\n",
    "\n",
    "mean = 200\n",
    "std = 30\n",
    "z_score = 1.5\n",
    "score = mean + (z_score * std)\n",
    "score\n",
    "\n"
   ]
  },
  {
   "cell_type": "code",
   "execution_count": 4,
   "metadata": {},
   "outputs": [
    {
     "name": "stdout",
     "output_type": "stream",
     "text": [
      "4.0456\n",
      "1.3424000000000005\n"
     ]
    }
   ],
   "source": [
    "# The following are percentages of protein found in 5 samples of each of 2 brands of baby food.\n",
    "\n",
    "# X\t5.6\t2.3\t8.5\t6.6\t5.9\n",
    "# Y\t4.1\t6.3\t7.4\t6.9\t5.5\n",
    "# Assuming that both the variables are normally distributed with the same variance,\n",
    "# which of the following test is appropriate to test the hypothesis-average protein content in the X and Y are equal?\n",
    "X = [5.6,\t2.3,\t8.5,\t6.6,\t5.9]\n",
    "Y = [4.1,\t6.3,\t7.4,\t6.9,\t5.5]\n",
    "\n",
    "\n",
    "# variance of X\n",
    "var_x = np.var(X)\n",
    "print(var_x)\n",
    "\n",
    "# variance of Y\n",
    "var_y = np.var(Y)\n",
    "print(var_y)\n",
    "\n"
   ]
  },
  {
   "cell_type": "code",
   "execution_count": 5,
   "metadata": {},
   "outputs": [
    {
     "data": {
      "text/plain": [
       "1.6448536269514722"
      ]
     },
     "execution_count": 5,
     "metadata": {},
     "output_type": "execute_result"
    }
   ],
   "source": [
    "# P (X ≤ ___) = 0.05\n",
    "# find the missing value\n",
    "# Note- X ~ N (0,1)\n",
    "\n",
    "# # Select one:\n",
    "# scipy.stats.norm.cdf(0.05)\n",
    "# scipy.stats. norm.ppf(0.05)\n",
    "# scipy.stats.norm.pdf(0.95)\n",
    "scipy.stats.norm.ppf(0.95)"
   ]
  },
  {
   "cell_type": "code",
   "execution_count": 6,
   "metadata": {},
   "outputs": [
    {
     "data": {
      "text/plain": [
       "0.02"
      ]
     },
     "execution_count": 6,
     "metadata": {},
     "output_type": "execute_result"
    }
   ],
   "source": [
    "# A car company purchases engine blocks from suppliers A, B, and C. Out of the 100 units supplied by A, two units were found to be defective. \n",
    "# Similarly out of 200 and 300 units supplied by B and C, the number units found to be defective were 10 and 15 respectively.  \n",
    "# If a quality control person of the car company picks up a block and if the selected block is from A, \n",
    "# what is the probability that the block is defective?\n",
    "\n",
    "A = 100\n",
    "B = 200\n",
    "C = 300\n",
    "\n",
    "a_defective = 2\n",
    "b_defective = 10\n",
    "c_defective = 15\n",
    "\n",
    "# find the probability of defective\n",
    "prob_defective = (a_defective/A) \n",
    "prob_defective\n",
    "\n",
    "\n"
   ]
  },
  {
   "cell_type": "code",
   "execution_count": 7,
   "metadata": {},
   "outputs": [
    {
     "data": {
      "text/plain": [
       "0.05"
      ]
     },
     "execution_count": 7,
     "metadata": {},
     "output_type": "execute_result"
    }
   ],
   "source": [
    "# A car company purchases engine blocks from suppliers A, B and C. \n",
    "# Out of the 100 units supplied by A, two units were found to be defective. \n",
    "# Similarly out of 200 and 300 units supplied by B and C, the number units found to be defective were 10 and 15 respectively. \n",
    "# If the block is defective, what is the probability that it is from supplier C?\n",
    "\n",
    "A = 100\n",
    "B = 200\n",
    "C = 300\n",
    "\n",
    "a_defective = 2\n",
    "b_defective = 10\n",
    "c_defective = 15\n",
    "\n",
    "# what is the probability that it is from supplier C\n",
    "prob_defective = (c_defective/C)\n",
    "prob_defective\n",
    "\n",
    "\n",
    "\n"
   ]
  },
  {
   "cell_type": "code",
   "execution_count": null,
   "metadata": {},
   "outputs": [],
   "source": []
  }
 ],
 "metadata": {
  "interpreter": {
   "hash": "2dec88fdd1184d4c5d842496b8ff3ed4cbe810fb929f2402ac3de3544bb48ac8"
  },
  "kernelspec": {
   "display_name": "Python 3.9.7 ('env': venv)",
   "language": "python",
   "name": "python3"
  },
  "language_info": {
   "codemirror_mode": {
    "name": "ipython",
    "version": 3
   },
   "file_extension": ".py",
   "mimetype": "text/x-python",
   "name": "python",
   "nbconvert_exporter": "python",
   "pygments_lexer": "ipython3",
   "version": "3.9.7"
  },
  "orig_nbformat": 4
 },
 "nbformat": 4,
 "nbformat_minor": 2
}
