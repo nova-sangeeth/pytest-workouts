{
 "cells": [
  {
   "cell_type": "code",
   "execution_count": 69,
   "metadata": {},
   "outputs": [],
   "source": [
    "import numpy as np\n",
    "import pandas as pd\n",
    "import seaborn as sns\n",
    "import matplotlib.pyplot as plt\n",
    "import scipy\n",
    "from scipy.stats import ttest_1samp\n",
    "from scipy.stats import ttest_ind\n",
    "from scipy.stats import t\n",
    "from scipy.stats import f\n",
    "from scipy.stats import norm\n",
    "from statsmodels.stats.proportion import proportions_ztest"
   ]
  },
  {
   "cell_type": "code",
   "execution_count": 2,
   "metadata": {},
   "outputs": [
    {
     "name": "stdout",
     "output_type": "stream",
     "text": [
      "<class 'pandas.core.frame.DataFrame'>\n",
      "RangeIndex: 50001 entries, 0 to 50000\n",
      "Data columns (total 19 columns):\n",
      " #   Column               Non-Null Count  Dtype \n",
      "---  ------               --------------  ----- \n",
      " 0   dateCrawled          50001 non-null  object\n",
      " 1   name                 50001 non-null  object\n",
      " 2   seller               50001 non-null  object\n",
      " 3   offerType            50001 non-null  object\n",
      " 4   price                50001 non-null  int64 \n",
      " 5   abtest               50001 non-null  object\n",
      " 6   vehicleType          44813 non-null  object\n",
      " 7   yearOfRegistration   50001 non-null  int64 \n",
      " 8   gearbox              47177 non-null  object\n",
      " 9   powerPS              50001 non-null  int64 \n",
      " 10  model                47243 non-null  object\n",
      " 11  kilometer            50001 non-null  int64 \n",
      " 12  monthOfRegistration  50001 non-null  int64 \n",
      " 13  fuelType             45498 non-null  object\n",
      " 14  brand                50001 non-null  object\n",
      " 15  notRepairedDamage    40285 non-null  object\n",
      " 16  dateCreated          50001 non-null  object\n",
      " 17  postalCode           50001 non-null  int64 \n",
      " 18  lastSeen             50001 non-null  object\n",
      "dtypes: int64(6), object(13)\n",
      "memory usage: 7.2+ MB\n"
     ]
    }
   ],
   "source": [
    "df = pd.read_csv(\n",
    "    'cars_sampled.csv',\n",
    ")\n",
    "\n",
    "df.info()"
   ]
  },
  {
   "cell_type": "code",
   "execution_count": 3,
   "metadata": {},
   "outputs": [
    {
     "data": {
      "text/html": [
       "<div>\n",
       "<style scoped>\n",
       "    .dataframe tbody tr th:only-of-type {\n",
       "        vertical-align: middle;\n",
       "    }\n",
       "\n",
       "    .dataframe tbody tr th {\n",
       "        vertical-align: top;\n",
       "    }\n",
       "\n",
       "    .dataframe thead th {\n",
       "        text-align: right;\n",
       "    }\n",
       "</style>\n",
       "<table border=\"1\" class=\"dataframe\">\n",
       "  <thead>\n",
       "    <tr style=\"text-align: right;\">\n",
       "      <th></th>\n",
       "      <th>dateCrawled</th>\n",
       "      <th>name</th>\n",
       "      <th>seller</th>\n",
       "      <th>offerType</th>\n",
       "      <th>price</th>\n",
       "      <th>abtest</th>\n",
       "      <th>vehicleType</th>\n",
       "      <th>yearOfRegistration</th>\n",
       "      <th>gearbox</th>\n",
       "      <th>powerPS</th>\n",
       "      <th>model</th>\n",
       "      <th>kilometer</th>\n",
       "      <th>monthOfRegistration</th>\n",
       "      <th>fuelType</th>\n",
       "      <th>brand</th>\n",
       "      <th>notRepairedDamage</th>\n",
       "      <th>dateCreated</th>\n",
       "      <th>postalCode</th>\n",
       "      <th>lastSeen</th>\n",
       "    </tr>\n",
       "  </thead>\n",
       "  <tbody>\n",
       "    <tr>\n",
       "      <th>0</th>\n",
       "      <td>30/03/2016 13:51</td>\n",
       "      <td>Zu_verkaufen</td>\n",
       "      <td>private</td>\n",
       "      <td>offer</td>\n",
       "      <td>4450</td>\n",
       "      <td>test</td>\n",
       "      <td>limousine</td>\n",
       "      <td>2003</td>\n",
       "      <td>manual</td>\n",
       "      <td>150</td>\n",
       "      <td>3er</td>\n",
       "      <td>150000</td>\n",
       "      <td>3</td>\n",
       "      <td>diesel</td>\n",
       "      <td>bmw</td>\n",
       "      <td>NaN</td>\n",
       "      <td>30/03/2016 00:00</td>\n",
       "      <td>20257</td>\n",
       "      <td>07/04/2016 04:44</td>\n",
       "    </tr>\n",
       "    <tr>\n",
       "      <th>1</th>\n",
       "      <td>07/03/2016 09:54</td>\n",
       "      <td>Volvo_XC90_2.4D_Summum</td>\n",
       "      <td>private</td>\n",
       "      <td>offer</td>\n",
       "      <td>13299</td>\n",
       "      <td>control</td>\n",
       "      <td>suv</td>\n",
       "      <td>2005</td>\n",
       "      <td>manual</td>\n",
       "      <td>163</td>\n",
       "      <td>xc_reihe</td>\n",
       "      <td>150000</td>\n",
       "      <td>6</td>\n",
       "      <td>diesel</td>\n",
       "      <td>volvo</td>\n",
       "      <td>no</td>\n",
       "      <td>07/03/2016 00:00</td>\n",
       "      <td>88045</td>\n",
       "      <td>26/03/2016 13:17</td>\n",
       "    </tr>\n",
       "    <tr>\n",
       "      <th>2</th>\n",
       "      <td>01/04/2016 00:57</td>\n",
       "      <td>Volkswagen_Touran</td>\n",
       "      <td>private</td>\n",
       "      <td>offer</td>\n",
       "      <td>3200</td>\n",
       "      <td>test</td>\n",
       "      <td>bus</td>\n",
       "      <td>2003</td>\n",
       "      <td>manual</td>\n",
       "      <td>101</td>\n",
       "      <td>touran</td>\n",
       "      <td>150000</td>\n",
       "      <td>11</td>\n",
       "      <td>diesel</td>\n",
       "      <td>volkswagen</td>\n",
       "      <td>NaN</td>\n",
       "      <td>31/03/2016 00:00</td>\n",
       "      <td>27449</td>\n",
       "      <td>01/04/2016 08:40</td>\n",
       "    </tr>\n",
       "    <tr>\n",
       "      <th>3</th>\n",
       "      <td>19/03/2016 17:50</td>\n",
       "      <td>Seat_Ibiza_1.4_16V_Reference</td>\n",
       "      <td>private</td>\n",
       "      <td>offer</td>\n",
       "      <td>4500</td>\n",
       "      <td>control</td>\n",
       "      <td>small car</td>\n",
       "      <td>2006</td>\n",
       "      <td>manual</td>\n",
       "      <td>86</td>\n",
       "      <td>ibiza</td>\n",
       "      <td>60000</td>\n",
       "      <td>12</td>\n",
       "      <td>petrol</td>\n",
       "      <td>seat</td>\n",
       "      <td>no</td>\n",
       "      <td>19/03/2016 00:00</td>\n",
       "      <td>34537</td>\n",
       "      <td>07/04/2016 04:44</td>\n",
       "    </tr>\n",
       "    <tr>\n",
       "      <th>4</th>\n",
       "      <td>16/03/2016 14:51</td>\n",
       "      <td>Volvo_XC90_D5_Aut._RDesign_R_Design_AWD_GSHD_S...</td>\n",
       "      <td>private</td>\n",
       "      <td>offer</td>\n",
       "      <td>18750</td>\n",
       "      <td>test</td>\n",
       "      <td>suv</td>\n",
       "      <td>2008</td>\n",
       "      <td>automatic</td>\n",
       "      <td>185</td>\n",
       "      <td>xc_reihe</td>\n",
       "      <td>150000</td>\n",
       "      <td>11</td>\n",
       "      <td>diesel</td>\n",
       "      <td>volvo</td>\n",
       "      <td>no</td>\n",
       "      <td>16/03/2016 00:00</td>\n",
       "      <td>55270</td>\n",
       "      <td>01/04/2016 23:18</td>\n",
       "    </tr>\n",
       "  </tbody>\n",
       "</table>\n",
       "</div>"
      ],
      "text/plain": [
       "        dateCrawled                                               name  \\\n",
       "0  30/03/2016 13:51                                       Zu_verkaufen   \n",
       "1  07/03/2016 09:54                             Volvo_XC90_2.4D_Summum   \n",
       "2  01/04/2016 00:57                                  Volkswagen_Touran   \n",
       "3  19/03/2016 17:50                       Seat_Ibiza_1.4_16V_Reference   \n",
       "4  16/03/2016 14:51  Volvo_XC90_D5_Aut._RDesign_R_Design_AWD_GSHD_S...   \n",
       "\n",
       "    seller offerType  price   abtest vehicleType  yearOfRegistration  \\\n",
       "0  private     offer   4450     test   limousine                2003   \n",
       "1  private     offer  13299  control         suv                2005   \n",
       "2  private     offer   3200     test         bus                2003   \n",
       "3  private     offer   4500  control   small car                2006   \n",
       "4  private     offer  18750     test         suv                2008   \n",
       "\n",
       "     gearbox  powerPS     model  kilometer  monthOfRegistration fuelType  \\\n",
       "0     manual      150       3er     150000                    3   diesel   \n",
       "1     manual      163  xc_reihe     150000                    6   diesel   \n",
       "2     manual      101    touran     150000                   11   diesel   \n",
       "3     manual       86     ibiza      60000                   12   petrol   \n",
       "4  automatic      185  xc_reihe     150000                   11   diesel   \n",
       "\n",
       "        brand notRepairedDamage       dateCreated  postalCode  \\\n",
       "0         bmw               NaN  30/03/2016 00:00       20257   \n",
       "1       volvo                no  07/03/2016 00:00       88045   \n",
       "2  volkswagen               NaN  31/03/2016 00:00       27449   \n",
       "3        seat                no  19/03/2016 00:00       34537   \n",
       "4       volvo                no  16/03/2016 00:00       55270   \n",
       "\n",
       "           lastSeen  \n",
       "0  07/04/2016 04:44  \n",
       "1  26/03/2016 13:17  \n",
       "2  01/04/2016 08:40  \n",
       "3  07/04/2016 04:44  \n",
       "4  01/04/2016 23:18  "
      ]
     },
     "execution_count": 3,
     "metadata": {},
     "output_type": "execute_result"
    }
   ],
   "source": [
    "cars = df.copy()\n",
    "cars.head()"
   ]
  },
  {
   "cell_type": "code",
   "execution_count": 6,
   "metadata": {},
   "outputs": [
    {
     "name": "stdout",
     "output_type": "stream",
     "text": [
      "<class 'pandas.core.frame.DataFrame'>\n",
      "Int64Index: 35731 entries, 0 to 50000\n",
      "Data columns (total 19 columns):\n",
      " #   Column               Non-Null Count  Dtype \n",
      "---  ------               --------------  ----- \n",
      " 0   dateCrawled          35731 non-null  object\n",
      " 1   name                 35731 non-null  object\n",
      " 2   seller               35731 non-null  object\n",
      " 3   offerType            35731 non-null  object\n",
      " 4   price                35731 non-null  int64 \n",
      " 5   abtest               35731 non-null  object\n",
      " 6   vehicleType          33812 non-null  object\n",
      " 7   yearOfRegistration   35731 non-null  int64 \n",
      " 8   gearbox              35192 non-null  object\n",
      " 9   powerPS              35731 non-null  int64 \n",
      " 10  model                34501 non-null  object\n",
      " 11  kilometer            35731 non-null  int64 \n",
      " 12  monthOfRegistration  35731 non-null  int64 \n",
      " 13  fuelType             34004 non-null  object\n",
      " 14  brand                35731 non-null  object\n",
      " 15  notRepairedDamage    31301 non-null  object\n",
      " 16  dateCreated          35731 non-null  object\n",
      " 17  postalCode           35731 non-null  int64 \n",
      " 18  lastSeen             35731 non-null  object\n",
      "dtypes: int64(6), object(13)\n",
      "memory usage: 5.5+ MB\n"
     ]
    }
   ],
   "source": [
    "\"\"\"Working range of data\"\"\"\n",
    "cars=cars[\n",
    "    (cars.yearOfRegistration <= 2020) &\n",
    "    (cars.yearOfRegistration >= 1950) &\n",
    "    (cars.powerPS >= 10) &\n",
    "    (cars.powerPS <= 500) &\n",
    "    (cars.price <= 150000) &\n",
    "    (cars.price >= 1000)\n",
    "    ]\n",
    "cars.info()"
   ]
  },
  {
   "cell_type": "markdown",
   "metadata": {},
   "source": [
    "# Hypothesis testing steps\n",
    "* Hypotheses\n",
    "* Sample Statistics\n",
    "* test Statistics\n",
    "* Critical Values\n",
    "* Max Uncertainty\n",
    "* Computed Uncertainty\n",
    "* Decision on HO\n",
    "\n",
    "#\n",
    "* Ho = main hypothesis testing.\n",
    "* Ha = alternative hypothesis testing.\n",
    "\n"
   ]
  },
  {
   "cell_type": "code",
   "execution_count": 8,
   "metadata": {},
   "outputs": [],
   "source": [
    "# Arriving at a sub sample from 'cars' data\n",
    "sample_size = 1000\n",
    "\n",
    "sample1 = cars.sample(\n",
    "    sample_size,\n",
    "    random_state=0 # seed for reproducibility\n",
    ")"
   ]
  },
  {
   "cell_type": "code",
   "execution_count": 10,
   "metadata": {},
   "outputs": [
    {
     "name": "stderr",
     "output_type": "stream",
     "text": [
      "/tmp/ipykernel_18022/3513032908.py:2: FutureWarning: Dropping of nuisance columns in DataFrame reductions (with 'numeric_only=None') is deprecated; in a future version this will raise TypeError.  Select only valid columns before calling the reduction.\n",
      "  sample1.mean()\n"
     ]
    },
    {
     "data": {
      "text/plain": [
       "price                    7043.476\n",
       "yearOfRegistration       2004.424\n",
       "powerPS                   137.069\n",
       "kilometer              124285.000\n",
       "monthOfRegistration         6.124\n",
       "postalCode              52090.702\n",
       "dtype: float64"
      ]
     },
     "execution_count": 10,
     "metadata": {},
     "output_type": "execute_result"
    }
   ],
   "source": [
    "\"\"\"finding the mean of the sample\"\"\"\n",
    "sample1.mean()"
   ]
  },
  {
   "cell_type": "code",
   "execution_count": 17,
   "metadata": {},
   "outputs": [
    {
     "name": "stdout",
     "output_type": "stream",
     "text": [
      "7043.476\n"
     ]
    }
   ],
   "source": [
    "pos_mean = 7000\n",
    "print(sample1['price'].mean())"
   ]
  },
  {
   "cell_type": "code",
   "execution_count": 18,
   "metadata": {},
   "outputs": [
    {
     "data": {
      "text/plain": [
       "(0.16601088070510697, 0.8681819780607943)"
      ]
     },
     "execution_count": 18,
     "metadata": {},
     "output_type": "execute_result"
    }
   ],
   "source": [
    "statistic, pvalue = ttest_1samp(sample1['price'], pos_mean)\n",
    "statistic, pvalue\n",
    "# test statistic , pvalue == uncertainity"
   ]
  },
  {
   "cell_type": "code",
   "execution_count": 20,
   "metadata": {},
   "outputs": [
    {
     "data": {
      "text/plain": [
       "(1000, 999)"
      ]
     },
     "execution_count": 20,
     "metadata": {},
     "output_type": "execute_result"
    }
   ],
   "source": [
    "\"\"\"Calculating the degrees of freedom\"\"\"\n",
    "n = len(sample1['price'])\n",
    "# degrees of freedom n-1\n",
    "df = n - 1\n",
    "n, df"
   ]
  },
  {
   "cell_type": "code",
   "execution_count": 21,
   "metadata": {},
   "outputs": [],
   "source": [
    "\"\"\"Find the significance level\"\"\"\n",
    "alpha = 0.05"
   ]
  },
  {
   "cell_type": "code",
   "execution_count": 25,
   "metadata": {},
   "outputs": [
    {
     "data": {
      "text/plain": [
       "array([-1.96234146,  1.64638035])"
      ]
     },
     "execution_count": 25,
     "metadata": {},
     "output_type": "execute_result"
    }
   ],
   "source": [
    "\"\"\"Find the critical value\"\"\"\n",
    "critical_value = t.ppf([alpha/2, 1-alpha], df)\n",
    "critical_value\n"
   ]
  },
  {
   "cell_type": "markdown",
   "metadata": {},
   "source": [
    "## One Sample test for proportion\n",
    "* Three years back, The precentage of ued car with automatic transmission were 23% Has it changed now?\n"
   ]
  },
  {
   "cell_type": "code",
   "execution_count": null,
   "metadata": {},
   "outputs": [],
   "source": [
    "\"\"\"Hypothesis test\"\"\"\n",
    "# Hypothesis HO = 0.23 \n",
    "            # HA != 0.23\n",
    "\n",
    "\"\"\"\n",
    "Test statistic = \"z\" value=? \n",
    "Critical Values = ?\n",
    "Max Uncertainity = ?\n",
    "Computed p-value = ?  uncertainity\n",
    "Decision on HO = ?\n",
    "\"\"\" "
   ]
  },
  {
   "cell_type": "code",
   "execution_count": 31,
   "metadata": {},
   "outputs": [
    {
     "data": {
      "text/plain": [
       "(manual       739\n",
       " automatic    246\n",
       " Name: gearbox, dtype: int64,\n",
       " 1000)"
      ]
     },
     "execution_count": 31,
     "metadata": {},
     "output_type": "execute_result"
    }
   ],
   "source": [
    "\"\"\"Count of gars where the gearbox type is automatic\"\"\"\n",
    "count = sample1['gearbox'].value_counts()\n",
    "total_number_of_observations = len(sample1['gearbox'])\n",
    "\n",
    "count, total_number_of_observations\n",
    "\n",
    "# given percentage is 23% ie 0.23 aka pi value"
   ]
  },
  {
   "cell_type": "code",
   "execution_count": 32,
   "metadata": {},
   "outputs": [
    {
     "data": {
      "text/plain": [
       "manual       0.739\n",
       "automatic    0.246\n",
       "Name: gearbox, dtype: float64"
      ]
     },
     "execution_count": 32,
     "metadata": {},
     "output_type": "execute_result"
    }
   ],
   "source": [
    "sample1['gearbox'].value_counts() / total_number_of_observations"
   ]
  },
  {
   "cell_type": "code",
   "execution_count": 34,
   "metadata": {},
   "outputs": [
    {
     "data": {
      "text/plain": [
       "(1.1748076237934282, 0.24007168936127266)"
      ]
     },
     "execution_count": 34,
     "metadata": {},
     "output_type": "execute_result"
    }
   ],
   "source": [
    "\"\"\"finding the z statistic\"\"\"\n",
    "statistic_oneprop, pvalue_oneprop = proportions_ztest(\n",
    "    count=count[1],\n",
    "    nobs=total_number_of_observations,\n",
    "    value=0.23,\n",
    "    alternative='two-sided',\n",
    "    prop_var=False\n",
    ")\n",
    "statistic_oneprop, pvalue_oneprop"
   ]
  },
  {
   "cell_type": "code",
   "execution_count": 35,
   "metadata": {},
   "outputs": [
    {
     "data": {
      "text/plain": [
       "array([-1.95996398,  1.95996398])"
      ]
     },
     "execution_count": 35,
     "metadata": {},
     "output_type": "execute_result"
    }
   ],
   "source": [
    "\"\"\"Using scipy's normal distribution and finding the critical value\"\"\"\n",
    "critical_value_norm = norm.ppf(\n",
    "    [alpha/2, 1-alpha/2],\n",
    ")\n",
    "critical_value_norm\n"
   ]
  },
  {
   "cell_type": "code",
   "execution_count": 37,
   "metadata": {},
   "outputs": [],
   "source": [
    "\"\"\"Two sample test for means\"\"\"\n",
    "\"\"\"\n",
    "Is the mean price of cars that have\n",
    " run 30000-60000 KM the same\n",
    "  as that for cars that have run 70k - 90 k KMS\n",
    "\"\"\"\n",
    "\n",
    "km_70k_90k = cars[(cars.kilometer <= 90000)& (cars.kilometer >= 70000)]\n",
    "km_30k_60k = cars[(cars.kilometer <= 60000)& (cars.kilometer >= 30000)]\n",
    "\n",
    "sample_70k_90k = km_70k_90k.sample(500, random_state=0)\n",
    "sample_30k_60k = km_30k_60k.sample(500, random_state=0)"
   ]
  },
  {
   "cell_type": "code",
   "execution_count": 39,
   "metadata": {},
   "outputs": [
    {
     "name": "stdout",
     "output_type": "stream",
     "text": [
      "85441991.495996\n",
      "151420847.25779158\n"
     ]
    }
   ],
   "source": [
    "\"\"\"Sample Variance\"\"\"\n",
    "print(sample_70k_90k.price.var())\n",
    "print(sample_30k_60k.price.var())"
   ]
  },
  {
   "cell_type": "code",
   "execution_count": 40,
   "metadata": {},
   "outputs": [
    {
     "name": "stdout",
     "output_type": "stream",
     "text": [
      "10182.886\n",
      "14628.582\n"
     ]
    }
   ],
   "source": [
    "\"\"\"Sample Mean\"\"\"\n",
    "print(sample_70k_90k.price.mean())\n",
    "print(sample_30k_60k.price.mean())"
   ]
  },
  {
   "cell_type": "code",
   "execution_count": 42,
   "metadata": {},
   "outputs": [
    {
     "data": {
      "text/plain": [
       "0.5642683490638007"
      ]
     },
     "execution_count": 42,
     "metadata": {},
     "output_type": "execute_result"
    }
   ],
   "source": [
    "\"\"\"To find the samples are equal or unequal mean\"\"\"\n",
    "\"\"\"This is going to be calculated by the f statistic\"\"\"\n",
    "F_statistic = sample_70k_90k.price.var()/sample_30k_60k.price.var()\n",
    "F_statistic\n"
   ]
  },
  {
   "cell_type": "code",
   "execution_count": 43,
   "metadata": {},
   "outputs": [
    {
     "data": {
      "text/plain": [
       "1.1099583615573025e-10"
      ]
     },
     "execution_count": 43,
     "metadata": {},
     "output_type": "execute_result"
    }
   ],
   "source": [
    "\"\"\"Calculate the degree of freedom for both the samples\"\"\"\n",
    "n1 = len(sample_70k_90k)\n",
    "n2 = len(sample_30k_60k)\n",
    "\n",
    "# degrees of freedom n-1\n",
    "\n",
    "\n",
    "df1 = n1 - 1\n",
    "df2 = n2 - 1\n",
    "\n",
    "# cumulative distribution function.\n",
    "f.cdf(\n",
    "    F_statistic,\n",
    "    df1,\n",
    "    df2\n",
    ")"
   ]
  },
  {
   "cell_type": "code",
   "execution_count": 44,
   "metadata": {},
   "outputs": [
    {
     "data": {
      "text/plain": [
       "array([0.83888578, 1.1920574 ])"
      ]
     },
     "execution_count": 44,
     "metadata": {},
     "output_type": "execute_result"
    }
   ],
   "source": [
    "f.ppf(\n",
    "    [alpha/2, 1-alpha/2],\n",
    "    df1,df2\n",
    ")"
   ]
  },
  {
   "cell_type": "code",
   "execution_count": 46,
   "metadata": {},
   "outputs": [
    {
     "data": {
      "text/plain": [
       "(6.459163816617437, 1.6980789910248335e-10)"
      ]
     },
     "execution_count": 46,
     "metadata": {},
     "output_type": "execute_result"
    }
   ],
   "source": [
    "\"\"\"Do a weltch t test for unequal variance\"\"\"\n",
    "statistic_two_mean, pvalue_two_mean = ttest_ind(\n",
    "    sample_30k_60k.price,\n",
    "    sample_70k_90k.price,\n",
    "    equal_var=False\n",
    ")\n",
    "statistic_two_mean, pvalue_two_mean"
   ]
  },
  {
   "cell_type": "code",
   "execution_count": 49,
   "metadata": {},
   "outputs": [
    {
     "data": {
      "text/plain": [
       "926.1392125693823"
      ]
     },
     "execution_count": 49,
     "metadata": {},
     "output_type": "execute_result"
    }
   ],
   "source": [
    "\"\"\"To get critical values we need degrees of freedom\"\"\"\n",
    "n1 = len(sample_30k_60k)\n",
    "n2 = len(sample_70k_90k)\n",
    "\n",
    "s1 = sample_30k_60k.price.var()\n",
    "s2 = sample_70k_90k.price.var()\n",
    "\n",
    "\n",
    "\"\"\"Using the formula shown in the video @19:48\"\"\"\n",
    "\n",
    "df = (\n",
    "    (\n",
    "        s1/n1 + s2/n2\n",
    "    )**2 / (\n",
    "        (s1/n1)**2 / (n1-1) + (s2/n2)**2 / (n2-1)\n",
    "    )\n",
    ")\n",
    "df\n"
   ]
  },
  {
   "cell_type": "code",
   "execution_count": 51,
   "metadata": {},
   "outputs": [
    {
     "data": {
      "text/plain": [
       "array([-1.96234146,  1.64638035])"
      ]
     },
     "execution_count": 51,
     "metadata": {},
     "output_type": "execute_result"
    }
   ],
   "source": [
    "critical_value_t = t.ppf(\n",
    "    [alpha/2, 1-alpha/2],\n",
    "    df\n",
    ")\n",
    "critical_value"
   ]
  },
  {
   "cell_type": "code",
   "execution_count": 53,
   "metadata": {},
   "outputs": [],
   "source": [
    "\"\"\"Two sample test for proportion\"\"\"\n",
    "\"\"\"\n",
    "Are the proportion petrol cars in two different time periods 2009-2013 and 2014-2018 different?\n",
    "\"\"\"\n",
    "\n",
    "\n",
    "\"\"\"Subsettings records based on year and drawing samples of 1000 records from each\"\"\"\n",
    "\n",
    "year_2014_2018 = cars[(cars.yearOfRegistration >= 2014) & (cars.yearOfRegistration <= 2018)]\n",
    "year_2009_2013 = cars[(cars.yearOfRegistration >= 2009) & (cars.yearOfRegistration <= 2013)]\n",
    "\n",
    "sample_year_2014_2018 = year_2014_2018.sample(1000, random_state=0)\n",
    "sample_year_2009_2013 = year_2009_2013.sample(1000, random_state=0)\n"
   ]
  },
  {
   "cell_type": "code",
   "execution_count": 64,
   "metadata": {},
   "outputs": [
    {
     "name": "stdout",
     "output_type": "stream",
     "text": [
      "0.463\n",
      "0.487\n"
     ]
    }
   ],
   "source": [
    "count_1 = sample_year_2014_2018.fuelType.value_counts()\n",
    "count_2 = sample_year_2009_2013.fuelType.value_counts()\n",
    "\n",
    "number_of_observations  = [len(sample_year_2014_2018), len(sample_year_2009_2013)]\n",
    "# number of petrol cars / total number of cars in the sample.\n",
    "print(count_1[0]/number_of_observations[0])\n",
    "print(count_2[0]/number_of_observations[1])\n"
   ]
  },
  {
   "cell_type": "code",
   "execution_count": 66,
   "metadata": {},
   "outputs": [
    {
     "name": "stdout",
     "output_type": "stream",
     "text": [
      "29.363197934210948 1.621247895904571e-189\n"
     ]
    },
    {
     "data": {
      "text/plain": [
       "array([-1.95996398,  1.95996398])"
      ]
     },
     "execution_count": 66,
     "metadata": {},
     "output_type": "execute_result"
    }
   ],
   "source": [
    "\"\"\"Find the p value and critical value\"\"\"\n",
    "statistic, p_value = proportions_ztest(\n",
    "    count = count_1[0],\n",
    "    nobs = number_of_observations[0],\n",
    "    value = 0,\n",
    "    alternative = 'two-sided',\n",
    "    prop_var = False\n",
    ")\n",
    "\n",
    "print(statistic, p_value)\n",
    "\n",
    "critical_value = norm.ppf(\n",
    "    [alpha/2, 1-alpha/2]\n",
    ")\n",
    "critical_value"
   ]
  },
  {
   "cell_type": "code",
   "execution_count": 67,
   "metadata": {},
   "outputs": [
    {
     "data": {
      "text/html": [
       "<div>\n",
       "<style scoped>\n",
       "    .dataframe tbody tr th:only-of-type {\n",
       "        vertical-align: middle;\n",
       "    }\n",
       "\n",
       "    .dataframe tbody tr th {\n",
       "        vertical-align: top;\n",
       "    }\n",
       "\n",
       "    .dataframe thead th {\n",
       "        text-align: right;\n",
       "    }\n",
       "</style>\n",
       "<table border=\"1\" class=\"dataframe\">\n",
       "  <thead>\n",
       "    <tr style=\"text-align: right;\">\n",
       "      <th>vehicleType</th>\n",
       "      <th>bus</th>\n",
       "      <th>cabrio</th>\n",
       "      <th>coupe</th>\n",
       "      <th>limousine</th>\n",
       "      <th>others</th>\n",
       "      <th>small car</th>\n",
       "      <th>station wagon</th>\n",
       "      <th>suv</th>\n",
       "    </tr>\n",
       "    <tr>\n",
       "      <th>fuelType</th>\n",
       "      <th></th>\n",
       "      <th></th>\n",
       "      <th></th>\n",
       "      <th></th>\n",
       "      <th></th>\n",
       "      <th></th>\n",
       "      <th></th>\n",
       "      <th></th>\n",
       "    </tr>\n",
       "  </thead>\n",
       "  <tbody>\n",
       "    <tr>\n",
       "      <th>cng</th>\n",
       "      <td>31</td>\n",
       "      <td>1</td>\n",
       "      <td>1</td>\n",
       "      <td>6</td>\n",
       "      <td>2</td>\n",
       "      <td>11</td>\n",
       "      <td>16</td>\n",
       "      <td>0</td>\n",
       "    </tr>\n",
       "    <tr>\n",
       "      <th>diesel</th>\n",
       "      <td>2191</td>\n",
       "      <td>194</td>\n",
       "      <td>320</td>\n",
       "      <td>3346</td>\n",
       "      <td>142</td>\n",
       "      <td>779</td>\n",
       "      <td>4067</td>\n",
       "      <td>1115</td>\n",
       "    </tr>\n",
       "    <tr>\n",
       "      <th>electro</th>\n",
       "      <td>0</td>\n",
       "      <td>0</td>\n",
       "      <td>0</td>\n",
       "      <td>1</td>\n",
       "      <td>0</td>\n",
       "      <td>9</td>\n",
       "      <td>0</td>\n",
       "      <td>0</td>\n",
       "    </tr>\n",
       "    <tr>\n",
       "      <th>hybrid</th>\n",
       "      <td>0</td>\n",
       "      <td>0</td>\n",
       "      <td>2</td>\n",
       "      <td>19</td>\n",
       "      <td>1</td>\n",
       "      <td>5</td>\n",
       "      <td>5</td>\n",
       "      <td>3</td>\n",
       "    </tr>\n",
       "    <tr>\n",
       "      <th>lpg</th>\n",
       "      <td>70</td>\n",
       "      <td>32</td>\n",
       "      <td>46</td>\n",
       "      <td>198</td>\n",
       "      <td>3</td>\n",
       "      <td>50</td>\n",
       "      <td>117</td>\n",
       "      <td>90</td>\n",
       "    </tr>\n",
       "    <tr>\n",
       "      <th>other</th>\n",
       "      <td>0</td>\n",
       "      <td>1</td>\n",
       "      <td>1</td>\n",
       "      <td>3</td>\n",
       "      <td>0</td>\n",
       "      <td>0</td>\n",
       "      <td>1</td>\n",
       "      <td>0</td>\n",
       "    </tr>\n",
       "    <tr>\n",
       "      <th>petrol</th>\n",
       "      <td>1050</td>\n",
       "      <td>2398</td>\n",
       "      <td>1610</td>\n",
       "      <td>6218</td>\n",
       "      <td>98</td>\n",
       "      <td>5470</td>\n",
       "      <td>2539</td>\n",
       "      <td>573</td>\n",
       "    </tr>\n",
       "  </tbody>\n",
       "</table>\n",
       "</div>"
      ],
      "text/plain": [
       "vehicleType   bus  cabrio  coupe  limousine  others  small car  station wagon  \\\n",
       "fuelType                                                                        \n",
       "cng            31       1      1          6       2         11             16   \n",
       "diesel       2191     194    320       3346     142        779           4067   \n",
       "electro         0       0      0          1       0          9              0   \n",
       "hybrid          0       0      2         19       1          5              5   \n",
       "lpg            70      32     46        198       3         50            117   \n",
       "other           0       1      1          3       0          0              1   \n",
       "petrol       1050    2398   1610       6218      98       5470           2539   \n",
       "\n",
       "vehicleType   suv  \n",
       "fuelType           \n",
       "cng             0  \n",
       "diesel       1115  \n",
       "electro         0  \n",
       "hybrid          3  \n",
       "lpg            90  \n",
       "other           0  \n",
       "petrol        573  "
      ]
     },
     "execution_count": 67,
     "metadata": {},
     "output_type": "execute_result"
    }
   ],
   "source": [
    "\"\"\"Chi-square test of independence\"\"\"\n",
    "\"\"\" Is Vehicle Type (Petrol/Diesel) independent of the year of fuelType?\"\"\"\n",
    "\n",
    "\n",
    "# Cross table between fuelType and vehicleType\n",
    "cross_table=pd.crosstab(cars['fuelType'], cars['vehicleType'])\n",
    "cross_table"
   ]
  },
  {
   "cell_type": "code",
   "execution_count": 70,
   "metadata": {},
   "outputs": [
    {
     "data": {
      "text/plain": [
       "(6863.792414483225,\n",
       " 0.0,\n",
       " 42,\n",
       " array([[6.92115121e+00, 5.43834323e+00, 4.10050251e+00, 2.02767778e+01,\n",
       "         5.09456373e-01, 1.30967565e+01, 1.39686310e+01, 3.68838130e+00],\n",
       "        [1.23705400e+03, 9.72023877e+02, 7.32904523e+02, 3.62417585e+03,\n",
       "         9.10578346e+01, 2.34085263e+03, 2.49668738e+03, 6.59243917e+02],\n",
       "        [1.01781635e+00, 7.99756358e-01, 6.03015075e-01, 2.98187909e+00,\n",
       "         7.49200548e-02, 1.92599360e+00, 2.05421045e+00, 5.42409015e-01],\n",
       "        [3.56235724e+00, 2.79914725e+00, 2.11055276e+00, 1.04365768e+01,\n",
       "         2.62220192e-01, 6.74097762e+00, 7.18973656e+00, 1.89843155e+00],\n",
       "        [6.16796711e+01, 4.84652353e+01, 3.65427136e+01, 1.80701873e+02,\n",
       "         4.54015532e+00, 1.16715212e+02, 1.24485153e+02, 3.28699863e+01],\n",
       "        [6.10689813e-01, 4.79853815e-01, 3.61809045e-01, 1.78912746e+00,\n",
       "         4.49520329e-02, 1.15559616e+00, 1.23252627e+00, 3.25445409e-01],\n",
       "        [2.03115432e+03, 1.59599379e+03, 1.20337688e+03, 5.95063792e+03,\n",
       "         1.49510461e+02, 3.84351284e+03, 4.09938237e+03, 1.08243143e+03]]))"
      ]
     },
     "execution_count": 70,
     "metadata": {},
     "output_type": "execute_result"
    }
   ],
   "source": [
    "scipy.stats.chi2_contingency(cross_table)\n",
    "# the first output is the chi squared statistics \n",
    "# and the second output is the p value, which is 0.0"
   ]
  },
  {
   "cell_type": "code",
   "execution_count": 71,
   "metadata": {},
   "outputs": [
    {
     "data": {
      "text/html": [
       "<div>\n",
       "<style scoped>\n",
       "    .dataframe tbody tr th:only-of-type {\n",
       "        vertical-align: middle;\n",
       "    }\n",
       "\n",
       "    .dataframe tbody tr th {\n",
       "        vertical-align: top;\n",
       "    }\n",
       "\n",
       "    .dataframe thead th {\n",
       "        text-align: right;\n",
       "    }\n",
       "</style>\n",
       "<table border=\"1\" class=\"dataframe\">\n",
       "  <thead>\n",
       "    <tr style=\"text-align: right;\">\n",
       "      <th>vehicleType</th>\n",
       "      <th>bus</th>\n",
       "      <th>cabrio</th>\n",
       "      <th>coupe</th>\n",
       "      <th>limousine</th>\n",
       "      <th>others</th>\n",
       "      <th>small car</th>\n",
       "      <th>station wagon</th>\n",
       "      <th>suv</th>\n",
       "      <th>All</th>\n",
       "    </tr>\n",
       "    <tr>\n",
       "      <th>fuelType</th>\n",
       "      <th></th>\n",
       "      <th></th>\n",
       "      <th></th>\n",
       "      <th></th>\n",
       "      <th></th>\n",
       "      <th></th>\n",
       "      <th></th>\n",
       "      <th></th>\n",
       "      <th></th>\n",
       "    </tr>\n",
       "  </thead>\n",
       "  <tbody>\n",
       "    <tr>\n",
       "      <th>cng</th>\n",
       "      <td>31</td>\n",
       "      <td>1</td>\n",
       "      <td>1</td>\n",
       "      <td>6</td>\n",
       "      <td>2</td>\n",
       "      <td>11</td>\n",
       "      <td>16</td>\n",
       "      <td>0</td>\n",
       "      <td>68</td>\n",
       "    </tr>\n",
       "    <tr>\n",
       "      <th>diesel</th>\n",
       "      <td>2191</td>\n",
       "      <td>194</td>\n",
       "      <td>320</td>\n",
       "      <td>3346</td>\n",
       "      <td>142</td>\n",
       "      <td>779</td>\n",
       "      <td>4067</td>\n",
       "      <td>1115</td>\n",
       "      <td>12154</td>\n",
       "    </tr>\n",
       "    <tr>\n",
       "      <th>electro</th>\n",
       "      <td>0</td>\n",
       "      <td>0</td>\n",
       "      <td>0</td>\n",
       "      <td>1</td>\n",
       "      <td>0</td>\n",
       "      <td>9</td>\n",
       "      <td>0</td>\n",
       "      <td>0</td>\n",
       "      <td>10</td>\n",
       "    </tr>\n",
       "    <tr>\n",
       "      <th>hybrid</th>\n",
       "      <td>0</td>\n",
       "      <td>0</td>\n",
       "      <td>2</td>\n",
       "      <td>19</td>\n",
       "      <td>1</td>\n",
       "      <td>5</td>\n",
       "      <td>5</td>\n",
       "      <td>3</td>\n",
       "      <td>35</td>\n",
       "    </tr>\n",
       "    <tr>\n",
       "      <th>lpg</th>\n",
       "      <td>70</td>\n",
       "      <td>32</td>\n",
       "      <td>46</td>\n",
       "      <td>198</td>\n",
       "      <td>3</td>\n",
       "      <td>50</td>\n",
       "      <td>117</td>\n",
       "      <td>90</td>\n",
       "      <td>606</td>\n",
       "    </tr>\n",
       "    <tr>\n",
       "      <th>other</th>\n",
       "      <td>0</td>\n",
       "      <td>1</td>\n",
       "      <td>1</td>\n",
       "      <td>3</td>\n",
       "      <td>0</td>\n",
       "      <td>0</td>\n",
       "      <td>1</td>\n",
       "      <td>0</td>\n",
       "      <td>6</td>\n",
       "    </tr>\n",
       "    <tr>\n",
       "      <th>petrol</th>\n",
       "      <td>1050</td>\n",
       "      <td>2398</td>\n",
       "      <td>1610</td>\n",
       "      <td>6218</td>\n",
       "      <td>98</td>\n",
       "      <td>5470</td>\n",
       "      <td>2539</td>\n",
       "      <td>573</td>\n",
       "      <td>19956</td>\n",
       "    </tr>\n",
       "    <tr>\n",
       "      <th>All</th>\n",
       "      <td>3342</td>\n",
       "      <td>2626</td>\n",
       "      <td>1980</td>\n",
       "      <td>9791</td>\n",
       "      <td>246</td>\n",
       "      <td>6324</td>\n",
       "      <td>6745</td>\n",
       "      <td>1781</td>\n",
       "      <td>32835</td>\n",
       "    </tr>\n",
       "  </tbody>\n",
       "</table>\n",
       "</div>"
      ],
      "text/plain": [
       "vehicleType   bus  cabrio  coupe  limousine  others  small car  station wagon  \\\n",
       "fuelType                                                                        \n",
       "cng            31       1      1          6       2         11             16   \n",
       "diesel       2191     194    320       3346     142        779           4067   \n",
       "electro         0       0      0          1       0          9              0   \n",
       "hybrid          0       0      2         19       1          5              5   \n",
       "lpg            70      32     46        198       3         50            117   \n",
       "other           0       1      1          3       0          0              1   \n",
       "petrol       1050    2398   1610       6218      98       5470           2539   \n",
       "All          3342    2626   1980       9791     246       6324           6745   \n",
       "\n",
       "vehicleType   suv    All  \n",
       "fuelType                  \n",
       "cng             0     68  \n",
       "diesel       1115  12154  \n",
       "electro         0     10  \n",
       "hybrid          3     35  \n",
       "lpg            90    606  \n",
       "other           0      6  \n",
       "petrol        573  19956  \n",
       "All          1781  32835  "
      ]
     },
     "execution_count": 71,
     "metadata": {},
     "output_type": "execute_result"
    }
   ],
   "source": [
    "pd.crosstab(\n",
    "    cars['fuelType'],\n",
    "    cars['vehicleType'],\n",
    "    margins=True\n",
    ")"
   ]
  },
  {
   "cell_type": "code",
   "execution_count": 73,
   "metadata": {},
   "outputs": [
    {
     "data": {
      "text/plain": [
       "0.20903890360895386"
      ]
     },
     "execution_count": 73,
     "metadata": {},
     "output_type": "execute_result"
    }
   ],
   "source": [
    "6863.7924 / 32835\n"
   ]
  }
 ],
 "metadata": {
  "interpreter": {
   "hash": "2dec88fdd1184d4c5d842496b8ff3ed4cbe810fb929f2402ac3de3544bb48ac8"
  },
  "kernelspec": {
   "display_name": "Python 3.9.7 ('env': venv)",
   "language": "python",
   "name": "python3"
  },
  "language_info": {
   "codemirror_mode": {
    "name": "ipython",
    "version": 3
   },
   "file_extension": ".py",
   "mimetype": "text/x-python",
   "name": "python",
   "nbconvert_exporter": "python",
   "pygments_lexer": "ipython3",
   "version": "3.9.7"
  },
  "orig_nbformat": 4
 },
 "nbformat": 4,
 "nbformat_minor": 2
}
