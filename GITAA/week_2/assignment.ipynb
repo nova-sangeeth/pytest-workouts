{
 "cells": [
  {
   "cell_type": "code",
   "execution_count": 8,
   "metadata": {},
   "outputs": [
    {
     "data": {
      "text/plain": [
       "{11, 12, 13, 14, 15}"
      ]
     },
     "execution_count": 8,
     "metadata": {},
     "output_type": "execute_result"
    }
   ],
   "source": [
    "# M = {11,12,13,14}\n",
    "M = set ([11,12,12,13,14,15])\n",
    "\n",
    "# M = set ((11,12,13,14))\n",
    "# M = set ([11,12],[13,14],[14,15])\n",
    "\n",
    "M"
   ]
  },
  {
   "cell_type": "code",
   "execution_count": 1,
   "metadata": {},
   "outputs": [
    {
     "name": "stdout",
     "output_type": "stream",
     "text": [
      "66\n"
     ]
    }
   ],
   "source": [
    "tuple = (7,8,9,10,11,12)\n",
    "print(sum(tuple, 9))"
   ]
  },
  {
   "cell_type": "code",
   "execution_count": 2,
   "metadata": {},
   "outputs": [
    {
     "data": {
      "text/plain": [
       "66"
      ]
     },
     "execution_count": 2,
     "metadata": {},
     "output_type": "execute_result"
    }
   ],
   "source": [
    "7 + 8 + 9 + 10 + 11 + 12 + 9"
   ]
  },
  {
   "cell_type": "code",
   "execution_count": 3,
   "metadata": {},
   "outputs": [
    {
     "data": {
      "text/plain": [
       "3"
      ]
     },
     "execution_count": 3,
     "metadata": {},
     "output_type": "execute_result"
    }
   ],
   "source": [
    "fruit={\"apple\":\"red\",\"guava\":\"green\",\"grape\":\"purple\"}\n",
    "len(fruit)"
   ]
  },
  {
   "cell_type": "code",
   "execution_count": 4,
   "metadata": {},
   "outputs": [
    {
     "name": "stdout",
     "output_type": "stream",
     "text": [
      "[7, 8, 9, 44]\n"
     ]
    }
   ],
   "source": [
    "x = [7, 8, 9]; \n",
    "x.append(44)\n",
    "print(x)"
   ]
  },
  {
   "cell_type": "code",
   "execution_count": 5,
   "metadata": {},
   "outputs": [
    {
     "data": {
      "text/plain": [
       "(2, 4, 6, 3, 7, 1, 2, 3)"
      ]
     },
     "execution_count": 5,
     "metadata": {},
     "output_type": "execute_result"
    }
   ],
   "source": [
    "tuple=(2,4,6,3,7)\n",
    "tuple1=(1,2,3)\n",
    "\n",
    "len(tuple)\n",
    "tuple + tuple1"
   ]
  },
  {
   "cell_type": "code",
   "execution_count": 1,
   "metadata": {},
   "outputs": [
    {
     "name": "stdout",
     "output_type": "stream",
     "text": [
      "range(0, 4)\n"
     ]
    },
    {
     "data": {
      "text/plain": [
       "[0, 1, 4, 9]"
      ]
     },
     "execution_count": 1,
     "metadata": {},
     "output_type": "execute_result"
    }
   ],
   "source": [
    "print(range(4))\n",
    "\n",
    "n = [ x * x for x in range(4)]\n",
    "n"
   ]
  },
  {
   "cell_type": "code",
   "execution_count": 2,
   "metadata": {},
   "outputs": [
    {
     "data": {
      "text/plain": [
       "3"
      ]
     },
     "execution_count": 2,
     "metadata": {},
     "output_type": "execute_result"
    }
   ],
   "source": [
    "fruit={\"apple\":\"red\",\"guava\":\"green\",\"grape\":\"purple\"}\n",
    "\n",
    "len(fruit)"
   ]
  },
  {
   "cell_type": "code",
   "execution_count": 7,
   "metadata": {},
   "outputs": [
    {
     "name": "stdout",
     "output_type": "stream",
     "text": [
      "['grapefruit', 'mango']\n"
     ]
    }
   ],
   "source": [
    "Fruits = ['grapefruit', 'pineapple', 'blueberries', 'mango', 'banana']\n",
    "Y=Fruits[::3]\n",
    "print(Y)"
   ]
  },
  {
   "cell_type": "code",
   "execution_count": 4,
   "metadata": {},
   "outputs": [
    {
     "data": {
      "text/plain": [
       "4.5"
      ]
     },
     "execution_count": 4,
     "metadata": {},
     "output_type": "execute_result"
    }
   ],
   "source": [
    "import array as arr\n",
    "a=arr.array('d',[2.5,3.5,4.5])\n",
    "a[-1]"
   ]
  },
  {
   "cell_type": "code",
   "execution_count": 12,
   "metadata": {},
   "outputs": [
    {
     "name": "stdout",
     "output_type": "stream",
     "text": [
      "{'a': 1, 'b': 2, 'c': 3}\n",
      "{'a': 1, 'b': 2, 'c': 3, 'd': 'new'}\n",
      "{'a': 1, 'b': 2, 'c': 3, 'd': 'new1'}\n",
      "{'a': 1, 'b': 2, 'c': 3, 'd': 'new_new'}\n",
      "{'a': 1, 'b': 2, 'c': 3}\n"
     ]
    },
    {
     "data": {
      "text/plain": [
       "\" results in a NameError: name 'd' is not defined \""
      ]
     },
     "execution_count": 12,
     "metadata": {},
     "output_type": "execute_result"
    }
   ],
   "source": [
    "# create a dictionary\n",
    "d = {'a': 1, 'b': 2, 'c': 3}\n",
    "\n",
    "d['a']\n",
    "print(d)\n",
    "d['d'] = \"new\"\n",
    "print(d)\n",
    "d['d'] = \"new1\"\n",
    "print(d)\n",
    "d.update(d = \"new_new\")\n",
    "print(d)    \n",
    "del d['d']\n",
    "print(d)\n",
    "del d\n",
    "\"\"\" results in a NameError: name 'd' is not defined \"\"\"\n",
    "# print(d) "
   ]
  },
  {
   "cell_type": "code",
   "execution_count": 30,
   "metadata": {},
   "outputs": [
    {
     "name": "stdout",
     "output_type": "stream",
     "text": [
      "[1, 2, 3, 'new', 'new_new', 33]\n",
      "[1, 2, 3, 'new', 'new_new']\n",
      "[1, 2, 3, 'new']\n",
      "[1, 2, 3, 4, 'new']\n",
      "[1, 2, 3, 'new']\n",
      "['new', 3, 2, 1]\n"
     ]
    }
   ],
   "source": [
    "# create an array\n",
    "a = [1, 2, 3, \"new\", \"new_new\"]\n",
    "a.append(33)\n",
    "print(a)\n",
    "a.pop()\n",
    "print(a)\n",
    "a.pop()\n",
    "print(a)\n",
    "a.insert(3,4)\n",
    "print(a)\n",
    "a.remove(4)\n",
    "print(a)\n",
    "a.reverse()\n",
    "print(a)\n",
    "# a.sort()\n",
    "# print(a)"
   ]
  },
  {
   "cell_type": "code",
   "execution_count": 37,
   "metadata": {},
   "outputs": [
    {
     "name": "stdout",
     "output_type": "stream",
     "text": [
      "(1, 2, 3, 'new', 'new_new')\n"
     ]
    },
    {
     "data": {
      "text/plain": [
       "(1, 'new')"
      ]
     },
     "execution_count": 37,
     "metadata": {},
     "output_type": "execute_result"
    }
   ],
   "source": [
    "# create a tuple\n",
    "t = (1, 2, 3, \"new\", \"new_new\")\n",
    "\n",
    "print(t)\n",
    "\"\"\" slice(stop) slice(start, stop[, step]) \"\"\"\n",
    "t[slice(0,4, 3)]"
   ]
  },
  {
   "cell_type": "code",
   "execution_count": 50,
   "metadata": {},
   "outputs": [
    {
     "name": "stdout",
     "output_type": "stream",
     "text": [
      "{1, 3, 4, 'new', 'new_new'}\n",
      "{1, 2, 3, 4, 'new', 'new_new'}\n",
      "{1, 3, 'new_new', 'new'}\n"
     ]
    }
   ],
   "source": [
    "# create a set\n",
    "s = {1, 3, \"new\", \"new_new\"}\n",
    "s1 = {1, 2, 2, 3, \"new\", \"new_new\", \"new_new\"}\n",
    "# print(s)\n",
    "# print(s1)\n",
    "s.add(4)\n",
    "print(s)\n",
    "i = s.union(s1)\n",
    "print(i)\n",
    "j = s.intersection(s1)\n",
    "print(j)"
   ]
  },
  {
   "cell_type": "code",
   "execution_count": 52,
   "metadata": {},
   "outputs": [
    {
     "data": {
      "text/plain": [
       "['Requirement already satisfied: pandas in /home/novasangeeth/work/pytest-workouts/env/lib/python3.9/site-packages (1.4.1)',\n",
       " 'Requirement already satisfied: pytz>=2020.1 in /home/novasangeeth/work/pytest-workouts/env/lib/python3.9/site-packages (from pandas) (2022.1)',\n",
       " 'Requirement already satisfied: python-dateutil>=2.8.1 in /home/novasangeeth/work/pytest-workouts/env/lib/python3.9/site-packages (from pandas) (2.8.2)',\n",
       " 'Requirement already satisfied: numpy>=1.18.5 in /home/novasangeeth/work/pytest-workouts/env/lib/python3.9/site-packages (from pandas) (1.22.3)',\n",
       " 'Requirement already satisfied: six>=1.5 in /home/novasangeeth/work/pytest-workouts/env/lib/python3.9/site-packages (from python-dateutil>=2.8.1->pandas) (1.16.0)']"
      ]
     },
     "execution_count": 52,
     "metadata": {},
     "output_type": "execute_result"
    }
   ],
   "source": [
    "!! pip install numpy\n",
    "!! pip install pandas "
   ]
  },
  {
   "cell_type": "code",
   "execution_count": 76,
   "metadata": {},
   "outputs": [
    {
     "name": "stdout",
     "output_type": "stream",
     "text": [
      "[1 2 3 4 5 6]\n",
      "[ 7  8  9 10 11 12]\n",
      "sum of the columns in the array: [ 8 10 12 14 16 18]\n",
      "sum of the rows in the array: [21 57]\n"
     ]
    },
    {
     "data": {
      "text/plain": [
       "array([ 91, 217])"
      ]
     },
     "execution_count": 76,
     "metadata": {},
     "output_type": "execute_result"
    }
   ],
   "source": [
    "import numpy as np\n",
    "\n",
    "a = [1,2,3,4,5,6]\n",
    "b = [7,8,9,10,11,12]\n",
    "a_np = np.array(a)\n",
    "print(a_np)\n",
    "b_np = np.array(b)\n",
    "print(b_np)\n",
    "# create a multi diemensional numpy array.\n",
    "c = np.array([a,b])\n",
    "# sum of the columns in the array\n",
    "print(f\"sum of the columns in the array: {c.sum(axis=0)}\")\n",
    "# c.sum(axis=1)\n",
    "print(f\"sum of the rows in the array: {c.sum(axis=1)}\")\n",
    "c.dot(a_np)"
   ]
  },
  {
   "cell_type": "code",
   "execution_count": null,
   "metadata": {},
   "outputs": [],
   "source": []
  }
 ],
 "metadata": {
  "interpreter": {
   "hash": "2dec88fdd1184d4c5d842496b8ff3ed4cbe810fb929f2402ac3de3544bb48ac8"
  },
  "kernelspec": {
   "display_name": "Python 3.9.7 ('env': venv)",
   "language": "python",
   "name": "python3"
  },
  "language_info": {
   "codemirror_mode": {
    "name": "ipython",
    "version": 3
   },
   "file_extension": ".py",
   "mimetype": "text/x-python",
   "name": "python",
   "nbconvert_exporter": "python",
   "pygments_lexer": "ipython3",
   "version": "3.9.7"
  },
  "orig_nbformat": 4
 },
 "nbformat": 4,
 "nbformat_minor": 2
}
