{
 "cells": [
  {
   "cell_type": "code",
   "execution_count": 2,
   "metadata": {},
   "outputs": [],
   "source": [
    "import pandas as pd\n",
    "import numpy as np\n",
    "import seaborn as sns\n",
    "import matplotlib.pyplot as plt\n",
    "import re"
   ]
  },
  {
   "cell_type": "markdown",
   "metadata": {},
   "source": [
    "### Mean, Median and Mode\n",
    "\n",
    "* The mean (average) of a data set is found by adding all numbers in the data set and then dividing by the number of values in the set. \n",
    "* The median is the middle value when a data set is ordered from least to greatest. \n",
    "* The mode is the number that occurs most often in a data set."
   ]
  },
  {
   "cell_type": "code",
   "execution_count": 3,
   "metadata": {},
   "outputs": [],
   "source": [
    "# import data from the data sources.\n",
    "folder_path = \"assignment-datasets/\"\n",
    "df = pd.read_csv(folder_path + \"Stock_File_1.csv\")\n",
    "df2 = pd.read_csv(folder_path + \"Stock_File_2.txt\")"
   ]
  },
  {
   "cell_type": "code",
   "execution_count": 4,
   "metadata": {},
   "outputs": [
    {
     "data": {
      "text/html": [
       "<div>\n",
       "<style scoped>\n",
       "    .dataframe tbody tr th:only-of-type {\n",
       "        vertical-align: middle;\n",
       "    }\n",
       "\n",
       "    .dataframe tbody tr th {\n",
       "        vertical-align: top;\n",
       "    }\n",
       "\n",
       "    .dataframe thead th {\n",
       "        text-align: right;\n",
       "    }\n",
       "</style>\n",
       "<table border=\"1\" class=\"dataframe\">\n",
       "  <thead>\n",
       "    <tr style=\"text-align: right;\">\n",
       "      <th></th>\n",
       "      <th>Date</th>\n",
       "      <th>Open</th>\n",
       "      <th>High</th>\n",
       "      <th>Low</th>\n",
       "      <th>Close</th>\n",
       "      <th>Volume</th>\n",
       "    </tr>\n",
       "  </thead>\n",
       "  <tbody>\n",
       "    <tr>\n",
       "      <th>0</th>\n",
       "      <td>1-Jun-06</td>\n",
       "      <td>471.60</td>\n",
       "      <td>474.00</td>\n",
       "      <td>442.0</td>\n",
       "      <td>444.42</td>\n",
       "      <td>21900</td>\n",
       "    </tr>\n",
       "    <tr>\n",
       "      <th>1</th>\n",
       "      <td>12-Jun-06</td>\n",
       "      <td>454.00</td>\n",
       "      <td>464.00</td>\n",
       "      <td>440.0</td>\n",
       "      <td>446.17</td>\n",
       "      <td>8400</td>\n",
       "    </tr>\n",
       "    <tr>\n",
       "      <th>2</th>\n",
       "      <td>22-Jun-06</td>\n",
       "      <td>451.16</td>\n",
       "      <td>464.20</td>\n",
       "      <td>447.6</td>\n",
       "      <td>460.26</td>\n",
       "      <td>19400</td>\n",
       "    </tr>\n",
       "    <tr>\n",
       "      <th>3</th>\n",
       "      <td>3-Jul-06</td>\n",
       "      <td>495.10</td>\n",
       "      <td>509.68</td>\n",
       "      <td>493.0</td>\n",
       "      <td>498.97</td>\n",
       "      <td>9100</td>\n",
       "    </tr>\n",
       "    <tr>\n",
       "      <th>4</th>\n",
       "      <td>13-Jul-06</td>\n",
       "      <td>518.00</td>\n",
       "      <td>526.40</td>\n",
       "      <td>517.0</td>\n",
       "      <td>521.66</td>\n",
       "      <td>6800</td>\n",
       "    </tr>\n",
       "  </tbody>\n",
       "</table>\n",
       "</div>"
      ],
      "text/plain": [
       "        Date    Open    High    Low   Close Volume\n",
       "0   1-Jun-06  471.60  474.00  442.0  444.42  21900\n",
       "1  12-Jun-06  454.00  464.00  440.0  446.17   8400\n",
       "2  22-Jun-06  451.16  464.20  447.6  460.26  19400\n",
       "3   3-Jul-06  495.10  509.68  493.0  498.97   9100\n",
       "4  13-Jul-06  518.00  526.40  517.0  521.66   6800"
      ]
     },
     "execution_count": 4,
     "metadata": {},
     "output_type": "execute_result"
    }
   ],
   "source": [
    "df.head()"
   ]
  },
  {
   "cell_type": "code",
   "execution_count": 5,
   "metadata": {},
   "outputs": [
    {
     "data": {
      "text/html": [
       "<div>\n",
       "<style scoped>\n",
       "    .dataframe tbody tr th:only-of-type {\n",
       "        vertical-align: middle;\n",
       "    }\n",
       "\n",
       "    .dataframe tbody tr th {\n",
       "        vertical-align: top;\n",
       "    }\n",
       "\n",
       "    .dataframe thead th {\n",
       "        text-align: right;\n",
       "    }\n",
       "</style>\n",
       "<table border=\"1\" class=\"dataframe\">\n",
       "  <thead>\n",
       "    <tr style=\"text-align: right;\">\n",
       "      <th></th>\n",
       "      <th>Date</th>\n",
       "      <th>Open</th>\n",
       "      <th>High</th>\n",
       "      <th>Low</th>\n",
       "      <th>Close</th>\n",
       "      <th>Volume</th>\n",
       "    </tr>\n",
       "  </thead>\n",
       "  <tbody>\n",
       "    <tr>\n",
       "      <th>0</th>\n",
       "      <td>3-Jan-11</td>\n",
       "      <td>798.0</td>\n",
       "      <td>824.95</td>\n",
       "      <td>796.00</td>\n",
       "      <td>810.55</td>\n",
       "      <td>17600</td>\n",
       "    </tr>\n",
       "    <tr>\n",
       "      <th>1</th>\n",
       "      <td>13-Jan-11</td>\n",
       "      <td>748.1</td>\n",
       "      <td>768.00</td>\n",
       "      <td>NaN</td>\n",
       "      <td>752.85</td>\n",
       "      <td>13000</td>\n",
       "    </tr>\n",
       "    <tr>\n",
       "      <th>2</th>\n",
       "      <td>24-Jan-11</td>\n",
       "      <td>741.0</td>\n",
       "      <td>626.01</td>\n",
       "      <td>732.55</td>\n",
       "      <td>NaN</td>\n",
       "      <td>8700</td>\n",
       "    </tr>\n",
       "    <tr>\n",
       "      <th>3</th>\n",
       "      <td>1-Feb-11</td>\n",
       "      <td>753.0</td>\n",
       "      <td>753.00</td>\n",
       "      <td>712.10</td>\n",
       "      <td>717.25</td>\n",
       "      <td>23700</td>\n",
       "    </tr>\n",
       "    <tr>\n",
       "      <th>4</th>\n",
       "      <td>11-Feb-11</td>\n",
       "      <td>647.9</td>\n",
       "      <td>654.55</td>\n",
       "      <td>626.35</td>\n",
       "      <td>642.40</td>\n",
       "      <td>12800</td>\n",
       "    </tr>\n",
       "  </tbody>\n",
       "</table>\n",
       "</div>"
      ],
      "text/plain": [
       "        Date   Open    High     Low   Close Volume\n",
       "0   3-Jan-11  798.0  824.95  796.00  810.55  17600\n",
       "1  13-Jan-11  748.1  768.00     NaN  752.85  13000\n",
       "2  24-Jan-11  741.0  626.01  732.55     NaN   8700\n",
       "3   1-Feb-11  753.0  753.00  712.10  717.25  23700\n",
       "4  11-Feb-11  647.9  654.55  626.35  642.40  12800"
      ]
     },
     "execution_count": 5,
     "metadata": {},
     "output_type": "execute_result"
    }
   ],
   "source": [
    "df2.head()"
   ]
  },
  {
   "cell_type": "code",
   "execution_count": 6,
   "metadata": {},
   "outputs": [
    {
     "name": "stdout",
     "output_type": "stream",
     "text": [
      "\n",
      "    Date      0\n",
      "Open      4\n",
      "High      7\n",
      "Low       6\n",
      "Close     7\n",
      "Volume    0\n",
      "dtype: int64\n",
      "    Date      0\n",
      "Open      3\n",
      "High      9\n",
      "Low       7\n",
      "Close     7\n",
      "Volume    0\n",
      "dtype: int64\n",
      "    \n"
     ]
    }
   ],
   "source": [
    "# check for null values in both the data frames.\n",
    "null_count_1 = df.isnull().sum()\n",
    "null_count_2 = df2.isnull().sum()\n",
    "print(\n",
    "    f\"\"\"\n",
    "    {null_count_1}\n",
    "    {null_count_2}\n",
    "    \"\"\"\n",
    ")"
   ]
  },
  {
   "cell_type": "code",
   "execution_count": 7,
   "metadata": {},
   "outputs": [
    {
     "name": "stdout",
     "output_type": "stream",
     "text": [
      "\n",
      "    7\n",
      "    6\n",
      "    \n"
     ]
    }
   ],
   "source": [
    "# Check for duplicate col values in both the data frames.\n",
    "duplicate_count_1 = df.duplicated(subset=\"Close\").sum()\n",
    "duplicate_count_2 = df2.duplicated(subset=\"Close\").sum()\n",
    "print(\n",
    "    f\"\"\"\n",
    "    {duplicate_count_1}\n",
    "    {duplicate_count_2}\n",
    "    \"\"\"\n",
    ")\n"
   ]
  },
  {
   "cell_type": "code",
   "execution_count": 8,
   "metadata": {},
   "outputs": [],
   "source": [
    "# concat the two data frames.\n",
    "df_concat = pd.concat([df, df2], axis=0)\n",
    "df_concat.head()\n",
    "\n",
    "# export the concatenated data frame to a csv file.\n",
    "df_concat.to_csv(folder_path + \"Stock_File_concat.csv\", index=False)"
   ]
  },
  {
   "cell_type": "code",
   "execution_count": 9,
   "metadata": {},
   "outputs": [
    {
     "name": "stdout",
     "output_type": "stream",
     "text": [
      "<class 'pandas.core.frame.DataFrame'>\n",
      "Int64Index: 369 entries, 0 to 203\n",
      "Data columns (total 6 columns):\n",
      " #   Column  Non-Null Count  Dtype  \n",
      "---  ------  --------------  -----  \n",
      " 0   Date    369 non-null    object \n",
      " 1   Open    362 non-null    float64\n",
      " 2   High    353 non-null    float64\n",
      " 3   Low     356 non-null    float64\n",
      " 4   Close   355 non-null    float64\n",
      " 5   Volume  369 non-null    object \n",
      "dtypes: float64(4), object(2)\n",
      "memory usage: 20.2+ KB\n"
     ]
    }
   ],
   "source": [
    "df_concat.info()"
   ]
  },
  {
   "cell_type": "code",
   "execution_count": 10,
   "metadata": {},
   "outputs": [
    {
     "data": {
      "text/plain": [
       "Date      0\n",
       "Open      0\n",
       "High      0\n",
       "Low       0\n",
       "Close     0\n",
       "Volume    0\n",
       "dtype: int64"
      ]
     },
     "execution_count": 10,
     "metadata": {},
     "output_type": "execute_result"
    }
   ],
   "source": [
    "# Fill the null values in the high Column with the mean of the High Column.\n",
    "df_concat[\"High\"].fillna(df_concat[\"High\"].mean(), inplace=True)\n",
    "df_concat[\"Low\"].fillna(df_concat[\"Low\"].mean(), inplace=True)\n",
    "df_concat[\"Close\"].fillna(df_concat[\"Close\"].mean(), inplace=True)\n",
    "df_concat[\"Open\"].fillna(df_concat[\"Open\"].mean(), inplace=True)\n",
    "df_concat.isnull().sum()"
   ]
  },
  {
   "cell_type": "code",
   "execution_count": 11,
   "metadata": {},
   "outputs": [],
   "source": [
    "# find the rows in Volume column where the value is \"zero\"\n",
    "df_concat['Volume'].replace('zero', 0, inplace=True)\n",
    "df_concat[df_concat[\"Volume\"] == \"zero\"]\n",
    "# df_concat.to_csv(folder_path + \"Stock_File_concat.csv\", index=False)\n",
    "# convert Volume to a int64 data type.\n",
    "df_concat[\"Volume\"] = df_concat[\"Volume\"].astype(float)\n",
    "# df_concat.info()"
   ]
  },
  {
   "cell_type": "code",
   "execution_count": 21,
   "metadata": {},
   "outputs": [],
   "source": [
    "# # visualize the data using matplotlib.\n",
    "# df_concat.plot(\n",
    "#     x=\"Date\",\n",
    "#     y=\"Volume\",\n",
    "#     style=\"-\",\n",
    "#     figsize=(12, 6),\n",
    "#     title=\"Stock Price\",\n",
    "#     grid=True,\n",
    "# )"
   ]
  },
  {
   "cell_type": "code",
   "execution_count": 22,
   "metadata": {},
   "outputs": [
    {
     "data": {
      "text/html": [
       "<div>\n",
       "<style scoped>\n",
       "    .dataframe tbody tr th:only-of-type {\n",
       "        vertical-align: middle;\n",
       "    }\n",
       "\n",
       "    .dataframe tbody tr th {\n",
       "        vertical-align: top;\n",
       "    }\n",
       "\n",
       "    .dataframe thead th {\n",
       "        text-align: right;\n",
       "    }\n",
       "</style>\n",
       "<table border=\"1\" class=\"dataframe\">\n",
       "  <thead>\n",
       "    <tr style=\"text-align: right;\">\n",
       "      <th></th>\n",
       "      <th>Open</th>\n",
       "      <th>High</th>\n",
       "      <th>Low</th>\n",
       "      <th>Close</th>\n",
       "      <th>Volume</th>\n",
       "    </tr>\n",
       "  </thead>\n",
       "  <tbody>\n",
       "    <tr>\n",
       "      <th>count</th>\n",
       "      <td>369.000000</td>\n",
       "      <td>369.000000</td>\n",
       "      <td>369.000000</td>\n",
       "      <td>369.000000</td>\n",
       "      <td>369.000000</td>\n",
       "    </tr>\n",
       "    <tr>\n",
       "      <th>mean</th>\n",
       "      <td>890.291768</td>\n",
       "      <td>858.892918</td>\n",
       "      <td>856.357472</td>\n",
       "      <td>867.098817</td>\n",
       "      <td>39097.831978</td>\n",
       "    </tr>\n",
       "    <tr>\n",
       "      <th>std</th>\n",
       "      <td>295.137342</td>\n",
       "      <td>269.740766</td>\n",
       "      <td>264.635147</td>\n",
       "      <td>266.283773</td>\n",
       "      <td>67323.679903</td>\n",
       "    </tr>\n",
       "    <tr>\n",
       "      <th>min</th>\n",
       "      <td>364.000000</td>\n",
       "      <td>366.000000</td>\n",
       "      <td>354.000000</td>\n",
       "      <td>363.600000</td>\n",
       "      <td>0.000000</td>\n",
       "    </tr>\n",
       "    <tr>\n",
       "      <th>25%</th>\n",
       "      <td>703.000000</td>\n",
       "      <td>685.000000</td>\n",
       "      <td>683.000000</td>\n",
       "      <td>692.550000</td>\n",
       "      <td>6800.000000</td>\n",
       "    </tr>\n",
       "    <tr>\n",
       "      <th>50%</th>\n",
       "      <td>818.850000</td>\n",
       "      <td>814.000000</td>\n",
       "      <td>805.000000</td>\n",
       "      <td>818.000000</td>\n",
       "      <td>16400.000000</td>\n",
       "    </tr>\n",
       "    <tr>\n",
       "      <th>75%</th>\n",
       "      <td>1102.500000</td>\n",
       "      <td>1057.900000</td>\n",
       "      <td>1050.000000</td>\n",
       "      <td>1072.500000</td>\n",
       "      <td>47100.000000</td>\n",
       "    </tr>\n",
       "    <tr>\n",
       "      <th>max</th>\n",
       "      <td>2291.950000</td>\n",
       "      <td>1650.000000</td>\n",
       "      <td>1600.050000</td>\n",
       "      <td>1607.850000</td>\n",
       "      <td>843600.000000</td>\n",
       "    </tr>\n",
       "  </tbody>\n",
       "</table>\n",
       "</div>"
      ],
      "text/plain": [
       "              Open         High          Low        Close         Volume\n",
       "count   369.000000   369.000000   369.000000   369.000000     369.000000\n",
       "mean    890.291768   858.892918   856.357472   867.098817   39097.831978\n",
       "std     295.137342   269.740766   264.635147   266.283773   67323.679903\n",
       "min     364.000000   366.000000   354.000000   363.600000       0.000000\n",
       "25%     703.000000   685.000000   683.000000   692.550000    6800.000000\n",
       "50%     818.850000   814.000000   805.000000   818.000000   16400.000000\n",
       "75%    1102.500000  1057.900000  1050.000000  1072.500000   47100.000000\n",
       "max    2291.950000  1650.000000  1600.050000  1607.850000  843600.000000"
      ]
     },
     "execution_count": 22,
     "metadata": {},
     "output_type": "execute_result"
    }
   ],
   "source": [
    "df_concat.describe()"
   ]
  },
  {
   "cell_type": "code",
   "execution_count": 23,
   "metadata": {},
   "outputs": [],
   "source": [
    "# find the values that are greater than the mean of the volume column.\n",
    "# df_concat[df_concat[\"Volume\"] > df_concat[\"Volume\"].mean()]\n",
    "# len(df_concat['Volume'].unique())\n"
   ]
  },
  {
   "cell_type": "code",
   "execution_count": 24,
   "metadata": {},
   "outputs": [],
   "source": [
    "# export df_concat to a csv file.\n",
    "# df_concat.to_csv(folder_path + \"Stock_File_concat.csv\", index=False)"
   ]
  },
  {
   "cell_type": "code",
   "execution_count": 27,
   "metadata": {},
   "outputs": [
    {
     "data": {
      "text/html": [
       "<div>\n",
       "<style scoped>\n",
       "    .dataframe tbody tr th:only-of-type {\n",
       "        vertical-align: middle;\n",
       "    }\n",
       "\n",
       "    .dataframe tbody tr th {\n",
       "        vertical-align: top;\n",
       "    }\n",
       "\n",
       "    .dataframe thead th {\n",
       "        text-align: right;\n",
       "    }\n",
       "</style>\n",
       "<table border=\"1\" class=\"dataframe\">\n",
       "  <thead>\n",
       "    <tr style=\"text-align: right;\">\n",
       "      <th></th>\n",
       "      <th>Date</th>\n",
       "      <th>Open</th>\n",
       "      <th>High</th>\n",
       "      <th>Low</th>\n",
       "      <th>Close</th>\n",
       "      <th>Volume</th>\n",
       "    </tr>\n",
       "  </thead>\n",
       "  <tbody>\n",
       "    <tr>\n",
       "      <th>9</th>\n",
       "      <td>1-Sep-06</td>\n",
       "      <td>890.291768</td>\n",
       "      <td>568.00</td>\n",
       "      <td>556.00</td>\n",
       "      <td>564.04</td>\n",
       "      <td>12300.0</td>\n",
       "    </tr>\n",
       "    <tr>\n",
       "      <th>76</th>\n",
       "      <td>11-Jul-08</td>\n",
       "      <td>890.291768</td>\n",
       "      <td>928.00</td>\n",
       "      <td>838.00</td>\n",
       "      <td>851.75</td>\n",
       "      <td>45100.0</td>\n",
       "    </tr>\n",
       "    <tr>\n",
       "      <th>100</th>\n",
       "      <td>12-Mar-09</td>\n",
       "      <td>890.291768</td>\n",
       "      <td>650.80</td>\n",
       "      <td>354.00</td>\n",
       "      <td>363.60</td>\n",
       "      <td>219500.0</td>\n",
       "    </tr>\n",
       "    <tr>\n",
       "      <th>160</th>\n",
       "      <td>11-Nov-10</td>\n",
       "      <td>890.291768</td>\n",
       "      <td>898.00</td>\n",
       "      <td>855.00</td>\n",
       "      <td>857.95</td>\n",
       "      <td>27300.0</td>\n",
       "    </tr>\n",
       "    <tr>\n",
       "      <th>49</th>\n",
       "      <td>11-May-12</td>\n",
       "      <td>890.291768</td>\n",
       "      <td>734.75</td>\n",
       "      <td>716.75</td>\n",
       "      <td>720.90</td>\n",
       "      <td>17700.0</td>\n",
       "    </tr>\n",
       "    <tr>\n",
       "      <th>77</th>\n",
       "      <td>21-Feb-13</td>\n",
       "      <td>890.291768</td>\n",
       "      <td>623.85</td>\n",
       "      <td>573.00</td>\n",
       "      <td>583.40</td>\n",
       "      <td>98100.0</td>\n",
       "    </tr>\n",
       "    <tr>\n",
       "      <th>79</th>\n",
       "      <td>11-Mar-13</td>\n",
       "      <td>890.291768</td>\n",
       "      <td>628.35</td>\n",
       "      <td>604.30</td>\n",
       "      <td>621.75</td>\n",
       "      <td>19200.0</td>\n",
       "    </tr>\n",
       "  </tbody>\n",
       "</table>\n",
       "</div>"
      ],
      "text/plain": [
       "          Date        Open    High     Low   Close    Volume\n",
       "9     1-Sep-06  890.291768  568.00  556.00  564.04   12300.0\n",
       "76   11-Jul-08  890.291768  928.00  838.00  851.75   45100.0\n",
       "100  12-Mar-09  890.291768  650.80  354.00  363.60  219500.0\n",
       "160  11-Nov-10  890.291768  898.00  855.00  857.95   27300.0\n",
       "49   11-May-12  890.291768  734.75  716.75  720.90   17700.0\n",
       "77   21-Feb-13  890.291768  623.85  573.00  583.40   98100.0\n",
       "79   11-Mar-13  890.291768  628.35  604.30  621.75   19200.0"
      ]
     },
     "execution_count": 27,
     "metadata": {},
     "output_type": "execute_result"
    }
   ],
   "source": [
    "# show all the rows that have '890.2917679558011' in the Open column.\n",
    "# df_concat[df_concat[\"Open\"] ]"
   ]
  },
  {
   "cell_type": "code",
   "execution_count": 36,
   "metadata": {},
   "outputs": [
    {
     "name": "stdout",
     "output_type": "stream",
     "text": [
      "35\n",
      "35\n"
     ]
    }
   ],
   "source": [
    "# show all the count of the rows that have duplicate values in the Open column.\n",
    "df_concat[df_concat[\"Low\"] > df_concat[\"High\"]]\n",
    "# check for rows where the High value is greater than the Low value.\n",
    "print(len(df_concat[df_concat[\"Low\"] > df_concat[\"High\"]]))\n",
    "# print(len(df_concat[df_concat[\"High\"] < df_concat[\"Low\"]]))"
   ]
  },
  {
   "cell_type": "code",
   "execution_count": 43,
   "metadata": {},
   "outputs": [
    {
     "data": {
      "text/html": [
       "<div>\n",
       "<style scoped>\n",
       "    .dataframe tbody tr th:only-of-type {\n",
       "        vertical-align: middle;\n",
       "    }\n",
       "\n",
       "    .dataframe tbody tr th {\n",
       "        vertical-align: top;\n",
       "    }\n",
       "\n",
       "    .dataframe thead th {\n",
       "        text-align: right;\n",
       "    }\n",
       "</style>\n",
       "<table border=\"1\" class=\"dataframe\">\n",
       "  <thead>\n",
       "    <tr style=\"text-align: right;\">\n",
       "      <th></th>\n",
       "      <th>Date</th>\n",
       "      <th>Open</th>\n",
       "      <th>High</th>\n",
       "      <th>Low</th>\n",
       "      <th>Close</th>\n",
       "      <th>Volume</th>\n",
       "    </tr>\n",
       "  </thead>\n",
       "  <tbody>\n",
       "    <tr>\n",
       "      <th>105</th>\n",
       "      <td>1-May-09</td>\n",
       "      <td>1447.35</td>\n",
       "      <td>487.35</td>\n",
       "      <td>487.35</td>\n",
       "      <td>487.35</td>\n",
       "      <td>0.0</td>\n",
       "    </tr>\n",
       "    <tr>\n",
       "      <th>119</th>\n",
       "      <td>21-Sep-09</td>\n",
       "      <td>1755.80</td>\n",
       "      <td>795.80</td>\n",
       "      <td>795.80</td>\n",
       "      <td>795.80</td>\n",
       "      <td>0.0</td>\n",
       "    </tr>\n",
       "    <tr>\n",
       "      <th>123</th>\n",
       "      <td>2-Nov-09</td>\n",
       "      <td>1727.85</td>\n",
       "      <td>767.85</td>\n",
       "      <td>767.85</td>\n",
       "      <td>767.85</td>\n",
       "      <td>0.0</td>\n",
       "    </tr>\n",
       "    <tr>\n",
       "      <th>48</th>\n",
       "      <td>1-May-12</td>\n",
       "      <td>1778.00</td>\n",
       "      <td>818.00</td>\n",
       "      <td>818.00</td>\n",
       "      <td>818.00</td>\n",
       "      <td>0.0</td>\n",
       "    </tr>\n",
       "    <tr>\n",
       "      <th>120</th>\n",
       "      <td>1-May-14</td>\n",
       "      <td>1800.45</td>\n",
       "      <td>840.45</td>\n",
       "      <td>840.45</td>\n",
       "      <td>840.45</td>\n",
       "      <td>0.0</td>\n",
       "    </tr>\n",
       "    <tr>\n",
       "      <th>156</th>\n",
       "      <td>1-May-15</td>\n",
       "      <td>2291.95</td>\n",
       "      <td>1331.95</td>\n",
       "      <td>1331.95</td>\n",
       "      <td>1331.95</td>\n",
       "      <td>0.0</td>\n",
       "    </tr>\n",
       "  </tbody>\n",
       "</table>\n",
       "</div>"
      ],
      "text/plain": [
       "          Date     Open     High      Low    Close  Volume\n",
       "105   1-May-09  1447.35   487.35   487.35   487.35     0.0\n",
       "119  21-Sep-09  1755.80   795.80   795.80   795.80     0.0\n",
       "123   2-Nov-09  1727.85   767.85   767.85   767.85     0.0\n",
       "48    1-May-12  1778.00   818.00   818.00   818.00     0.0\n",
       "120   1-May-14  1800.45   840.45   840.45   840.45     0.0\n",
       "156   1-May-15  2291.95  1331.95  1331.95  1331.95     0.0"
      ]
     },
     "execution_count": 43,
     "metadata": {},
     "output_type": "execute_result"
    }
   ],
   "source": [
    "# Check for constants where the volume is 0 so this shows that there was no trading.\n",
    "\n",
    "\n",
    "# find the rows where the volume is 0.\n",
    "conc_vol_zero = df_concat[df_concat[\"Volume\"] == 0]\n",
    "\n",
    "# Check if all the values in Open, High, Low and Close are the same where volume is 0.\n",
    "conc_vol_zero[conc_vol_zero[\"Open\"] != conc_vol_zero[\"High\"]]\n",
    "conc_vol_zero[conc_vol_zero[\"Open\"] != conc_vol_zero[\"Close\"]]"
   ]
  },
  {
   "cell_type": "code",
   "execution_count": null,
   "metadata": {},
   "outputs": [],
   "source": []
  }
 ],
 "metadata": {
  "interpreter": {
   "hash": "2dec88fdd1184d4c5d842496b8ff3ed4cbe810fb929f2402ac3de3544bb48ac8"
  },
  "kernelspec": {
   "display_name": "Python 3.9.7 ('env': venv)",
   "language": "python",
   "name": "python3"
  },
  "language_info": {
   "codemirror_mode": {
    "name": "ipython",
    "version": 3
   },
   "file_extension": ".py",
   "mimetype": "text/x-python",
   "name": "python",
   "nbconvert_exporter": "python",
   "pygments_lexer": "ipython3",
   "version": "3.9.7"
  },
  "orig_nbformat": 4
 },
 "nbformat": 4,
 "nbformat_minor": 2
}
