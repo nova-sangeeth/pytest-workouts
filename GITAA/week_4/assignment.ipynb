{
 "cells": [
  {
   "cell_type": "code",
   "execution_count": 131,
   "metadata": {},
   "outputs": [],
   "source": [
    "import pandas as pd\n",
    "import numpy as np\n",
    "import matplotlib.pyplot as plt\n",
    "import seaborn as sns\n",
    "import os"
   ]
  },
  {
   "cell_type": "code",
   "execution_count": 132,
   "metadata": {},
   "outputs": [
    {
     "data": {
      "text/html": [
       "<div>\n",
       "<style scoped>\n",
       "    .dataframe tbody tr th:only-of-type {\n",
       "        vertical-align: middle;\n",
       "    }\n",
       "\n",
       "    .dataframe tbody tr th {\n",
       "        vertical-align: top;\n",
       "    }\n",
       "\n",
       "    .dataframe thead th {\n",
       "        text-align: right;\n",
       "    }\n",
       "</style>\n",
       "<table border=\"1\" class=\"dataframe\">\n",
       "  <thead>\n",
       "    <tr style=\"text-align: right;\">\n",
       "      <th></th>\n",
       "      <th>Date</th>\n",
       "      <th>Open</th>\n",
       "      <th>High</th>\n",
       "      <th>Low</th>\n",
       "      <th>Close</th>\n",
       "      <th>Volume</th>\n",
       "    </tr>\n",
       "  </thead>\n",
       "  <tbody>\n",
       "    <tr>\n",
       "      <th>0</th>\n",
       "      <td>1-Jun-06</td>\n",
       "      <td>471.60</td>\n",
       "      <td>474.00</td>\n",
       "      <td>442.0</td>\n",
       "      <td>444.42</td>\n",
       "      <td>21900</td>\n",
       "    </tr>\n",
       "    <tr>\n",
       "      <th>1</th>\n",
       "      <td>12-Jun-06</td>\n",
       "      <td>454.00</td>\n",
       "      <td>464.00</td>\n",
       "      <td>440.0</td>\n",
       "      <td>446.17</td>\n",
       "      <td>8400</td>\n",
       "    </tr>\n",
       "    <tr>\n",
       "      <th>2</th>\n",
       "      <td>22-Jun-06</td>\n",
       "      <td>451.16</td>\n",
       "      <td>464.20</td>\n",
       "      <td>447.6</td>\n",
       "      <td>460.26</td>\n",
       "      <td>19400</td>\n",
       "    </tr>\n",
       "    <tr>\n",
       "      <th>3</th>\n",
       "      <td>3-Jul-06</td>\n",
       "      <td>495.10</td>\n",
       "      <td>509.68</td>\n",
       "      <td>493.0</td>\n",
       "      <td>498.97</td>\n",
       "      <td>9100</td>\n",
       "    </tr>\n",
       "    <tr>\n",
       "      <th>4</th>\n",
       "      <td>13-Jul-06</td>\n",
       "      <td>518.00</td>\n",
       "      <td>526.40</td>\n",
       "      <td>517.0</td>\n",
       "      <td>521.66</td>\n",
       "      <td>6800</td>\n",
       "    </tr>\n",
       "  </tbody>\n",
       "</table>\n",
       "</div>"
      ],
      "text/plain": [
       "        Date    Open    High    Low   Close Volume\n",
       "0   1-Jun-06  471.60  474.00  442.0  444.42  21900\n",
       "1  12-Jun-06  454.00  464.00  440.0  446.17   8400\n",
       "2  22-Jun-06  451.16  464.20  447.6  460.26  19400\n",
       "3   3-Jul-06  495.10  509.68  493.0  498.97   9100\n",
       "4  13-Jul-06  518.00  526.40  517.0  521.66   6800"
      ]
     },
     "execution_count": 132,
     "metadata": {},
     "output_type": "execute_result"
    }
   ],
   "source": [
    "# read data \n",
    "df = pd.read_csv(\n",
    "    'assignment-datasets/Stock_File_1.csv',\n",
    "    # index_col=0,\n",
    "    )\n",
    "\n",
    "df.head()"
   ]
  },
  {
   "cell_type": "code",
   "execution_count": 122,
   "metadata": {},
   "outputs": [
    {
     "name": "stdout",
     "output_type": "stream",
     "text": [
      "<class 'pandas.core.frame.DataFrame'>\n",
      "RangeIndex: 165 entries, 0 to 164\n",
      "Data columns (total 6 columns):\n",
      " #   Column  Non-Null Count  Dtype  \n",
      "---  ------  --------------  -----  \n",
      " 0   Date    165 non-null    object \n",
      " 1   Open    161 non-null    float64\n",
      " 2   High    158 non-null    float64\n",
      " 3   Low     159 non-null    float64\n",
      " 4   Close   158 non-null    float64\n",
      " 5   Volume  165 non-null    object \n",
      "dtypes: float64(4), object(2)\n",
      "memory usage: 7.9+ KB\n"
     ]
    }
   ],
   "source": [
    "df.info()"
   ]
  },
  {
   "cell_type": "code",
   "execution_count": 123,
   "metadata": {},
   "outputs": [
    {
     "data": {
      "text/html": [
       "<div>\n",
       "<style scoped>\n",
       "    .dataframe tbody tr th:only-of-type {\n",
       "        vertical-align: middle;\n",
       "    }\n",
       "\n",
       "    .dataframe tbody tr th {\n",
       "        vertical-align: top;\n",
       "    }\n",
       "\n",
       "    .dataframe thead th {\n",
       "        text-align: right;\n",
       "    }\n",
       "</style>\n",
       "<table border=\"1\" class=\"dataframe\">\n",
       "  <thead>\n",
       "    <tr style=\"text-align: right;\">\n",
       "      <th></th>\n",
       "      <th>Date</th>\n",
       "      <th>Open</th>\n",
       "      <th>High</th>\n",
       "      <th>Low</th>\n",
       "      <th>Close</th>\n",
       "      <th>Volume</th>\n",
       "    </tr>\n",
       "  </thead>\n",
       "  <tbody>\n",
       "    <tr>\n",
       "      <th>0</th>\n",
       "      <td>3-Jan-11</td>\n",
       "      <td>798.0</td>\n",
       "      <td>824.95</td>\n",
       "      <td>796.00</td>\n",
       "      <td>810.55</td>\n",
       "      <td>17600</td>\n",
       "    </tr>\n",
       "    <tr>\n",
       "      <th>1</th>\n",
       "      <td>13-Jan-11</td>\n",
       "      <td>748.1</td>\n",
       "      <td>768.00</td>\n",
       "      <td>NaN</td>\n",
       "      <td>752.85</td>\n",
       "      <td>13000</td>\n",
       "    </tr>\n",
       "    <tr>\n",
       "      <th>2</th>\n",
       "      <td>24-Jan-11</td>\n",
       "      <td>741.0</td>\n",
       "      <td>626.01</td>\n",
       "      <td>732.55</td>\n",
       "      <td>NaN</td>\n",
       "      <td>8700</td>\n",
       "    </tr>\n",
       "    <tr>\n",
       "      <th>3</th>\n",
       "      <td>1-Feb-11</td>\n",
       "      <td>753.0</td>\n",
       "      <td>753.00</td>\n",
       "      <td>712.10</td>\n",
       "      <td>717.25</td>\n",
       "      <td>23700</td>\n",
       "    </tr>\n",
       "    <tr>\n",
       "      <th>4</th>\n",
       "      <td>11-Feb-11</td>\n",
       "      <td>647.9</td>\n",
       "      <td>654.55</td>\n",
       "      <td>626.35</td>\n",
       "      <td>642.40</td>\n",
       "      <td>12800</td>\n",
       "    </tr>\n",
       "  </tbody>\n",
       "</table>\n",
       "</div>"
      ],
      "text/plain": [
       "        Date   Open    High     Low   Close Volume\n",
       "0   3-Jan-11  798.0  824.95  796.00  810.55  17600\n",
       "1  13-Jan-11  748.1  768.00     NaN  752.85  13000\n",
       "2  24-Jan-11  741.0  626.01  732.55     NaN   8700\n",
       "3   1-Feb-11  753.0  753.00  712.10  717.25  23700\n",
       "4  11-Feb-11  647.9  654.55  626.35  642.40  12800"
      ]
     },
     "execution_count": 123,
     "metadata": {},
     "output_type": "execute_result"
    }
   ],
   "source": [
    "# import the second data set into the notebook.\n",
    "df2 = pd.read_csv(\n",
    "    'assignment-datasets/Stock_File_2.txt',\n",
    "    # index_col=0,\n",
    "    )\n",
    "df2.head()"
   ]
  },
  {
   "cell_type": "code",
   "execution_count": 124,
   "metadata": {},
   "outputs": [
    {
     "name": "stdout",
     "output_type": "stream",
     "text": [
      "<class 'pandas.core.frame.DataFrame'>\n",
      "RangeIndex: 204 entries, 0 to 203\n",
      "Data columns (total 6 columns):\n",
      " #   Column  Non-Null Count  Dtype  \n",
      "---  ------  --------------  -----  \n",
      " 0   Date    204 non-null    object \n",
      " 1   Open    201 non-null    float64\n",
      " 2   High    195 non-null    float64\n",
      " 3   Low     197 non-null    float64\n",
      " 4   Close   197 non-null    float64\n",
      " 5   Volume  204 non-null    object \n",
      "dtypes: float64(4), object(2)\n",
      "memory usage: 9.7+ KB\n"
     ]
    }
   ],
   "source": [
    "df2.info()"
   ]
  },
  {
   "cell_type": "code",
   "execution_count": 125,
   "metadata": {},
   "outputs": [
    {
     "name": "stdout",
     "output_type": "stream",
     "text": [
      "\"\n",
      "((165, 6), (204, 6))\n",
      "\n"
     ]
    }
   ],
   "source": [
    "print(f\"\"\"\"\n",
    "{\n",
    "    df.shape,\n",
    "    df2.shape\n",
    "}\n",
    "\"\"\")"
   ]
  },
  {
   "cell_type": "code",
   "execution_count": 126,
   "metadata": {},
   "outputs": [
    {
     "data": {
      "text/html": [
       "<div>\n",
       "<style scoped>\n",
       "    .dataframe tbody tr th:only-of-type {\n",
       "        vertical-align: middle;\n",
       "    }\n",
       "\n",
       "    .dataframe tbody tr th {\n",
       "        vertical-align: top;\n",
       "    }\n",
       "\n",
       "    .dataframe thead th {\n",
       "        text-align: right;\n",
       "    }\n",
       "</style>\n",
       "<table border=\"1\" class=\"dataframe\">\n",
       "  <thead>\n",
       "    <tr style=\"text-align: right;\">\n",
       "      <th></th>\n",
       "      <th>Open</th>\n",
       "      <th>High</th>\n",
       "      <th>Low</th>\n",
       "      <th>Close</th>\n",
       "    </tr>\n",
       "  </thead>\n",
       "  <tbody>\n",
       "    <tr>\n",
       "      <th>count</th>\n",
       "      <td>161.000000</td>\n",
       "      <td>158.000000</td>\n",
       "      <td>159.000000</td>\n",
       "      <td>158.000000</td>\n",
       "    </tr>\n",
       "    <tr>\n",
       "      <th>mean</th>\n",
       "      <td>846.829317</td>\n",
       "      <td>808.525253</td>\n",
       "      <td>810.990000</td>\n",
       "      <td>819.263481</td>\n",
       "    </tr>\n",
       "    <tr>\n",
       "      <th>std</th>\n",
       "      <td>295.961500</td>\n",
       "      <td>269.669343</td>\n",
       "      <td>270.408865</td>\n",
       "      <td>272.956317</td>\n",
       "    </tr>\n",
       "    <tr>\n",
       "      <th>min</th>\n",
       "      <td>364.000000</td>\n",
       "      <td>366.000000</td>\n",
       "      <td>354.000000</td>\n",
       "      <td>363.600000</td>\n",
       "    </tr>\n",
       "    <tr>\n",
       "      <th>25%</th>\n",
       "      <td>700.040000</td>\n",
       "      <td>642.500000</td>\n",
       "      <td>676.100000</td>\n",
       "      <td>686.075000</td>\n",
       "    </tr>\n",
       "    <tr>\n",
       "      <th>50%</th>\n",
       "      <td>794.000000</td>\n",
       "      <td>782.250000</td>\n",
       "      <td>772.000000</td>\n",
       "      <td>781.815000</td>\n",
       "    </tr>\n",
       "    <tr>\n",
       "      <th>75%</th>\n",
       "      <td>922.000000</td>\n",
       "      <td>898.750000</td>\n",
       "      <td>893.000000</td>\n",
       "      <td>891.025000</td>\n",
       "    </tr>\n",
       "    <tr>\n",
       "      <th>max</th>\n",
       "      <td>1755.800000</td>\n",
       "      <td>1650.000000</td>\n",
       "      <td>1600.050000</td>\n",
       "      <td>1607.850000</td>\n",
       "    </tr>\n",
       "  </tbody>\n",
       "</table>\n",
       "</div>"
      ],
      "text/plain": [
       "              Open         High          Low        Close\n",
       "count   161.000000   158.000000   159.000000   158.000000\n",
       "mean    846.829317   808.525253   810.990000   819.263481\n",
       "std     295.961500   269.669343   270.408865   272.956317\n",
       "min     364.000000   366.000000   354.000000   363.600000\n",
       "25%     700.040000   642.500000   676.100000   686.075000\n",
       "50%     794.000000   782.250000   772.000000   781.815000\n",
       "75%     922.000000   898.750000   893.000000   891.025000\n",
       "max    1755.800000  1650.000000  1600.050000  1607.850000"
      ]
     },
     "execution_count": 126,
     "metadata": {},
     "output_type": "execute_result"
    }
   ],
   "source": [
    "df.describe()"
   ]
  },
  {
   "cell_type": "code",
   "execution_count": 127,
   "metadata": {},
   "outputs": [
    {
     "data": {
      "text/html": [
       "<div>\n",
       "<style scoped>\n",
       "    .dataframe tbody tr th:only-of-type {\n",
       "        vertical-align: middle;\n",
       "    }\n",
       "\n",
       "    .dataframe tbody tr th {\n",
       "        vertical-align: top;\n",
       "    }\n",
       "\n",
       "    .dataframe thead th {\n",
       "        text-align: right;\n",
       "    }\n",
       "</style>\n",
       "<table border=\"1\" class=\"dataframe\">\n",
       "  <thead>\n",
       "    <tr style=\"text-align: right;\">\n",
       "      <th></th>\n",
       "      <th>Open</th>\n",
       "      <th>High</th>\n",
       "      <th>Low</th>\n",
       "      <th>Close</th>\n",
       "    </tr>\n",
       "  </thead>\n",
       "  <tbody>\n",
       "    <tr>\n",
       "      <th>count</th>\n",
       "      <td>201.000000</td>\n",
       "      <td>195.000000</td>\n",
       "      <td>197.000000</td>\n",
       "      <td>197.000000</td>\n",
       "    </tr>\n",
       "    <tr>\n",
       "      <th>mean</th>\n",
       "      <td>925.104975</td>\n",
       "      <td>899.703641</td>\n",
       "      <td>892.973858</td>\n",
       "      <td>905.464213</td>\n",
       "    </tr>\n",
       "    <tr>\n",
       "      <th>std</th>\n",
       "      <td>295.739605</td>\n",
       "      <td>274.639593</td>\n",
       "      <td>263.678769</td>\n",
       "      <td>264.815889</td>\n",
       "    </tr>\n",
       "    <tr>\n",
       "      <th>min</th>\n",
       "      <td>455.000000</td>\n",
       "      <td>366.200000</td>\n",
       "      <td>450.900000</td>\n",
       "      <td>453.900000</td>\n",
       "    </tr>\n",
       "    <tr>\n",
       "      <th>25%</th>\n",
       "      <td>702.100000</td>\n",
       "      <td>687.150000</td>\n",
       "      <td>682.900000</td>\n",
       "      <td>690.350000</td>\n",
       "    </tr>\n",
       "    <tr>\n",
       "      <th>50%</th>\n",
       "      <td>840.000000</td>\n",
       "      <td>825.950000</td>\n",
       "      <td>820.500000</td>\n",
       "      <td>835.950000</td>\n",
       "    </tr>\n",
       "    <tr>\n",
       "      <th>75%</th>\n",
       "      <td>1165.550000</td>\n",
       "      <td>1137.000000</td>\n",
       "      <td>1142.000000</td>\n",
       "      <td>1148.650000</td>\n",
       "    </tr>\n",
       "    <tr>\n",
       "      <th>max</th>\n",
       "      <td>2291.950000</td>\n",
       "      <td>1445.000000</td>\n",
       "      <td>1405.100000</td>\n",
       "      <td>1414.850000</td>\n",
       "    </tr>\n",
       "  </tbody>\n",
       "</table>\n",
       "</div>"
      ],
      "text/plain": [
       "              Open         High          Low        Close\n",
       "count   201.000000   195.000000   197.000000   197.000000\n",
       "mean    925.104975   899.703641   892.973858   905.464213\n",
       "std     295.739605   274.639593   263.678769   264.815889\n",
       "min     455.000000   366.200000   450.900000   453.900000\n",
       "25%     702.100000   687.150000   682.900000   690.350000\n",
       "50%     840.000000   825.950000   820.500000   835.950000\n",
       "75%    1165.550000  1137.000000  1142.000000  1148.650000\n",
       "max    2291.950000  1445.000000  1405.100000  1414.850000"
      ]
     },
     "execution_count": 127,
     "metadata": {},
     "output_type": "execute_result"
    }
   ],
   "source": [
    "df2.describe()"
   ]
  },
  {
   "cell_type": "code",
   "execution_count": 128,
   "metadata": {},
   "outputs": [
    {
     "name": "stdout",
     "output_type": "stream",
     "text": [
      "Date      0\n",
      "Open      4\n",
      "High      7\n",
      "Low       6\n",
      "Close     7\n",
      "Volume    0\n",
      "dtype: int64\n",
      "**************************************************\n",
      "Date      0\n",
      "Open      3\n",
      "High      9\n",
      "Low       7\n",
      "Close     7\n",
      "Volume    0\n",
      "dtype: int64\n"
     ]
    }
   ],
   "source": [
    "# find the null values.\n",
    "print(df.isnull().sum())\n",
    "print(\"*\"*50)\n",
    "print(df2.isnull().sum())"
   ]
  },
  {
   "cell_type": "code",
   "execution_count": 130,
   "metadata": {},
   "outputs": [
    {
     "name": "stdout",
     "output_type": "stream",
     "text": [
      "True\n",
      "False\n",
      "False\n",
      "False\n",
      "False\n",
      "False\n",
      "False\n"
     ]
    }
   ],
   "source": [
    "# check if dataframe1 and dataframe2 have the same columns.\n",
    "print(df.columns.equals(df2.columns))\n",
    "print(df.Date.equals(df2.Date))\n",
    "print(df.Volume.equals(df2.Volume))\n",
    "print(df.High.equals(df2.High))\n",
    "print(df.Low.equals(df2.Low))\n",
    "print(df.Close.equals(df2.Close))\n",
    "print(df.Volume.equals(df2.Volume))"
   ]
  },
  {
   "cell_type": "code",
   "execution_count": 134,
   "metadata": {},
   "outputs": [
    {
     "data": {
      "text/plain": [
       "0"
      ]
     },
     "execution_count": 134,
     "metadata": {},
     "output_type": "execute_result"
    }
   ],
   "source": [
    "df.duplicated().sum()\n",
    "df2.duplicated().sum()"
   ]
  },
  {
   "cell_type": "code",
   "execution_count": 142,
   "metadata": {},
   "outputs": [
    {
     "data": {
      "text/plain": [
       "Date       Open     High     Low      Close    Volume\n",
       "1-Apr-11   797.25   800.00   775.00   783.15   13500     1\n",
       "21-Nov-12  710.00   714.00   705.00   708.75   3900      1\n",
       "21-Aug-14  1019.50  1033.05  1005.00  1011.20  12500     1\n",
       "21-Dec-15  1148.00  1155.80  1129.60  1141.55  7700      1\n",
       "21-Feb-11  668.35   668.90   657.05   662.60   16100     1\n",
       "                                                        ..\n",
       "11-Jun-12  766.00   781.00   748.00   755.25   7800      1\n",
       "11-Jun-15  1296.65  1315.15  1261.00  1267.55  3900      1\n",
       "11-Mar-11  736.50   749.00   720.00   734.70   37100     1\n",
       "11-Mar-16  1155.05  1175.15  1142.00  1147.30  6100      1\n",
       "3-Sep-12   724.00   727.00   712.00   720.30   3900      1\n",
       "Length: 178, dtype: int64"
      ]
     },
     "execution_count": 142,
     "metadata": {},
     "output_type": "execute_result"
    }
   ],
   "source": [
    "df.value_counts()\n",
    "df2.value_counts()"
   ]
  },
  {
   "cell_type": "code",
   "execution_count": 137,
   "metadata": {},
   "outputs": [],
   "source": [
    "frequency_table = df.apply(\n",
    "    lambda x: pd.value_counts(x.values, sort=False),\n",
    ")"
   ]
  },
  {
   "cell_type": "code",
   "execution_count": null,
   "metadata": {},
   "outputs": [],
   "source": []
  }
 ],
 "metadata": {
  "interpreter": {
   "hash": "2dec88fdd1184d4c5d842496b8ff3ed4cbe810fb929f2402ac3de3544bb48ac8"
  },
  "kernelspec": {
   "display_name": "Python 3.9.7 ('env': venv)",
   "language": "python",
   "name": "python3"
  },
  "language_info": {
   "codemirror_mode": {
    "name": "ipython",
    "version": 3
   },
   "file_extension": ".py",
   "mimetype": "text/x-python",
   "name": "python",
   "nbconvert_exporter": "python",
   "pygments_lexer": "ipython3",
   "version": "3.9.7"
  },
  "orig_nbformat": 4
 },
 "nbformat": 4,
 "nbformat_minor": 2
}
