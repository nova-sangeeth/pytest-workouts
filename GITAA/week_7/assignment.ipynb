{
 "cells": [
  {
   "cell_type": "code",
   "execution_count": 1,
   "metadata": {},
   "outputs": [],
   "source": [
    "import numpy as np\n",
    "import pandas as pd\n",
    "import seaborn as sns\n",
    "import matplotlib.pyplot as plt\n",
    "import scipy\n",
    "from scipy.stats import ttest_1samp\n",
    "from scipy.stats import ttest_ind\n",
    "from scipy.stats import t\n",
    "from scipy.stats import f\n",
    "from scipy.stats import norm\n",
    "from statsmodels.stats.proportion import proportions_ztest\n"
   ]
  },
  {
   "cell_type": "code",
   "execution_count": 2,
   "metadata": {},
   "outputs": [],
   "source": [
    "# # python program to calculate the stationary points of a given matrix\n",
    "# def stationary_points(matrix):\n",
    "#     # matrix is a numpy array\n",
    "#     # calculate the eigenvalues and eigenvectors of the matrix\n",
    "#     eigenvalues, eigenvectors = np.linalg.eig(matrix)\n",
    "#     # sort the eigenvalues and eigenvectors\n",
    "#     eigenvalues = np.sort(eigenvalues)\n",
    "#     eigenvectors = np.sort(eigenvectors, axis=1)\n",
    "#     # create a new matrix with the sorted eigenvalues and eigenvectors\n",
    "#     new_matrix = np.dot(eigenvectors, np.diag(eigenvalues))\n",
    "#     # calculate the stationary points\n",
    "#     stationary_points = np.dot(new_matrix, matrix)\n",
    "#     return stationary_points\n",
    "\n",
    "\n",
    "\n"
   ]
  },
  {
   "cell_type": "code",
   "execution_count": 2,
   "metadata": {},
   "outputs": [
    {
     "data": {
      "text/plain": [
       "'\\nConsider the nonlinear function f({x}). After optimization, the minimum values are given by x_{1}^{*} which is local minimum and x_{2}^{*} which is global minimum. What type of optimization problem is this?\\n\\nSelect one:\\nNon-convex linear programming problem\\nConvex nonlinear programming problem\\nNon-convex nonlinear programming problem\\nConvex linear programming problem\\n'"
      ]
     },
     "execution_count": 2,
     "metadata": {},
     "output_type": "execute_result"
    }
   ],
   "source": [
    "\"\"\"\n",
    "Consider the nonlinear function f({x}). After optimization, the minimum values are given by x_{1}^{*} which is local minimum and x_{2}^{*} which is global minimum. What type of optimization problem is this?\n",
    "\n",
    "Select one:\n",
    "Non-convex linear programming problem\n",
    "Convex nonlinear programming problem\n",
    "Non-convex nonlinear programming problem\n",
    "Convex linear programming problem\n",
    "\"\"\"\n",
    "\n",
    "\n",
    "\n"
   ]
  },
  {
   "cell_type": "code",
   "execution_count": 4,
   "metadata": {},
   "outputs": [
    {
     "data": {
      "text/plain": [
       "array([-6.32455532,  6.32455532])"
      ]
     },
     "execution_count": 4,
     "metadata": {},
     "output_type": "execute_result"
    }
   ],
   "source": [
    "# consider the hessian matrix H({x})    \n",
    "H = np.array([[-6, 2], [2, 6]])\n",
    "\n",
    "\n",
    "# function to calculate the eigenvalues of a hessian matrix\n",
    "def eigenvalues(H):\n",
    "    # calculate the eigenvalues of the hessian matrix\n",
    "    eigenvalues = np.linalg.eigvals(H)\n",
    "    # sort the eigenvalues\n",
    "    eigenvalues = np.sort(eigenvalues)\n",
    "    return eigenvalues\n",
    "\n",
    "eigenvalues(H=H)\n",
    "\n",
    "\n"
   ]
  },
  {
   "cell_type": "code",
   "execution_count": 13,
   "metadata": {},
   "outputs": [
    {
     "data": {
      "text/plain": [
       "array([192, -84])"
      ]
     },
     "execution_count": 13,
     "metadata": {},
     "output_type": "execute_result"
    }
   ],
   "source": [
    "# f(x,y) = -4x^2 + 3xy + 4y^2 + 4x - y\n",
    "# find the stationary points of the function\n",
    "def stationary_points(f, x, y):\n",
    "    # calculate the gradient of the function\n",
    "    grad = np.array([-4*x + 3*y + 4, 4*x - y])\n",
    "    # calculate the hessian matrix of the function\n",
    "    hessian = np.array([[-4, 3], [3, -1]])\n",
    "    # calculate the stationary points\n",
    "    stationary_points = np.dot(hessian, grad)\n",
    "    return stationary_points\n",
    "\n",
    "\n",
    "stationary_points(\n",
    "    f=lambda x, y: -4*x**2 + 3*x*y + 4*y**2 + 4*x - y,\n",
    "    x=16,\n",
    "    y=16\n",
    "\n",
    ")\n"
   ]
  },
  {
   "cell_type": "code",
   "execution_count": null,
   "metadata": {},
   "outputs": [],
   "source": []
  }
 ],
 "metadata": {
  "interpreter": {
   "hash": "2dec88fdd1184d4c5d842496b8ff3ed4cbe810fb929f2402ac3de3544bb48ac8"
  },
  "kernelspec": {
   "display_name": "Python 3.9.7 ('env': venv)",
   "language": "python",
   "name": "python3"
  },
  "language_info": {
   "codemirror_mode": {
    "name": "ipython",
    "version": 3
   },
   "file_extension": ".py",
   "mimetype": "text/x-python",
   "name": "python",
   "nbconvert_exporter": "python",
   "pygments_lexer": "ipython3",
   "version": "3.9.7"
  },
  "orig_nbformat": 4
 },
 "nbformat": 4,
 "nbformat_minor": 2
}
