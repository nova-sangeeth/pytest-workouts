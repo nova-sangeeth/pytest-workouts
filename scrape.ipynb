{
 "cells": [
  {
   "cell_type": "code",
   "execution_count": 57,
   "metadata": {},
   "outputs": [],
   "source": [
    "import requests as r\n",
    "import bs4\n",
    "import urllib\n",
    "from newspaper import Article\n"
   ]
  },
  {
   "cell_type": "code",
   "execution_count": null,
   "metadata": {},
   "outputs": [],
   "source": [
    "import nltk\n",
    "nltk.download('punkt')"
   ]
  },
  {
   "cell_type": "code",
   "execution_count": 61,
   "metadata": {},
   "outputs": [],
   "source": [
    "url_main = \"https://www.google.com/search\"\n",
    "query = \"RCB\"\n",
    "tbm = \"nws\"\n",
    "start = \"15\"\n",
    "\n",
    "URL = f\"{url_main}?q={query}&tbm={tbm}&start={start}\"\n"
   ]
  },
  {
   "cell_type": "code",
   "execution_count": 62,
   "metadata": {},
   "outputs": [],
   "source": [
    "\n",
    "hit = r.get(url=URL)\n",
    "html = hit.content\n",
    "\n",
    "link_list = []\n",
    "cleaned_urls = []\n",
    "\n",
    "soup = bs4.BeautifulSoup(html, 'html.parser')\n",
    "tags  = soup.find_all('a')\n",
    "\n",
    "for link in tags:\n",
    "    link_list.append(link.get('href')) \n",
    "\n",
    "\n",
    "for i in link_list:\n",
    "    if i.startswith('/url?q=https://www'):\n",
    "        link = i.replace('/url?q=', '')\n",
    "        cleaned_urls.append(link)\n",
    "\n"
   ]
  },
  {
   "cell_type": "code",
   "execution_count": 69,
   "metadata": {},
   "outputs": [],
   "source": [
    "cleaned_urls\n",
    "working_urls = []\n",
    "for i in cleaned_urls:\n",
    "    req = r.get(i)\n",
    "    \n",
    "    if req.status_code == 200:\n",
    "        working_urls.append(i)\n",
    "        "
   ]
  },
  {
   "cell_type": "code",
   "execution_count": 72,
   "metadata": {},
   "outputs": [
    {
     "name": "stdout",
     "output_type": "stream",
     "text": [
      "Title: Sports News: Cricket News, Football News, Hockey News, Sports Breaking News\n",
      "authors: ['Business Standard']\n",
      "keywords: []\n",
      "url: https://www.business-standard.com/article/sports/ipl-2022-rcb-vs-csk-live-updates-dhoni-virat-ipl-points-table-playoffs-122050400410_1.html&sa=U&ved=2ahUKEwiXjNHfyoL4AhUDT2wGHcZNBak4DxDF9AF6BAgFEAI&usg=AOvVaw2LI4vh98WgKFYET9wGDOOJ\n",
      "text: A rejuvenated Indian men's hockey team would like to put up a much-improved performance when it takes on Japan in its first ...\n",
      "Title: TATA IPL 2022, Match 49: RCB Vs CSK – Match Report\n",
      "authors: []\n",
      "keywords: []\n",
      "url: https://www.iplt20.com/news/3802/tata-ipl-2022-match-49-rcb-vs-csk-match-report&sa=U&ved=2ahUKEwiXjNHfyoL4AhUDT2wGHcZNBak4DxDF9AF6BAgHEAI&usg=AOvVaw3BeTwW-nYVUfQdN7a04MeN\n",
      "text: TATA IPL 2022, Match 49: RCB Vs CSK – Match Report\n",
      "\n",
      "The Royal Challengers Bangalore (RCB) were back to winning ways in the TATA Indian Premier League (IPL) 2022 after registering a victory against Chennai Super Kings (CSK) by 13 runs on Wednesday at the Maharashtra Cricket Association Stadium in Pune.\n",
      "\n",
      "Harshal Patel’s three crucial wickets helped RCB successfully defend the score after Mahipal Lomror’s quick-fire 42(27) piloted the side to 173/8 in the first innings.\n",
      "\n",
      "Chasing 174, CSK openers – Ruturaj Gaikwad and Devon Conway started cautiously and CSK were 25-0 after 4 overs.\n",
      "\n",
      "Both Conway and Gaikwad were on the move with 3 fours and two sixes as the fifty partnership was up for the opening wicket. CSK were 51-0 after 6 overs.\n",
      "\n",
      "Shahbaz Ahmed put an end to the dangerous partnership after Gaikwad was caught by Prabhudessai. CSK were 2 down after Glenn Maxwell dismissed Robin Uthappa in the next over.\n",
      "\n",
      "Maxwell then cleaned up the stumps of Ambati Rayudu to scalp his second wicket. Conway carried his form from the previous game and reached his half-century after adding a six and a four.\n",
      "\n",
      "Wanindu Hasaranga claimed the crucial wicket of Conway, who was caught at deep backward square in the 15th over and CSK were 118/4 with five overs to go.\n",
      "\n",
      "Harshal Patel got into the act with the vital wicket of Jadeja after Virat Kohli successfully grabbed a skier in the 16th over.\n",
      "\n",
      "The equation was down to 47 off 18 for CSK. Moeen Ali hammered the first ball for six but was caught on the next delivery as Harshal bounced back with his second wicket.\n",
      "\n",
      "Josh Hazlewood picked the vital wicket of MS Dhoni after the CSK skipper was caught at deep mid-wicket in the penultimate over.\n",
      "\n",
      "CSK required 31 off 6. Dwaine Pretorius launched a six on the first ball but failed to clear the ropes on the next delivery as Harshal claimed his third wicket of the innings. Theekshana smacked a six and a four each but RCB finished with a 13-run victory.\n",
      "\n",
      "Earlier, RCB, who were put in to bat first, remained unchanged from their previous game. RCB openers – Virat Kohli and Faf du Plessis were off to a solid start and RCB were 33-0 after 4 overs.\n",
      "\n",
      "Kohli thumped the first six of the innings in the third over before adding two fours at the top. RCB were 57-0 at the end of the powerplay after du Plessis smacked his first six over long-on.\n",
      "\n",
      "Moeen Ali was introduced into the attack in the 8th over and the spinner provided CSK their first breakthrough after du Plessis holed out to the deep.\n",
      "\n",
      "Glenn Maxwell was the next batter to be dismissed after the all-rounder was run-out in the 9th over. Moeen Ali cleaned up Virat Kohli’s stumps to claim his second wicket of the innings as RCB were 79-3 at the halfway mark.\n",
      "\n",
      "Rajat Patidar and Mahipal Lomror helped RCB regain the momentum with a crucial partnership of 44. Both Patidar and Lomror added a four and six each.\n",
      "\n",
      "RCB were 123/3 at the end of 15 overs before Dwaine Pretorius broke the partnership to dismiss Patidar, thanks to a fine running catch by Mukesh Choudhary.\n",
      "\n",
      "Lomror kept the fours coming and was joined by Dinesh Karthik at the other end. Maheesh Theekshana claimed three wickets in the penultimate over including the key wicket of Lomror.\n",
      "\n",
      "Karthik hammered 2 sixes in the final over to help RCB reach 173/8 in the first innings.\n",
      "\n",
      "Brief Scores: Royal Challengers Bangalore 173/8 (Mahipal Lomror 42, Faf du Plessis 38; Maheesh Theekshana 3-27) beat Chennai Super Kings 160/8 (Devon Conway 56, Moeen Ali 34; Harshal Patel 3-35) by 13 runs.\n",
      "Title: Sports News: Cricket News, Football News, Hockey News, Sports Breaking News\n",
      "authors: ['Business Standard']\n",
      "keywords: []\n",
      "url: https://www.business-standard.com/article/sports/ipl-2022-srh-vs-rcb-live-updates-can-hyderabad-make-a-comeback-122050800445_1.html&sa=U&ved=2ahUKEwiXjNHfyoL4AhUDT2wGHcZNBak4DxDF9AF6BAgIEAI&usg=AOvVaw2228kEMFTa3-AsQj9EhdXm\n",
      "text: A rejuvenated Indian men's hockey team would like to put up a much-improved performance when it takes on Japan in its first ...\n",
      "Title: Sports News: Cricket News, Football News, Hockey News, Sports Breaking News\n",
      "authors: ['Business Standard']\n",
      "keywords: []\n",
      "url: https://www.business-standard.com/article/sports/gt-vs-rcb-predicted-playing-11-and-toss-timing-of-ipl-2022-match-43-122043000393_1.html&sa=U&ved=2ahUKEwiXjNHfyoL4AhUDT2wGHcZNBak4DxDF9AF6BAgEEAI&usg=AOvVaw2V49tfTeeCG0HLv5fi-AD7\n",
      "text: A rejuvenated Indian men's hockey team would like to put up a much-improved performance when it takes on Japan in its first ...\n"
     ]
    }
   ],
   "source": [
    "for i in working_urls:\n",
    "    news_article = Article(i)\n",
    "    news_article.download() \"\"\"request.get(url) == response.content\"\"\"\n",
    "    news_article.parse() \"\"\"  using python string methods\"\"\"  \n",
    "    # news_article.nlp() \"\"\"spacy\"\"\" \"\"\"\"\n",
    "    # news_article.text \"\"\" text from the article\"\"\"\n",
    "\n",
    "    print(f\"Title: {news_article.title}\")\n",
    "    print(f\"authors: {news_article.authors}\")\n",
    "    print(f\"keywords: {news_article.keywords}\")\n",
    "    print(f\"url: {news_article.url}\")\n",
    "    print(f\"text: {news_article.text}\")"
   ]
  },
  {
   "cell_type": "code",
   "execution_count": 68,
   "metadata": {},
   "outputs": [
    {
     "name": "stdout",
     "output_type": "stream",
     "text": [
      "{'Content-Encoding': 'gzip', 'Content-Type': 'text/html; charset=utf-8', 'Pragma': 'no-cache', 'Server': 'Apache', 'Strict-Transport-Security': 'max-age=31536000; env=HTTPS', 'X-Mod-Pagespeed': '1.13.35.1-0', 'Content-Length': '32053', 'Cache-Control': 'no-cache, no-store, must-revalidate, post-check=0, pre-check=0', 'Date': 'Sat, 28 May 2022 16:16:21 GMT', 'Connection': 'keep-alive', 'Vary': 'Accept-Encoding'}\n",
      "200\n",
      "{'Content-Type': 'text/html', 'Content-Length': '51', 'Date': 'Sat, 28 May 2022 16:16:21 GMT', 'Connection': 'keep-alive', 'Set-Cookie': 'ht-location=IN; path=/', 'cachettl': '', 'X-Frame-Options': 'SAMEORIGIN'}\n",
      "401\n",
      "{'Date': 'Sat, 28 May 2022 16:16:22 GMT', 'Content-Type': 'text/html; charset=UTF-8', 'Set-Cookie': 'AWSALB=y/1C+Fys3xAiWK2nez3UoKutvFd+yNRTW4/2uLqsYL2hNog6SBv7UfICcBvWYAVVdgLE9bW15bvBhaaWK9+KqLaOIyijy7OpgH1cyta87rHxQjP9KMYUxiMcJ776; Expires=Sat, 04 Jun 2022 16:16:22 GMT; Path=/, AWSALBCORS=y/1C+Fys3xAiWK2nez3UoKutvFd+yNRTW4/2uLqsYL2hNog6SBv7UfICcBvWYAVVdgLE9bW15bvBhaaWK9+KqLaOIyijy7OpgH1cyta87rHxQjP9KMYUxiMcJ776; Expires=Sat, 04 Jun 2022 16:16:22 GMT; Path=/; SameSite=None; Secure, laravel_session=eyJpdiI6IkVrSVNjUkp1NGFxaHhwY3B0clQ0aUE9PSIsInZhbHVlIjoiK3d4cC9seDBqYXpQTkVLYTkvOFV6Z05JOUF0VWZWL0hvWlEwTmozWjh0TDRWU3Rib3hKVnpoenlLRC9nWEVQOEtRQUpGU25TRktCOUdPVCtnRXFVb3Q1aFJETGpjeE1KNk5CL2xkcjRTRTJaZk5ubnppYWFDM0F0NGkyUkFuNy8iLCJtYWMiOiIxMGQ4NWYxNGQ2OGY2N2M3NDBhNDNmMmM0ZWM4YjFkZjcxNjBmNDc3ZGMxNjY2MDcwNzlkNjI5YzQwNjBmNzVhIiwidGFnIjoiIn0%3D; expires=Sat, 28-May-2022 18:16:22 GMT; Max-Age=7200; path=/; httponly; samesite=lax', 'Server': 'nginx', 'Cache-Control': 'private', 'Content-Encoding': 'gzip', 'Vary': 'Accept-Encoding', 'X-LLID': '4bdb90b394e1645f17fc804499a065ad', 'Transfer-Encoding': 'chunked'}\n",
      "200\n",
      "{'Content-Encoding': 'gzip', 'Content-Type': 'text/html; charset=utf-8', 'Pragma': 'no-cache', 'Server': 'Apache', 'Strict-Transport-Security': 'max-age=31536000; env=HTTPS', 'X-Mod-Pagespeed': '1.13.35.1-0', 'Content-Length': '32053', 'Cache-Control': 'no-cache, no-store, must-revalidate, post-check=0, pre-check=0', 'Date': 'Sat, 28 May 2022 16:16:23 GMT', 'Connection': 'keep-alive', 'Vary': 'Accept-Encoding', 'Set-Cookie': '_is_user_logged_in=deleted; expires=Thu, 01-Jan-1970 00:00:01 GMT; path=/; httponly, _userLoggedIn=deleted; expires=Thu, 01-Jan-1970 00:00:01 GMT; path=/; httponly, columnistFollowList=deleted; expires=Thu, 01-Jan-1970 00:00:01 GMT; path=/; httponly, country_code=IN; expires=Sun, 29-May-2022 16:16:23 GMT, _pw=deleted; expires=Thu, 01-Jan-1970 00:00:01 GMT; path=/; httponly, _pw=deleted; expires=Thu, 01-Jan-1970 00:00:01 GMT; path=/; httponly, eventLabelUrl=https%3A%2F%2Fwww.business-standard.com%2Fsports%3Ftime%3D1653754582; expires=Sat, 28-May-2022 16:18:23 GMT; path=/;SameSite=Lax; domain=.business-standard.com'}\n",
      "200\n",
      "{'Content-Type': 'text/html', 'Content-Length': '51', 'Date': 'Sat, 28 May 2022 16:16:24 GMT', 'Connection': 'keep-alive', 'Set-Cookie': 'ht-location=IN; path=/', 'cachettl': '', 'X-Frame-Options': 'SAMEORIGIN'}\n",
      "401\n",
      "{'Content-Encoding': 'gzip', 'Content-Type': 'text/html; charset=utf-8', 'Pragma': 'no-cache', 'Server': 'Apache', 'Strict-Transport-Security': 'max-age=31536000; env=HTTPS', 'X-Mod-Pagespeed': '1.13.35.1-0', 'Content-Length': '32054', 'Cache-Control': 'no-cache, no-store, must-revalidate, post-check=0, pre-check=0', 'Date': 'Sat, 28 May 2022 16:16:25 GMT', 'Connection': 'keep-alive', 'Vary': 'Accept-Encoding', 'Set-Cookie': '_is_user_logged_in=deleted; expires=Thu, 01-Jan-1970 00:00:01 GMT; path=/; httponly, _userLoggedIn=deleted; expires=Thu, 01-Jan-1970 00:00:01 GMT; path=/; httponly, columnistFollowList=deleted; expires=Thu, 01-Jan-1970 00:00:01 GMT; path=/; httponly, country_code=IN; expires=Sun, 29-May-2022 16:16:25 GMT, _pw=deleted; expires=Thu, 01-Jan-1970 00:00:01 GMT; path=/; httponly, _pw=deleted; expires=Thu, 01-Jan-1970 00:00:01 GMT; path=/; httponly, eventLabelUrl=https%3A%2F%2Fwww.business-standard.com%2Fsports%3Ftime%3D1653754584; expires=Sat, 28-May-2022 16:18:25 GMT; path=/;SameSite=Lax; domain=.business-standard.com'}\n",
      "200\n",
      "{'Date': 'Sat, 28 May 2022 16:16:27 GMT', 'Content-Type': 'text/html; charset=UTF-8', 'Transfer-Encoding': 'chunked', 'Connection': 'keep-alive', 'expires': 'Wed, 11 Jan 1984 05:00:00 GMT', 'Cache-Control': 'max-age=1800, must-revalidate', 'link': '<https://www.crictracker.com/wp-json/>; rel=\"https://api.w.org/\"', 'x-litespeed-cache': 'miss', 'vary': 'Accept-Encoding', 'a-hosted-by': 'BaseZap', 'alt-svc': 'h3=\":443\"; ma=86400, h3-29=\":443\"; ma=86400', 'x-turbo-charged-by': 'LiteSpeed', 'CF-Cache-Status': 'MISS', 'Expect-CT': 'max-age=604800, report-uri=\"https://report-uri.cloudflare.com/cdn-cgi/beacon/expect-ct\"', 'Report-To': '{\"endpoints\":[{\"url\":\"https:\\\\/\\\\/a.nel.cloudflare.com\\\\/report\\\\/v3?s=WTol1v%2B9BzIO%2FWgO2187LvNk%2B1DNyS4TnWsbczndaNzFRKpJJs%2FZodrgwGLPTow7dVreGW%2Fo4IRt59e%2FnDIDupR2tCmM2jkrc9PTodEjTWQcOhX%2FrM7eEC2%2BcwlYWMwhKzxJeQfh\"}],\"group\":\"cf-nel\",\"max_age\":604800}', 'NEL': '{\"success_fraction\":0,\"report_to\":\"cf-nel\",\"max_age\":604800}', 'Server': 'cloudflare', 'CF-RAY': '71284b727f14919f-SIN', 'Content-Encoding': 'gzip'}\n",
      "404\n"
     ]
    }
   ],
   "source": [
    "# use urllib and find the count of how many ruls have the same domain in cleaned_urls\n",
    "# look_up = {}\n",
    "# for i in cleaned_urls:\n",
    "#     url = urllib.parse.urlparse(i)\n",
    "#     # print(url)\n",
    "#     domain = url.netloc\n",
    "#     if domain in look_up:\n",
    "#         look_up[domain] += 1\n",
    "#     else:\n",
    "#         look_up[domain] = 1\n",
    "#     # print(domain)\n",
    "\n",
    "# print(look_up)\n",
    "\n",
    "for i in cleaned_urls:\n",
    "    req = r.get(i)\n",
    "    print(req.headers)\n",
    "    print(req.status_code)"
   ]
  },
  {
   "cell_type": "code",
   "execution_count": null,
   "metadata": {},
   "outputs": [],
   "source": [
    "# url = 'https://eand.co/the-age-of-extinction-is-here-some-of-us-just-dont-know-it-yet-7001f5e0c79a'\n",
    "# url = \"https://www.hindustantimes.com/cities/pune-news/covid19-maharashtra-reports-first-cases-of-ba-4-ba-5-subvariants-of-omicron-101653741892079.html\"\n",
    "url = \"https://www.financialexpress.com/express-mobility/ford-joins-first-movers-coalition-moves-a-step-ahead-to-carbon-neutrality/2540483/\"\n",
    "article = Article(url)\n",
    "article.download()\n",
    "article.parse()\n",
    "article.nlp(\n",
    "\n",
    ")\n",
    "article.publish_date"
   ]
  },
  {
   "cell_type": "code",
   "execution_count": null,
   "metadata": {},
   "outputs": [],
   "source": [
    "article.authors"
   ]
  },
  {
   "cell_type": "code",
   "execution_count": null,
   "metadata": {},
   "outputs": [],
   "source": [
    "print(article.keywords)\n",
    "article.top_image\n"
   ]
  },
  {
   "cell_type": "code",
   "execution_count": null,
   "metadata": {},
   "outputs": [],
   "source": []
  },
  {
   "cell_type": "code",
   "execution_count": null,
   "metadata": {},
   "outputs": [],
   "source": []
  },
  {
   "cell_type": "code",
   "execution_count": null,
   "metadata": {},
   "outputs": [],
   "source": [
    "article.keywords"
   ]
  },
  {
   "cell_type": "code",
   "execution_count": 73,
   "metadata": {},
   "outputs": [
    {
     "name": "stdout",
     "output_type": "stream",
     "text": [
      "Collecting spacy\n",
      "  Downloading spacy-3.3.0-cp39-cp39-manylinux_2_17_x86_64.manylinux2014_x86_64.whl (6.3 MB)\n",
      "\u001b[2K     \u001b[38;2;114;156;31m━━━━━━━━━━━━━━━━━━━━━━━━━━━━━━━━━━━━━━━━\u001b[0m \u001b[32m6.3/6.3 MB\u001b[0m \u001b[31m296.0 kB/s\u001b[0m eta \u001b[36m0:00:00\u001b[0mm eta \u001b[36m0:00:01\u001b[0m[36m0:00:01\u001b[0m\n",
      "\u001b[?25hCollecting catalogue<2.1.0,>=2.0.6\n",
      "  Downloading catalogue-2.0.7-py3-none-any.whl (17 kB)\n",
      "Requirement already satisfied: jinja2 in ./env/lib/python3.9/site-packages (from spacy) (3.0.3)\n",
      "Collecting spacy-legacy<3.1.0,>=3.0.9\n",
      "  Downloading spacy_legacy-3.0.9-py2.py3-none-any.whl (20 kB)\n",
      "Collecting cymem<2.1.0,>=2.0.2\n",
      "  Downloading cymem-2.0.6-cp39-cp39-manylinux_2_17_x86_64.manylinux2014_x86_64.whl (35 kB)\n",
      "Collecting langcodes<4.0.0,>=3.2.0\n",
      "  Downloading langcodes-3.3.0-py3-none-any.whl (181 kB)\n",
      "\u001b[2K     \u001b[38;2;114;156;31m━━━━━━━━━━━━━━━━━━━━━━━━━━━━━━━━━━━━━\u001b[0m \u001b[32m181.6/181.6 KB\u001b[0m \u001b[31m364.4 kB/s\u001b[0m eta \u001b[36m0:00:00\u001b[0m kB/s\u001b[0m eta \u001b[36m0:00:01\u001b[0m:01\u001b[0m\n",
      "\u001b[?25hCollecting typer<0.5.0,>=0.3.0\n",
      "  Downloading typer-0.4.1-py3-none-any.whl (27 kB)\n",
      "Collecting blis<0.8.0,>=0.4.0\n",
      "  Downloading blis-0.7.7-cp39-cp39-manylinux_2_17_x86_64.manylinux2014_x86_64.whl (9.9 MB)\n",
      "\u001b[2K     \u001b[38;2;114;156;31m━━━━━━━━━━━━━━━━━━━━━━━━━━━━━━━━━━━━━━━━\u001b[0m \u001b[32m9.9/9.9 MB\u001b[0m \u001b[31m282.4 kB/s\u001b[0m eta \u001b[36m0:00:00\u001b[0mm eta \u001b[36m0:00:01\u001b[0m[36m0:00:01\u001b[0m\n",
      "\u001b[?25hCollecting preshed<3.1.0,>=3.0.2\n",
      "  Downloading preshed-3.0.6-cp39-cp39-manylinux_2_5_x86_64.manylinux1_x86_64.manylinux_2_17_x86_64.manylinux2014_x86_64.whl (128 kB)\n",
      "\u001b[2K     \u001b[38;2;114;156;31m━━━━━━━━━━━━━━━━━━━━━━━━━━━━━━━━━━━━━\u001b[0m \u001b[32m128.1/128.1 KB\u001b[0m \u001b[31m590.8 kB/s\u001b[0m eta \u001b[36m0:00:00\u001b[0m kB/s\u001b[0m eta \u001b[36m0:00:01\u001b[0m:01\u001b[0m\n",
      "\u001b[?25hCollecting srsly<3.0.0,>=2.4.3\n",
      "  Downloading srsly-2.4.3-cp39-cp39-manylinux_2_17_x86_64.manylinux2014_x86_64.whl (457 kB)\n",
      "\u001b[2K     \u001b[38;2;114;156;31m━━━━━━━━━━━━━━━━━━━━━━━━━━━━━━━━━━━━━\u001b[0m \u001b[32m457.6/457.6 KB\u001b[0m \u001b[31m365.8 kB/s\u001b[0m eta \u001b[36m0:00:00\u001b[0m[36m0:00:01\u001b[0mm eta \u001b[36m0:00:01\u001b[0m\n",
      "\u001b[?25hRequirement already satisfied: tqdm<5.0.0,>=4.38.0 in ./env/lib/python3.9/site-packages (from spacy) (4.64.0)\n",
      "Collecting pathy>=0.3.5\n",
      "  Downloading pathy-0.6.1-py3-none-any.whl (42 kB)\n",
      "\u001b[2K     \u001b[38;2;114;156;31m━━━━━━━━━━━━━━━━━━━━━━━━━━━━━━━━━━━━━━━\u001b[0m \u001b[32m42.8/42.8 KB\u001b[0m \u001b[31m390.3 kB/s\u001b[0m eta \u001b[36m0:00:00\u001b[0m1m553.1 kB/s\u001b[0m eta \u001b[36m0:00:01\u001b[0m\n",
      "\u001b[?25hCollecting thinc<8.1.0,>=8.0.14\n",
      "  Downloading thinc-8.0.16-cp39-cp39-manylinux_2_17_x86_64.manylinux2014_x86_64.whl (668 kB)\n",
      "\u001b[2K     \u001b[38;2;114;156;31m━━━━━━━━━━━━━━━━━━━━━━━━━━━━━━━━━━━━━\u001b[0m \u001b[32m668.8/668.8 KB\u001b[0m \u001b[31m235.6 kB/s\u001b[0m eta \u001b[36m0:00:00\u001b[0m1m232.2 kB/s\u001b[0m eta \u001b[36m0:00:01\u001b[0m\n",
      "\u001b[?25hRequirement already satisfied: packaging>=20.0 in ./env/lib/python3.9/site-packages (from spacy) (21.3)\n",
      "Requirement already satisfied: setuptools in ./env/lib/python3.9/site-packages (from spacy) (60.9.3)\n",
      "Collecting murmurhash<1.1.0,>=0.28.0\n",
      "  Downloading murmurhash-1.0.7-cp39-cp39-manylinux_2_5_x86_64.manylinux1_x86_64.manylinux_2_17_x86_64.manylinux2014_x86_64.whl (21 kB)\n",
      "Collecting pydantic!=1.8,!=1.8.1,<1.9.0,>=1.7.4\n",
      "  Downloading pydantic-1.8.2-cp39-cp39-manylinux2014_x86_64.whl (11.3 MB)\n",
      "\u001b[2K     \u001b[38;2;114;156;31m━━━━━━━━━━━━━━━━━━━━━━━━━━━━━━━━━━━━━━━━\u001b[0m \u001b[32m11.3/11.3 MB\u001b[0m \u001b[31m63.5 kB/s\u001b[0m eta \u001b[36m0:00:00\u001b[0mm eta \u001b[36m0:00:01\u001b[0m[36m0:00:06\u001b[0m\n",
      "\u001b[?25hCollecting spacy-loggers<2.0.0,>=1.0.0\n",
      "  Downloading spacy_loggers-1.0.2-py3-none-any.whl (7.2 kB)\n",
      "Collecting wasabi<1.1.0,>=0.9.1\n",
      "  Downloading wasabi-0.9.1-py3-none-any.whl (26 kB)\n",
      "Requirement already satisfied: numpy>=1.15.0 in ./env/lib/python3.9/site-packages (from spacy) (1.22.3)\n",
      "Requirement already satisfied: requests<3.0.0,>=2.13.0 in ./env/lib/python3.9/site-packages (from spacy) (2.27.1)\n",
      "Requirement already satisfied: pyparsing!=3.0.5,>=2.0.2 in ./env/lib/python3.9/site-packages (from packaging>=20.0->spacy) (3.0.7)\n",
      "Collecting smart-open<6.0.0,>=5.0.0\n",
      "  Downloading smart_open-5.2.1-py3-none-any.whl (58 kB)\n",
      "\u001b[2K     \u001b[38;2;114;156;31m━━━━━━━━━━━━━━━━━━━━━━━━━━━━━━━━━━━━━━━\u001b[0m \u001b[32m58.6/58.6 KB\u001b[0m \u001b[31m172.6 kB/s\u001b[0m eta \u001b[36m0:00:00\u001b[0m kB/s\u001b[0m eta \u001b[36m0:00:01\u001b[0m\n",
      "\u001b[?25hRequirement already satisfied: typing-extensions>=3.7.4.3 in ./env/lib/python3.9/site-packages (from pydantic!=1.8,!=1.8.1,<1.9.0,>=1.7.4->spacy) (4.1.1)\n",
      "Requirement already satisfied: certifi>=2017.4.17 in ./env/lib/python3.9/site-packages (from requests<3.0.0,>=2.13.0->spacy) (2021.10.8)\n",
      "Requirement already satisfied: urllib3<1.27,>=1.21.1 in ./env/lib/python3.9/site-packages (from requests<3.0.0,>=2.13.0->spacy) (1.26.9)\n",
      "Requirement already satisfied: charset-normalizer~=2.0.0 in ./env/lib/python3.9/site-packages (from requests<3.0.0,>=2.13.0->spacy) (2.0.12)\n",
      "Requirement already satisfied: idna<4,>=2.5 in ./env/lib/python3.9/site-packages (from requests<3.0.0,>=2.13.0->spacy) (3.3)\n",
      "Requirement already satisfied: click<9.0.0,>=7.1.1 in ./env/lib/python3.9/site-packages (from typer<0.5.0,>=0.3.0->spacy) (8.1.3)\n",
      "Requirement already satisfied: MarkupSafe>=2.0 in ./env/lib/python3.9/site-packages (from jinja2->spacy) (2.1.1)\n",
      "Installing collected packages: wasabi, murmurhash, cymem, typer, spacy-loggers, spacy-legacy, smart-open, pydantic, preshed, langcodes, catalogue, blis, srsly, pathy, thinc, spacy\n",
      "  Attempting uninstall: pydantic\n",
      "    Found existing installation: pydantic 1.9.0\n",
      "    Uninstalling pydantic-1.9.0:\n",
      "      Successfully uninstalled pydantic-1.9.0\n",
      "Successfully installed blis-0.7.7 catalogue-2.0.7 cymem-2.0.6 langcodes-3.3.0 murmurhash-1.0.7 pathy-0.6.1 preshed-3.0.6 pydantic-1.8.2 smart-open-5.2.1 spacy-3.3.0 spacy-legacy-3.0.9 spacy-loggers-1.0.2 srsly-2.4.3 thinc-8.0.16 typer-0.4.1 wasabi-0.9.1\n",
      "\u001b[33mWARNING: You are using pip version 22.0.4; however, version 22.1.1 is available.\n",
      "You should consider upgrading via the '/home/novasangeeth/work/pytest-workouts/env/bin/python -m pip install --upgrade pip' command.\u001b[0m\u001b[33m\n",
      "\u001b[0m"
     ]
    }
   ],
   "source": [
    "!pip install spacy\n"
   ]
  },
  {
   "cell_type": "code",
   "execution_count": 74,
   "metadata": {},
   "outputs": [
    {
     "ename": "OSError",
     "evalue": "[E050] Can't find model 'en_core_web_sm'. It doesn't seem to be a Python package or a valid path to a data directory.",
     "output_type": "error",
     "traceback": [
      "\u001b[0;31m---------------------------------------------------------------------------\u001b[0m",
      "\u001b[0;31mOSError\u001b[0m                                   Traceback (most recent call last)",
      "\u001b[1;32m/home/novasangeeth/work/pytest-workouts/scrape.ipynb Cell 15'\u001b[0m in \u001b[0;36m<cell line: 4>\u001b[0;34m()\u001b[0m\n\u001b[1;32m      <a href='vscode-notebook-cell:/home/novasangeeth/work/pytest-workouts/scrape.ipynb#ch0000015?line=0'>1</a>\u001b[0m \u001b[39mimport\u001b[39;00m \u001b[39mspacy\u001b[39;00m\n\u001b[1;32m      <a href='vscode-notebook-cell:/home/novasangeeth/work/pytest-workouts/scrape.ipynb#ch0000015?line=2'>3</a>\u001b[0m \u001b[39m# Load English tokenizer, tagger, parser and NER\u001b[39;00m\n\u001b[0;32m----> <a href='vscode-notebook-cell:/home/novasangeeth/work/pytest-workouts/scrape.ipynb#ch0000015?line=3'>4</a>\u001b[0m nlp \u001b[39m=\u001b[39m spacy\u001b[39m.\u001b[39;49mload(\u001b[39m\"\u001b[39;49m\u001b[39men_core_web_sm\u001b[39;49m\u001b[39m\"\u001b[39;49m)\n",
      "File \u001b[0;32m~/work/pytest-workouts/env/lib/python3.9/site-packages/spacy/__init__.py:51\u001b[0m, in \u001b[0;36mload\u001b[0;34m(name, vocab, disable, exclude, config)\u001b[0m\n\u001b[1;32m     <a href='file:///home/novasangeeth/work/pytest-workouts/env/lib/python3.9/site-packages/spacy/__init__.py?line=29'>30</a>\u001b[0m \u001b[39mdef\u001b[39;00m \u001b[39mload\u001b[39m(\n\u001b[1;32m     <a href='file:///home/novasangeeth/work/pytest-workouts/env/lib/python3.9/site-packages/spacy/__init__.py?line=30'>31</a>\u001b[0m     name: Union[\u001b[39mstr\u001b[39m, Path],\n\u001b[1;32m     <a href='file:///home/novasangeeth/work/pytest-workouts/env/lib/python3.9/site-packages/spacy/__init__.py?line=31'>32</a>\u001b[0m     \u001b[39m*\u001b[39m,\n\u001b[0;32m   (...)\u001b[0m\n\u001b[1;32m     <a href='file:///home/novasangeeth/work/pytest-workouts/env/lib/python3.9/site-packages/spacy/__init__.py?line=35'>36</a>\u001b[0m     config: Union[Dict[\u001b[39mstr\u001b[39m, Any], Config] \u001b[39m=\u001b[39m util\u001b[39m.\u001b[39mSimpleFrozenDict(),\n\u001b[1;32m     <a href='file:///home/novasangeeth/work/pytest-workouts/env/lib/python3.9/site-packages/spacy/__init__.py?line=36'>37</a>\u001b[0m ) \u001b[39m-\u001b[39m\u001b[39m>\u001b[39m Language:\n\u001b[1;32m     <a href='file:///home/novasangeeth/work/pytest-workouts/env/lib/python3.9/site-packages/spacy/__init__.py?line=37'>38</a>\u001b[0m     \u001b[39m\"\"\"Load a spaCy model from an installed package or a local path.\u001b[39;00m\n\u001b[1;32m     <a href='file:///home/novasangeeth/work/pytest-workouts/env/lib/python3.9/site-packages/spacy/__init__.py?line=38'>39</a>\u001b[0m \n\u001b[1;32m     <a href='file:///home/novasangeeth/work/pytest-workouts/env/lib/python3.9/site-packages/spacy/__init__.py?line=39'>40</a>\u001b[0m \u001b[39m    name (str): Package name or model path.\u001b[39;00m\n\u001b[0;32m   (...)\u001b[0m\n\u001b[1;32m     <a href='file:///home/novasangeeth/work/pytest-workouts/env/lib/python3.9/site-packages/spacy/__init__.py?line=48'>49</a>\u001b[0m \u001b[39m    RETURNS (Language): The loaded nlp object.\u001b[39;00m\n\u001b[1;32m     <a href='file:///home/novasangeeth/work/pytest-workouts/env/lib/python3.9/site-packages/spacy/__init__.py?line=49'>50</a>\u001b[0m \u001b[39m    \"\"\"\u001b[39;00m\n\u001b[0;32m---> <a href='file:///home/novasangeeth/work/pytest-workouts/env/lib/python3.9/site-packages/spacy/__init__.py?line=50'>51</a>\u001b[0m     \u001b[39mreturn\u001b[39;00m util\u001b[39m.\u001b[39;49mload_model(\n\u001b[1;32m     <a href='file:///home/novasangeeth/work/pytest-workouts/env/lib/python3.9/site-packages/spacy/__init__.py?line=51'>52</a>\u001b[0m         name, vocab\u001b[39m=\u001b[39;49mvocab, disable\u001b[39m=\u001b[39;49mdisable, exclude\u001b[39m=\u001b[39;49mexclude, config\u001b[39m=\u001b[39;49mconfig\n\u001b[1;32m     <a href='file:///home/novasangeeth/work/pytest-workouts/env/lib/python3.9/site-packages/spacy/__init__.py?line=52'>53</a>\u001b[0m     )\n",
      "File \u001b[0;32m~/work/pytest-workouts/env/lib/python3.9/site-packages/spacy/util.py:427\u001b[0m, in \u001b[0;36mload_model\u001b[0;34m(name, vocab, disable, exclude, config)\u001b[0m\n\u001b[1;32m    <a href='file:///home/novasangeeth/work/pytest-workouts/env/lib/python3.9/site-packages/spacy/util.py?line=424'>425</a>\u001b[0m \u001b[39mif\u001b[39;00m name \u001b[39min\u001b[39;00m OLD_MODEL_SHORTCUTS:\n\u001b[1;32m    <a href='file:///home/novasangeeth/work/pytest-workouts/env/lib/python3.9/site-packages/spacy/util.py?line=425'>426</a>\u001b[0m     \u001b[39mraise\u001b[39;00m \u001b[39mIOError\u001b[39;00m(Errors\u001b[39m.\u001b[39mE941\u001b[39m.\u001b[39mformat(name\u001b[39m=\u001b[39mname, full\u001b[39m=\u001b[39mOLD_MODEL_SHORTCUTS[name]))  \u001b[39m# type: ignore[index]\u001b[39;00m\n\u001b[0;32m--> <a href='file:///home/novasangeeth/work/pytest-workouts/env/lib/python3.9/site-packages/spacy/util.py?line=426'>427</a>\u001b[0m \u001b[39mraise\u001b[39;00m \u001b[39mIOError\u001b[39;00m(Errors\u001b[39m.\u001b[39mE050\u001b[39m.\u001b[39mformat(name\u001b[39m=\u001b[39mname))\n",
      "\u001b[0;31mOSError\u001b[0m: [E050] Can't find model 'en_core_web_sm'. It doesn't seem to be a Python package or a valid path to a data directory."
     ]
    }
   ],
   "source": [
    "import spacy\n",
    "\n",
    "# Load English tokenizer, tagger, parser and NER\n",
    "nlp = spacy.load(\"en_core_web_sm\")\n"
   ]
  },
  {
   "cell_type": "code",
   "execution_count": null,
   "metadata": {},
   "outputs": [],
   "source": []
  }
 ],
 "metadata": {
  "interpreter": {
   "hash": "2dec88fdd1184d4c5d842496b8ff3ed4cbe810fb929f2402ac3de3544bb48ac8"
  },
  "kernelspec": {
   "display_name": "Python 3.9.7 ('env': venv)",
   "language": "python",
   "name": "python3"
  },
  "language_info": {
   "codemirror_mode": {
    "name": "ipython",
    "version": 3
   },
   "file_extension": ".py",
   "mimetype": "text/x-python",
   "name": "python",
   "nbconvert_exporter": "python",
   "pygments_lexer": "ipython3",
   "version": "3.9.7"
  },
  "orig_nbformat": 4
 },
 "nbformat": 4,
 "nbformat_minor": 2
}
