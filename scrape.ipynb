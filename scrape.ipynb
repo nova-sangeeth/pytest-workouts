{
 "cells": [
  {
   "cell_type": "code",
   "execution_count": 41,
   "metadata": {},
   "outputs": [],
   "source": [
    "import requests as r\n",
    "import bs4\n",
    "import urllib"
   ]
  },
  {
   "cell_type": "code",
   "execution_count": 38,
   "metadata": {},
   "outputs": [],
   "source": [
    "url_main = \"https://www.google.com/search\"\n",
    "query = \"carbon+net+zero\"\n",
    "tbm = \"nws\"\n",
    "start = \"15\"\n",
    "\n",
    "link_list = []\n",
    "cleaned_urls = []\n",
    "\n",
    "URL = f\"{url_main}?q={query}&tbm={tbm}&start={start}\"\n",
    "hit = r.get(url=URL)\n",
    "html = hit.content\n",
    "\n",
    "soup = bs4.BeautifulSoup(html, 'html.parser')\n",
    "tags  = soup.find_all('a')\n",
    "\n",
    "for link in tags:\n",
    "    link_list.append(link.get('href')) \n",
    "\n",
    "\n",
    "for i in link_list:\n",
    "    if i.startswith('/url?q=https://www'):\n",
    "        link = i.replace('/url?q=', '')\n",
    "        cleaned_urls.append(link)\n",
    "\n"
   ]
  },
  {
   "cell_type": "code",
   "execution_count": 45,
   "metadata": {},
   "outputs": [
    {
     "data": {
      "text/plain": [
       "['https://www.seatrade-cruise.com/environmental-health/nclh-pursue-net-zero-carbon-emissions-2050&sa=U&ved=2ahUKEwjJjJ-Dlbf3AhVg8XMBHXJiCKY4DxDF9AF6BAgIEAI&usg=AOvVaw3hmoWUGbzu81IV-gjQu1N3',\n",
       " 'https://www.seatrade-cruise.com/environmental-health/nclh-pursue-net-zero-carbon-emissions-2050&sa=U&ved=2ahUKEwjJjJ-Dlbf3AhVg8XMBHXJiCKY4DxDRjwV6BAgIEAM&usg=AOvVaw3c9FK-xSoH-LnovVnp2DHg',\n",
       " 'https://www.hospitalitynet.org/opinion/4110171.html&sa=U&ved=2ahUKEwjJjJ-Dlbf3AhVg8XMBHXJiCKY4DxDF9AF6BAgJEAI&usg=AOvVaw1yowFmYvJYK523DecI9eYS',\n",
       " 'https://www.hospitalitynet.org/opinion/4110171.html&sa=U&ved=2ahUKEwjJjJ-Dlbf3AhVg8XMBHXJiCKY4DxDRjwV6BAgJEAM&usg=AOvVaw21xIrMkaLymmktwslyVOVJ',\n",
       " 'https://www.edie.net/partner-content/free-webinar-what-is-a-carbon-life-cycle-assessment-and-what-role-does-it-play-in-a-net-zero-strategy/&sa=U&ved=2ahUKEwjJjJ-Dlbf3AhVg8XMBHXJiCKY4DxDF9AF6BAgHEAI&usg=AOvVaw1mVRkNQIZhT5HXrhYOZisF',\n",
       " 'https://www.edie.net/partner-content/free-webinar-what-is-a-carbon-life-cycle-assessment-and-what-role-does-it-play-in-a-net-zero-strategy/&sa=U&ved=2ahUKEwjJjJ-Dlbf3AhVg8XMBHXJiCKY4DxDRjwV6BAgHEAM&usg=AOvVaw0wvdDTZNWZAZAPIiDGHK5p',\n",
       " 'https://www.businesswire.com/news/home/20220426005862/en/New-EcoStruxure%25E2%2584%25A2-Building-Solutions-From-Schneider-Electric-Answer-Today%25E2%2580%2599s-Imperative-to-Deliver-Net-Zero-Carbon-Buildings&sa=U&ved=2ahUKEwjJjJ-Dlbf3AhVg8XMBHXJiCKY4DxDF9AF6BAgCEAI&usg=AOvVaw1e5nG8cQq4yTZ4PzfvIuSc',\n",
       " 'https://www.businesswire.com/news/home/20220426005862/en/New-EcoStruxure%25E2%2584%25A2-Building-Solutions-From-Schneider-Electric-Answer-Today%25E2%2580%2599s-Imperative-to-Deliver-Net-Zero-Carbon-Buildings&sa=U&ved=2ahUKEwjJjJ-Dlbf3AhVg8XMBHXJiCKY4DxDRjwV6BAgCEAM&usg=AOvVaw3FXhscRuwSmv_daQ1u1tyb',\n",
       " 'https://www.thenational.wales/environment/20101503.western-power-distribution-makes-bold-net-zero-pledge/&sa=U&ved=2ahUKEwjJjJ-Dlbf3AhVg8XMBHXJiCKY4DxDF9AF6BAgGEAI&usg=AOvVaw132OdkdQvtRs9xBLDS3SNV',\n",
       " 'https://www.thenational.wales/environment/20101503.western-power-distribution-makes-bold-net-zero-pledge/&sa=U&ved=2ahUKEwjJjJ-Dlbf3AhVg8XMBHXJiCKY4DxDRjwV6BAgGEAM&usg=AOvVaw3nmuDtIOYrVOuUMrYDVUQH']"
      ]
     },
     "execution_count": 45,
     "metadata": {},
     "output_type": "execute_result"
    }
   ],
   "source": [
    "cleaned_urls"
   ]
  },
  {
   "cell_type": "code",
   "execution_count": 49,
   "metadata": {},
   "outputs": [
    {
     "name": "stdout",
     "output_type": "stream",
     "text": [
      "ParseResult(scheme='https', netloc='www.seatrade-cruise.com', path='/environmental-health/nclh-pursue-net-zero-carbon-emissions-2050&sa=U&ved=2ahUKEwjJjJ-Dlbf3AhVg8XMBHXJiCKY4DxDF9AF6BAgIEAI&usg=AOvVaw3hmoWUGbzu81IV-gjQu1N3', params='', query='', fragment='')\n",
      "ParseResult(scheme='https', netloc='www.seatrade-cruise.com', path='/environmental-health/nclh-pursue-net-zero-carbon-emissions-2050&sa=U&ved=2ahUKEwjJjJ-Dlbf3AhVg8XMBHXJiCKY4DxDRjwV6BAgIEAM&usg=AOvVaw3c9FK-xSoH-LnovVnp2DHg', params='', query='', fragment='')\n",
      "ParseResult(scheme='https', netloc='www.hospitalitynet.org', path='/opinion/4110171.html&sa=U&ved=2ahUKEwjJjJ-Dlbf3AhVg8XMBHXJiCKY4DxDF9AF6BAgJEAI&usg=AOvVaw1yowFmYvJYK523DecI9eYS', params='', query='', fragment='')\n",
      "ParseResult(scheme='https', netloc='www.hospitalitynet.org', path='/opinion/4110171.html&sa=U&ved=2ahUKEwjJjJ-Dlbf3AhVg8XMBHXJiCKY4DxDRjwV6BAgJEAM&usg=AOvVaw21xIrMkaLymmktwslyVOVJ', params='', query='', fragment='')\n",
      "ParseResult(scheme='https', netloc='www.edie.net', path='/partner-content/free-webinar-what-is-a-carbon-life-cycle-assessment-and-what-role-does-it-play-in-a-net-zero-strategy/&sa=U&ved=2ahUKEwjJjJ-Dlbf3AhVg8XMBHXJiCKY4DxDF9AF6BAgHEAI&usg=AOvVaw1mVRkNQIZhT5HXrhYOZisF', params='', query='', fragment='')\n",
      "ParseResult(scheme='https', netloc='www.edie.net', path='/partner-content/free-webinar-what-is-a-carbon-life-cycle-assessment-and-what-role-does-it-play-in-a-net-zero-strategy/&sa=U&ved=2ahUKEwjJjJ-Dlbf3AhVg8XMBHXJiCKY4DxDRjwV6BAgHEAM&usg=AOvVaw0wvdDTZNWZAZAPIiDGHK5p', params='', query='', fragment='')\n",
      "ParseResult(scheme='https', netloc='www.businesswire.com', path='/news/home/20220426005862/en/New-EcoStruxure%25E2%2584%25A2-Building-Solutions-From-Schneider-Electric-Answer-Today%25E2%2580%2599s-Imperative-to-Deliver-Net-Zero-Carbon-Buildings&sa=U&ved=2ahUKEwjJjJ-Dlbf3AhVg8XMBHXJiCKY4DxDF9AF6BAgCEAI&usg=AOvVaw1e5nG8cQq4yTZ4PzfvIuSc', params='', query='', fragment='')\n",
      "ParseResult(scheme='https', netloc='www.businesswire.com', path='/news/home/20220426005862/en/New-EcoStruxure%25E2%2584%25A2-Building-Solutions-From-Schneider-Electric-Answer-Today%25E2%2580%2599s-Imperative-to-Deliver-Net-Zero-Carbon-Buildings&sa=U&ved=2ahUKEwjJjJ-Dlbf3AhVg8XMBHXJiCKY4DxDRjwV6BAgCEAM&usg=AOvVaw3FXhscRuwSmv_daQ1u1tyb', params='', query='', fragment='')\n",
      "ParseResult(scheme='https', netloc='www.thenational.wales', path='/environment/20101503.western-power-distribution-makes-bold-net-zero-pledge/&sa=U&ved=2ahUKEwjJjJ-Dlbf3AhVg8XMBHXJiCKY4DxDF9AF6BAgGEAI&usg=AOvVaw132OdkdQvtRs9xBLDS3SNV', params='', query='', fragment='')\n",
      "ParseResult(scheme='https', netloc='www.thenational.wales', path='/environment/20101503.western-power-distribution-makes-bold-net-zero-pledge/&sa=U&ved=2ahUKEwjJjJ-Dlbf3AhVg8XMBHXJiCKY4DxDRjwV6BAgGEAM&usg=AOvVaw3nmuDtIOYrVOuUMrYDVUQH', params='', query='', fragment='')\n"
     ]
    }
   ],
   "source": [
    "# use urllib and find the count of how many ruls have the same domain in cleaned_urls\n",
    "look_up = {}\n",
    "for i in cleaned_urls:\n",
    "    url = urllib.parse.urlparse(i)\n",
    "    # print(url)\n",
    "    domain = url.netloc\n",
    "    if domain in look_up:\n",
    "        look_up[domain] += 1\n",
    "    else:\n",
    "        look_up[domain] = 1\n",
    "    # print(domain)\n",
    "\n",
    "print(look_up)\n",
    "\n",
    "# for i in cleaned_urls:\n",
    "#     req = r.get(i)\n",
    "#     print(req.headers)\n",
    "#     print(req.status_code)"
   ]
  },
  {
   "cell_type": "code",
   "execution_count": null,
   "metadata": {},
   "outputs": [],
   "source": []
  },
  {
   "cell_type": "code",
   "execution_count": null,
   "metadata": {},
   "outputs": [],
   "source": []
  }
 ],
 "metadata": {
  "interpreter": {
   "hash": "31f2aee4e71d21fbe5cf8b01ff0e069b9275f58929596ceb00d14d90e3e16cd6"
  },
  "kernelspec": {
   "display_name": "Python 3.9.7 64-bit",
   "language": "python",
   "name": "python3"
  },
  "language_info": {
   "codemirror_mode": {
    "name": "ipython",
    "version": 3
   },
   "file_extension": ".py",
   "mimetype": "text/x-python",
   "name": "python",
   "nbconvert_exporter": "python",
   "pygments_lexer": "ipython3",
   "version": "3.9.7"
  },
  "orig_nbformat": 4
 },
 "nbformat": 4,
 "nbformat_minor": 2
}
