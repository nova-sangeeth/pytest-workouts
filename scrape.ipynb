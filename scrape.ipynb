{
 "cells": [
  {
   "cell_type": "code",
   "execution_count": null,
   "metadata": {},
   "outputs": [],
   "source": [
    "import requests as r\n",
    "import bs4\n",
    "import urllib\n",
    "from newspaper import Article\n",
    "import spacy\n",
    "import re"
   ]
  },
  {
   "cell_type": "code",
   "execution_count": null,
   "metadata": {},
   "outputs": [],
   "source": [
    "import nltk\n",
    "nltk.download('punkt')"
   ]
  },
  {
   "cell_type": "code",
   "execution_count": null,
   "metadata": {},
   "outputs": [],
   "source": [
    "\n",
    "# !python -m spacy download en_core_web_sm\n"
   ]
  },
  {
   "cell_type": "code",
   "execution_count": null,
   "metadata": {},
   "outputs": [],
   "source": [
    "nlp = spacy.load(\"en_core_web_sm\")"
   ]
  },
  {
   "cell_type": "code",
   "execution_count": null,
   "metadata": {},
   "outputs": [],
   "source": [
    "url_main = \"https://www.google.com/search\"\n",
    "query = \"RCB\"\n",
    "tbm = \"nws\"\n",
    "start = \"15\"\n",
    "\n",
    "URL = f\"{url_main}?q={query}&tbm={tbm}&start={start}\"\n"
   ]
  },
  {
   "cell_type": "code",
   "execution_count": null,
   "metadata": {},
   "outputs": [],
   "source": [
    "url = \"https://economictimes.indiatimes.com/small-biz/sme-sector/5-ways-your-company-can-be-carbon-neutral/articleshow/91431060.cms\"\n",
    "\n",
    "\n",
    "def get_html(url):\n",
    "    response = r.get(url)\n",
    "    return response.content\n",
    "\n",
    "\n",
    "def get_content(html):\n",
    "    soup = bs4.BeautifulSoup(html, 'html.parser')\n",
    "    return soup.find_all('p')\n",
    "\n",
    "\n",
    "def get_text(content):\n",
    "    text = []\n",
    "    for i in content:\n",
    "        text.append(i.text)\n",
    "    return text\n",
    "\n",
    "\n",
    "def check_url_validity(urls):\n",
    "    for i in urls:\n",
    "        req = r.get(i)\n",
    "        return True if req.status_code == 200 else False\n",
    "\n",
    "\n",
    "def clean_urls(urls):\n",
    "    cleaned_urls = []\n",
    "    for i in urls:\n",
    "        if i.startswith('/url?q=https://www'):\n",
    "            link = i.replace('/url?q=', '')\n",
    "            cleaned_urls.append(link)\n",
    "    return cleaned_urls\n",
    "\n",
    "\n",
    "def get_hrefs(html):\n",
    "    soup = bs4.BeautifulSoup(html, 'html.parser')\n",
    "    hrefs = []\n",
    "    for i in soup.find_all('a'):\n",
    "        hrefs.append(i.get('href'))\n",
    "    return hrefs\n",
    "\n",
    "\n",
    "def get_article(url):\n",
    "    article = Article(url)\n",
    "    article.download()\n",
    "    article.parse()\n",
    "    return article.text\n",
    "\n",
    "\n",
    "def list_to_string(list):\n",
    "    return ' '.join(list)\n",
    "\n",
    "\n",
    "def remove_special_characters(text):\n",
    "    cleaned_text = re.sub(r\"[^a-zA-Z0-9 ]\", \"\", text)\n",
    "    return cleaned_text\n",
    "\n",
    "\n",
    "def get_keywords(text, count=None):\n",
    "    doc = nlp(text)\n",
    "    words = [token.text for token in doc if token.is_stop != True]\n",
    "    keywords = set(words)\n",
    "    return len(keywords) if count else keywords\n"
   ]
  },
  {
   "cell_type": "code",
   "execution_count": null,
   "metadata": {},
   "outputs": [],
   "source": [
    "\n",
    "html = get_html(url)\n",
    "content = get_content(html)\n",
    "text = list_to_string(get_text(content))\n",
    "\n",
    "cleaned_text = remove_special_characters(text)\n",
    "cleaned_text\n",
    "\n",
    "keywords = get_keywords(cleaned_text)\n",
    "keywords"
   ]
  }
 ],
 "metadata": {
  "interpreter": {
   "hash": "2dec88fdd1184d4c5d842496b8ff3ed4cbe810fb929f2402ac3de3544bb48ac8"
  },
  "kernelspec": {
   "display_name": "Python 3.9.7 ('env': venv)",
   "language": "python",
   "name": "python3"
  },
  "language_info": {
   "codemirror_mode": {
    "name": "ipython",
    "version": 3
   },
   "file_extension": ".py",
   "mimetype": "text/x-python",
   "name": "python",
   "nbconvert_exporter": "python",
   "pygments_lexer": "ipython3",
   "version": "3.9.7"
  },
  "orig_nbformat": 4
 },
 "nbformat": 4,
 "nbformat_minor": 2
}
