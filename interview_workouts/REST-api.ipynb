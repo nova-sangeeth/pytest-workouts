{
 "cells": [
  {
   "cell_type": "code",
   "execution_count": 37,
   "metadata": {},
   "outputs": [
    {
     "name": "stdout",
     "output_type": "stream",
     "text": [
      "Total pages: 183\n"
     ]
    },
    {
     "data": {
      "text/plain": [
       "134"
      ]
     },
     "execution_count": 37,
     "metadata": {},
     "output_type": "execute_result"
    }
   ],
   "source": [
    "import requests as r\n",
    "from typing import Optional\n",
    "'''\n",
    "    team1 = home team\n",
    "    team2 = visiting team\n",
    "    -- Both are the same teams\n",
    "'''\n"
   ]
  },
  {
   "cell_type": "code",
   "execution_count": null,
   "metadata": {},
   "outputs": [],
   "source": [
    "\n",
    "\n",
    "def fetch(\n",
    "    url,\n",
    "    year: Optional[int] = None,\n",
    "    team: Optional[str] = None,\n",
    "    page: Optional[int] = None,\n",
    "):\n",
    "    # send query params to the url\n",
    "    response = r.get(\n",
    "        url=url,\n",
    "        params={\n",
    "            'year': f'{year}',\n",
    "            'team': f'{team}',\n",
    "            'page': f'{page}'\n",
    "        }\n",
    "    )\n",
    "\n",
    "    return response.json()\n"
   ]
  },
  {
   "cell_type": "code",
   "execution_count": null,
   "metadata": {},
   "outputs": [],
   "source": [
    "def getNumDraws(team, year):\n",
    "    initial_response = fetch(\n",
    "        url=\"https://jsonmock.hackerrank.com/api/football_matches\",\n",
    "        team=team,\n",
    "        year=year,\n",
    "        page=None\n",
    "    )\n",
    "\n",
    "    total_pages = initial_response.get('total_pages')\n",
    "    print(f\"Total pages: {total_pages}\")\n",
    "    data_dump = []\n",
    "    for i in range(5):\n",
    "    # for i in range(total_pages):\n",
    "        response = fetch(\n",
    "            url=\"https://jsonmock.hackerrank.com/api/football_matches\",\n",
    "            team=team,\n",
    "            year=year,\n",
    "            page=i\n",
    "        )\n",
    "        res = response.get('data')\n",
    "        for j in res:\n",
    "            data_dump.append(j)\n",
    "\n",
    "    draw_match = 0\n",
    "    for data in data_dump:\n",
    "        if data['team1goals'] == data['team2goals']:\n",
    "            draw_match += 1\n",
    "            print(data)\n",
    "    return draw_match\n",
    "\n",
    "\n",
    "getNumDraws(team=\"Manchester United\", year=2011)\n"
   ]
  },
  {
   "cell_type": "code",
   "execution_count": null,
   "metadata": {},
   "outputs": [],
   "source": [
    "\n",
    "def getTotalGoals(team: str, year: int):\n",
    "    initial_response = fetch(\n",
    "        url=\"https://jsonmock.hackerrank.com/api/football_matches\",\n",
    "        team=team,\n",
    "        year=year,\n",
    "        page=None\n",
    "    )\n",
    "\n",
    "    total_pages = initial_response.get('total_pages')\n",
    "    print(f\"Total pages: {total_pages}\")\n",
    "    data_dump = []\n",
    "    for i in range(5):\n",
    "    # for i in range(total_pages):\n",
    "        response = fetch(\n",
    "            url=\"https://jsonmock.hackerrank.com/api/football_matches\",\n",
    "            team=team,\n",
    "            year=year,\n",
    "            page=i\n",
    "        )\n",
    "        res = response.get('data')\n",
    "        for j in res:\n",
    "            data_dump.append(j)\n",
    "\n",
    "    goals = 0\n",
    "    for data in data_dump:\n",
    "        team1_goals = data['team1goals']\n",
    "        if team1_goals:\n",
    "            goals += int(team1_goals)\n",
    "\n",
    "        team2_goals = data['team2goals']\n",
    "        if team2_goals:\n",
    "            goals += int(team2_goals)\n",
    "\n",
    "    return goals\n",
    "\n",
    "\n",
    "getTotalGoals(team=\"Barcelona\", year=2016)\n"
   ]
  }
 ],
 "metadata": {
  "interpreter": {
   "hash": "7c1d6ccb1c76461a781d66d8e104a647a3e3687a699ad52782bfb0c55c9feb51"
  },
  "kernelspec": {
   "display_name": "Python 3.9.7 ('env': venv)",
   "language": "python",
   "name": "python3"
  },
  "language_info": {
   "codemirror_mode": {
    "name": "ipython",
    "version": 3
   },
   "file_extension": ".py",
   "mimetype": "text/x-python",
   "name": "python",
   "nbconvert_exporter": "python",
   "pygments_lexer": "ipython3",
   "version": "3.9.7"
  },
  "orig_nbformat": 4
 },
 "nbformat": 4,
 "nbformat_minor": 2
}
