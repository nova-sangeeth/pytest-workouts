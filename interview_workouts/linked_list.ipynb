{
 "cells": [
  {
   "cell_type": "code",
   "execution_count": null,
   "metadata": {},
   "outputs": [],
   "source": [
    "# Linked list \n",
    "\n",
    "class Node:\n",
    "    def __init__(self, data):\n",
    "        self.data = data\n",
    "        self.next = None\n",
    "\n",
    "\n",
    "class LinkedList:\n",
    "    def __init__(self):\n",
    "        self.head = None\n",
    "\n",
    "    def print_list(self):\n",
    "        temp = self.head\n",
    "        # print(temp.data)\n",
    "        while (temp):\n",
    "            print(temp.data)\n",
    "            temp = temp.next\n",
    "\n"
   ]
  },
  {
   "cell_type": "code",
   "execution_count": null,
   "metadata": {},
   "outputs": [],
   "source": [
    "ll = LinkedList()"
   ]
  },
  {
   "cell_type": "code",
   "execution_count": null,
   "metadata": {},
   "outputs": [],
   "source": [
    "ll.head = Node(1)\n",
    "second = Node(2)\n",
    "third = Node(3)\n",
    "fourth = Node(4)\n",
    "fifth = Node(5)\n",
    "sixth = Node(6)\n",
    "\n",
    "\n",
    "ll.head.next = second\n",
    "second.next = third\n",
    "third.next = fourth\n",
    "fourth.next = fifth\n",
    "fifth.next = sixth"
   ]
  },
  {
   "cell_type": "code",
   "execution_count": null,
   "metadata": {},
   "outputs": [],
   "source": [
    "ll.print_list()"
   ]
  },
  {
   "cell_type": "code",
   "execution_count": null,
   "metadata": {},
   "outputs": [],
   "source": [
    "# traverse a linked list\n",
    "print(ll.head.data)\n",
    "print(ll.head.next.data)\n",
    "print(ll.head.next.next.data)\n",
    "print(ll.head.next.next.next.data)\n",
    "print(ll.head.next.next.next.next.data)\n",
    "print(ll.head.next.next.next.next.next.data)\n",
    "\n"
   ]
  },
  {
   "cell_type": "code",
   "execution_count": null,
   "metadata": {},
   "outputs": [],
   "source": [
    "# reverse a linked list\\\n",
    "\n",
    "class Node:\n",
    "    def __init__(self, data):\n",
    "        self.data = data\n",
    "        self.next = None\n",
    "\n",
    "class LinkedList:\n",
    "    def __init__(self):\n",
    "        self.head = None\n",
    "\n",
    "    def printList(self):\n",
    "        while self.head:\n",
    "            print(self.head.data)\n",
    "            self.head = self.head.next\n",
    "\n",
    "    def reverseList(self): # reverse a singly linked list.\n",
    "        previous = None\n",
    "        current = self.head\n",
    "        while current:\n",
    "            next = current.next\n",
    "            current.next = previous\n",
    "            previous = current\n",
    "            current = next\n",
    "        return previous\n",
    "\n",
    "\n",
    "ll = LinkedList()\n",
    "ll.head = Node(1)\n",
    "second = Node(2)\n",
    "third = Node(3)\n",
    "fourth = Node(4)\n",
    "fifth = Node(5)\n",
    "sixth = Node(6)\n"
   ]
  },
  {
   "cell_type": "code",
   "execution_count": null,
   "metadata": {},
   "outputs": [],
   "source": [
    "ll.head.next = second\n",
    "second.next = third\n",
    "third.next = fourth\n",
    "fourth.next = fifth\n",
    "fifth.next = sixth\n",
    "\n",
    "ll.reverseList()\n",
    "# ll.printList()\n"
   ]
  },
  {
   "cell_type": "code",
   "execution_count": null,
   "metadata": {},
   "outputs": [],
   "source": []
  }
 ],
 "metadata": {
  "interpreter": {
   "hash": "7c1d6ccb1c76461a781d66d8e104a647a3e3687a699ad52782bfb0c55c9feb51"
  },
  "kernelspec": {
   "display_name": "Python 3.9.7 ('env': venv)",
   "language": "python",
   "name": "python3"
  },
  "language_info": {
   "codemirror_mode": {
    "name": "ipython",
    "version": 3
   },
   "file_extension": ".py",
   "mimetype": "text/x-python",
   "name": "python",
   "nbconvert_exporter": "python",
   "pygments_lexer": "ipython3",
   "version": "3.9.7"
  },
  "orig_nbformat": 4
 },
 "nbformat": 4,
 "nbformat_minor": 2
}
