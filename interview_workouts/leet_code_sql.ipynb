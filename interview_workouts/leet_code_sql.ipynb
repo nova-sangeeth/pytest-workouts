{
 "cells": [
  {
   "cell_type": "code",
   "execution_count": 2,
   "metadata": {},
   "outputs": [
    {
     "data": {
      "text/plain": [
       "'\\n+-----------+-----------+------------+--------------+\\n| player_id | device_id | event_date | games_played |\\n+-----------+-----------+------------+--------------+\\n| 1         | 2         | 2016-03-01 | 5            |\\n| 1         | 2         | 2016-05-02 | 6            |\\n| 2         | 3         | 2017-06-25 | 1            |\\n| 3         | 1         | 2016-03-02 | 0            |\\n| 3         | 4         | 2018-07-03 | 5            |\\n+-----------+-----------+------------+--------------+\\n\\n+--------------+---------+\\n| Column Name  | Type    |\\n+--------------+---------+\\n| player_id    | int     |\\n| device_id    | int     |\\n| event_date   | date    |\\n| games_played | int     |\\n+--------------+---------+\\n(player_id, event_date) is the primary key of this table.\\nThis table shows the activity of players of some games.\\nEach row is a record of a player who logged in and played a number of games (possibly 0) before logging out on someday using some device.\\n'"
      ]
     },
     "execution_count": 2,
     "metadata": {},
     "output_type": "execute_result"
    }
   ],
   "source": [
    "\"\"\"\n",
    "+-----------+-----------+------------+--------------+\n",
    "| player_id | device_id | event_date | games_played |\n",
    "+-----------+-----------+------------+--------------+\n",
    "| 1         | 2         | 2016-03-01 | 5            |\n",
    "| 1         | 2         | 2016-05-02 | 6            |\n",
    "| 2         | 3         | 2017-06-25 | 1            |\n",
    "| 3         | 1         | 2016-03-02 | 0            |\n",
    "| 3         | 4         | 2018-07-03 | 5            |\n",
    "+-----------+-----------+------------+--------------+\n",
    "\n",
    "+--------------+---------+\n",
    "| Column Name  | Type    |\n",
    "+--------------+---------+\n",
    "| player_id    | int     |\n",
    "| device_id    | int     |\n",
    "| event_date   | date    |\n",
    "| games_played | int     |\n",
    "+--------------+---------+\n",
    "(player_id, event_date) is the primary key of this table.\n",
    "This table shows the activity of players of some games.\n",
    "Each row is a record of a player who logged in and played a number of games (possibly 0) before logging out on someday using some device.\n",
    "\"\"\"\n",
    "\n",
    "# Write an SQL query to report the first login date for each player.\n",
    "\n",
    "# Return the result table in any order.\n",
    "\n",
    "select player_id, min(event_date) as first_login from Activity group by player_id;\n",
    "\n"
   ]
  },
  {
   "cell_type": "code",
   "execution_count": 3,
   "metadata": {},
   "outputs": [
    {
     "ename": "IndentationError",
     "evalue": "unexpected indent (3646862684.py, line 44)",
     "output_type": "error",
     "traceback": [
      "\u001b[0;36m  Input \u001b[0;32mIn [3]\u001b[0;36m\u001b[0m\n\u001b[0;31m    u.name as name,\u001b[0m\n\u001b[0m    ^\u001b[0m\n\u001b[0;31mIndentationError\u001b[0m\u001b[0;31m:\u001b[0m unexpected indent\n"
     ]
    }
   ],
   "source": [
    "\"\"\"\n",
    "Table: Users\n",
    "\n",
    "+---------------+---------+\n",
    "| Column Name   | Type    |\n",
    "+---------------+---------+\n",
    "| id            | int     |\n",
    "| name          | varchar |\n",
    "+---------------+---------+\n",
    "id is the primary key for this table.\n",
    "name is the name of the user.\n",
    "\"\"\"\n",
    "\n",
    "\"\"\"\n",
    "Table: Rides\n",
    "\n",
    "+---------------+---------+\n",
    "| Column Name   | Type    |\n",
    "+---------------+---------+\n",
    "| id            | int     |\n",
    "| user_id       | int     |\n",
    "| distance      | int     |\n",
    "+---------------+---------+\n",
    "id is the primary key for this table.\n",
    "user_id is the id of the user who traveled the distance \"distance\".\n",
    "\"\"\"\n",
    "\n",
    "\"\"\"\n",
    "+----------+--------------------+\n",
    "| name     | travelled_distance |\n",
    "+----------+--------------------+\n",
    "| Elvis    | 450                |\n",
    "\n",
    "\"\"\"\n",
    "\n",
    "\n",
    "# Write an SQL query to report the distance traveled by each user.\n",
    "\n",
    "# Return the result table ordered by travelled_distance in descending order,\n",
    "# if two or more users traveled the same distance,\n",
    "# order them by their name in ascending order.\n",
    "\n",
    "\"\"\"\n",
    "select \n",
    "    u.name as name,\n",
    "    is_null(sum(r.distance), 0) as travelled_distance,\n",
    "from\n",
    "    Users u\n",
    "join\n",
    "    Rides r\n",
    "on\n",
    "    u.id = r.user_id\n",
    "# order them by their name in ascending order.\n",
    "order by travelled_distance desc, name asc;\n",
    "\"\"\"\n",
    "\n",
    "\"\"\"\n",
    "select \n",
    "u.name, \n",
    "ifnull(sum(r.distance),0) as travelled_distance \n",
    "from users u \n",
    "left join \n",
    "rides r on u.id = r.user_id \n",
    "group by u.name order by travelled_distance desc, u.name asc\n",
    "\"\"\"\n"
   ]
  },
  {
   "cell_type": "code",
   "execution_count": null,
   "metadata": {},
   "outputs": [],
   "source": [
    "{\"headers\": [\"name\", \"travelled_distance\"], \"values\": [[\"Elvis\", 400], [\"Bob\", 317], [\"Jonathan\", 312], [\n",
    "    \"Lee\", 230], [\"Alex\", 222], [\"Alice\", 120], [\"Lee\", 120], [\"Lee\", 100], [\"Elvis\", 50]]}\n",
    "\n",
    "{\"headers\": [\"name\", \"travelled_distance\"], \"values\": [[\"Elvis\", 450], [\"Lee\", 450], [\n",
    "    \"Bob\", 317], [\"Jonathan\", 312], [\"Alex\", 222], [\"Alice\", 120], [\"Donald\", 0]]}\n",
    "\n",
    "\n",
    "{\"headers\":\n",
    "{\"Users\":[\"id\",\"name\"],\"Rides\":[\"id\",\"user_id\",\"distance\"]},\n",
    "\"rows\":{\"Users\":[[1,\"Alice\"],[2,\"Bob\"],[3,\"Alex\"],[4,\"Donald\"],[7,\"Lee\"],[13,\"Jonathan\"],[19,\"Elvis\"]],\n",
    "\"Rides\":[[1,1,120],[2,2,317],[3,3,222],[4,7,100],[5,13,312],[6,19,50],[7,7,120],[8,19,400],[9,7,230]]}}"
   ]
  }
 ],
 "metadata": {
  "interpreter": {
   "hash": "2dec88fdd1184d4c5d842496b8ff3ed4cbe810fb929f2402ac3de3544bb48ac8"
  },
  "kernelspec": {
   "display_name": "Python 3.9.7 ('env': venv)",
   "language": "python",
   "name": "python3"
  },
  "language_info": {
   "codemirror_mode": {
    "name": "ipython",
    "version": 3
   },
   "file_extension": ".py",
   "mimetype": "text/x-python",
   "name": "python",
   "nbconvert_exporter": "python",
   "pygments_lexer": "ipython3",
   "version": "3.9.7"
  },
  "orig_nbformat": 4
 },
 "nbformat": 4,
 "nbformat_minor": 2
}
